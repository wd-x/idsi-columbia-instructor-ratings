{
 "cells": [
  {
   "cell_type": "markdown",
   "metadata": {},
   "source": [
    "# Documentation\n",
    "\n",
    "## Homepage and new base location\n",
    "- What you see depends on whether you have added a base location, if running for the first time, it will ask you to add a new base location. Click on New Base Location in the navigation bar on top to add one.\n",
    "- Type in a location name and location address, for example, \"SIPA Columbia\" and \"Amsterdam Avenue New York\"; or \"London School of Economics\", \"London WC2A 2AE\".\n",
    "- If your location exists, it will be added to the list of base locations, and you will be asked to activate it. Click 'Set Active' next to the base location entry. You will be redirected to the homepage.\n",
    "\n",
    "## Changing base locations\n",
    "- If you have two or more base locations, you may switch between them at the `Saved Base Locations` link in the nav bar or `Change current base location` link in the homepage. Select `Set Active` next to the desired base location.\n",
    "\n",
    "## Adding restaurants\n",
    "- You may view your database of restaurants associated with the base location by selecting the appropriate links. If there are none, you can choose to `Autopopulate restaurants at base location`, which will pull data from Google's servers. However, as a html progress bar has not been implemented, there will be a lag of less than a minute. You may see the progress of the information gathering in the cmd window or terminal window where `flask run` was used to initialize the webapp. Please wait until the page refreshes.\n",
    "\n",
    "- After the initial autopopulate, you can also add restaurants yourself using the `Add new restaurant` link in the restaurants page. This works similarly to adding a new base location.\n",
    "\n",
    "## Viewing restaurants\n",
    "- After restaurants have been populated, you may see the restaurants in the database. Opening Hours can be selected and information displayed where available. You may delete any entries as desired\n",
    "\n",
    "## Filtering restaurants\n",
    "- Currently, only filtering by price level is implemented. Also, only restaurants with price level information will be displayed as appropriate. Price level 3, for example, displays all restaurants priced at level 3 and below.\n",
    "\n",
    "## I'm feeling lucky\n",
    "- Randomly picks a restaurant for you!\n",
    "\n",
    "** At all times, you can switch between base locations and separate restaurant databases will be displayed. **\n",
    "\n",
    "## Clearing all data\n",
    "- Clear all data by clicking the link at the bottom of the restaurants page."
   ]
  }
 ],
 "metadata": {
  "kernelspec": {
   "display_name": "Python 3",
   "language": "python",
   "name": "python3"
  },
  "language_info": {
   "codemirror_mode": {
    "name": "ipython",
    "version": 3
   },
   "file_extension": ".py",
   "mimetype": "text/x-python",
   "name": "python",
   "nbconvert_exporter": "python",
   "pygments_lexer": "ipython3",
   "version": "3.6.3"
  }
 },
 "nbformat": 4,
 "nbformat_minor": 2
}
