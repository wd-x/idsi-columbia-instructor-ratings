{
 "cells": [
  {
   "cell_type": "code",
   "execution_count": 3,
   "metadata": {},
   "outputs": [
    {
     "name": "stderr",
     "output_type": "stream",
     "text": [
      "100%|████████████████████████████████████████████████████████████████████████████████| 100/100 [00:22<00:00,  4.42it/s]\n"
     ]
    }
   ],
   "source": [
    "from bs4 import BeautifulSoup \n",
    "import re\n",
    "from urllib.request import urlopen \n",
    "import pandas as pd\n",
    "from tqdm import tqdm\n",
    "\n",
    "df = pd.DataFrame(columns=['review_id', 'review_date' ,'review_text', 'agree_score', 'disagree_score',\n",
    "                             'funny_score', 'professor_id', 'professor_name'])\n",
    "for i in tqdm(range(20000, 20100)):\n",
    "    url = 'http://culpa.info/reviews/{}'.format(i)\n",
    "    r = urlopen(url).read() \n",
    "    soup = BeautifulSoup(r, \"lxml\") \n",
    "    # if review doesn't exist, it redirects to home page, maybe use len() to check if we got redirected\n",
    "    if len(soup.text) > 15500:\n",
    "        continue\n",
    "\n",
    "    professor_id = int(soup.find(href=re.compile('(professor)'))['href'][12:])\n",
    "    professor_name = soup.find(href=re.compile('(professor)')).text\n",
    "    review_id = int(soup.find(href=re.compile('(reviews)'))['href'][9:])\n",
    "    review_text = soup.find(class_='review_content').text\n",
    "    review_date = pd.Timestamp(soup.find(class_='date').text.strip())\n",
    "    agree_score = int(re.findall('\\d+', soup.find(class_='agree')['value'])[0])\n",
    "    disagree_score = int(re.findall('\\d+', soup.find(class_='disagree')['value'])[0])\n",
    "    funny_score = int(re.findall('\\d+', soup.find(class_='funny')['value'])[0])\n",
    "\n",
    "    to_append = pd.DataFrame(data=[review_id, review_date, review_text, agree_score, \n",
    "                              disagree_score, funny_score, professor_id, professor_name],\n",
    "                            index=['review_id', 'review_date' ,'review_text', 'agree_score', \n",
    "                              'disagree_score', 'funny_score', 'professor_id', 'professor_name']).T\n",
    "    \n",
    "    df = pd.concat([df, to_append], ignore_index=True)"
   ]
  },
  {
   "cell_type": "code",
   "execution_count": 9,
   "metadata": {},
   "outputs": [],
   "source": [
    "df.professor_id = df.professor_id.apply(int)"
   ]
  }
 ],
 "metadata": {
  "kernelspec": {
   "display_name": "Python 3",
   "language": "python",
   "name": "python3"
  }
 },
 "nbformat": 4,
 "nbformat_minor": 2
}
