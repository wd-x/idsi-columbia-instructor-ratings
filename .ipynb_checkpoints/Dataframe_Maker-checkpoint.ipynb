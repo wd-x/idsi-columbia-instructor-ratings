{
 "cells": [
  {
   "cell_type": "code",
   "execution_count": 1,
   "metadata": {},
   "outputs": [],
   "source": [
    "import pandas as pd\n",
    "import glob"
   ]
  },
  {
   "cell_type": "code",
   "execution_count": 14,
   "metadata": {},
   "outputs": [],
   "source": [
    "pattern = 'data/*.csv'\n",
    "csv_files = glob.glob(pattern)"
   ]
  },
  {
   "cell_type": "code",
   "execution_count": 16,
   "metadata": {},
   "outputs": [
    {
     "data": {
      "text/plain": [
       "['data/Course ID\\\\0 - index_01_5621.csv',\n",
       " 'data/Course ID\\\\1 - index_5621_5945.csv',\n",
       " 'data/Course ID\\\\2 - index_5945_10000.csv',\n",
       " 'data/Course ID\\\\3 - index_10000_15000.csv',\n",
       " 'data/Course ID\\\\4 - index_15000_20000.csv',\n",
       " 'data/Course ID\\\\5 - index_20000_23000.csv',\n",
       " 'data/Course ID\\\\6 - index_23000_end.csv']"
      ]
     },
     "execution_count": 16,
     "metadata": {},
     "output_type": "execute_result"
    }
   ],
   "source": [
    "pattern1 = 'data/Course ID/*.csv'\n",
    "cols2add = glob.glob(pattern1)\n",
    "cols2add"
   ]
  },
  {
   "cell_type": "code",
   "execution_count": 4,
   "metadata": {},
   "outputs": [],
   "source": [
    "frames = []\n",
    "for csv in csv_files:\n",
    "    df = pd.read_csv(csv)\n",
    "    frames.append(df)\n",
    "\n",
    "reviews = pd.concat(frames).drop(['Unnamed: 0', 'course_id', 'course_name'],axis=1)"
   ]
  },
  {
   "cell_type": "code",
   "execution_count": 24,
   "metadata": {},
   "outputs": [],
   "source": [
    "frames = []\n",
    "for cols in cols2add:\n",
    "    df = pd.read_csv(cols)\n",
    "    frames.append(df)\n",
    "    \n",
    "course_id = pd.concat(frames).drop(['Unnamed: 0', 'review_id'], axis = 1)"
   ]
  },
  {
   "cell_type": "code",
   "execution_count": 11,
   "metadata": {},
   "outputs": [
    {
     "data": {
      "text/html": [
       "<div>\n",
       "<style scoped>\n",
       "    .dataframe tbody tr th:only-of-type {\n",
       "        vertical-align: middle;\n",
       "    }\n",
       "\n",
       "    .dataframe tbody tr th {\n",
       "        vertical-align: top;\n",
       "    }\n",
       "\n",
       "    .dataframe thead th {\n",
       "        text-align: right;\n",
       "    }\n",
       "</style>\n",
       "<table border=\"1\" class=\"dataframe\">\n",
       "  <thead>\n",
       "    <tr style=\"text-align: right;\">\n",
       "      <th></th>\n",
       "      <th>review_id</th>\n",
       "      <th>review_date</th>\n",
       "      <th>review_text</th>\n",
       "      <th>agree_score</th>\n",
       "      <th>disagree_score</th>\n",
       "      <th>funny_score</th>\n",
       "      <th>professor_id</th>\n",
       "      <th>professor_name</th>\n",
       "    </tr>\n",
       "  </thead>\n",
       "  <tbody>\n",
       "    <tr>\n",
       "      <th>0</th>\n",
       "      <td>5</td>\n",
       "      <td>12/31/1999 0:00</td>\n",
       "      <td>\\r\\nThinking about taking this class because y...</td>\n",
       "      <td>0</td>\n",
       "      <td>10</td>\n",
       "      <td>0</td>\n",
       "      <td>8.0</td>\n",
       "      <td>Shapiro, Jill</td>\n",
       "    </tr>\n",
       "    <tr>\n",
       "      <th>1</th>\n",
       "      <td>6</td>\n",
       "      <td>12/31/1999 0:00</td>\n",
       "      <td>\\r\\nD'Altroy has the skill of taking an intere...</td>\n",
       "      <td>0</td>\n",
       "      <td>1</td>\n",
       "      <td>0</td>\n",
       "      <td>9.0</td>\n",
       "      <td>D'Altroy, Terence</td>\n",
       "    </tr>\n",
       "    <tr>\n",
       "      <th>2</th>\n",
       "      <td>7</td>\n",
       "      <td>12/31/1999 0:00</td>\n",
       "      <td>\\r\\nTerry D'Altroy is not really a bad profess...</td>\n",
       "      <td>0</td>\n",
       "      <td>0</td>\n",
       "      <td>0</td>\n",
       "      <td>9.0</td>\n",
       "      <td>D'Altroy, Terence</td>\n",
       "    </tr>\n",
       "    <tr>\n",
       "      <th>3</th>\n",
       "      <td>8</td>\n",
       "      <td>12/31/1999 0:00</td>\n",
       "      <td>\\r\\nSince 'Anthrop' does end in 'ology' this c...</td>\n",
       "      <td>0</td>\n",
       "      <td>3</td>\n",
       "      <td>0</td>\n",
       "      <td>10.0</td>\n",
       "      <td>Cords, Marina</td>\n",
       "    </tr>\n",
       "    <tr>\n",
       "      <th>4</th>\n",
       "      <td>9</td>\n",
       "      <td>12/31/1999 0:00</td>\n",
       "      <td>\\r\\nThis monkey class is so awful. Be prepared...</td>\n",
       "      <td>1</td>\n",
       "      <td>4</td>\n",
       "      <td>0</td>\n",
       "      <td>10.0</td>\n",
       "      <td>Cords, Marina</td>\n",
       "    </tr>\n",
       "  </tbody>\n",
       "</table>\n",
       "</div>"
      ],
      "text/plain": [
       "   review_id      review_date  \\\n",
       "0          5  12/31/1999 0:00   \n",
       "1          6  12/31/1999 0:00   \n",
       "2          7  12/31/1999 0:00   \n",
       "3          8  12/31/1999 0:00   \n",
       "4          9  12/31/1999 0:00   \n",
       "\n",
       "                                         review_text  agree_score  \\\n",
       "0  \\r\\nThinking about taking this class because y...            0   \n",
       "1  \\r\\nD'Altroy has the skill of taking an intere...            0   \n",
       "2  \\r\\nTerry D'Altroy is not really a bad profess...            0   \n",
       "3  \\r\\nSince 'Anthrop' does end in 'ology' this c...            0   \n",
       "4  \\r\\nThis monkey class is so awful. Be prepared...            1   \n",
       "\n",
       "   disagree_score  funny_score  professor_id     professor_name  \n",
       "0              10            0           8.0      Shapiro, Jill  \n",
       "1               1            0           9.0  D'Altroy, Terence  \n",
       "2               0            0           9.0  D'Altroy, Terence  \n",
       "3               3            0          10.0      Cords, Marina  \n",
       "4               4            0          10.0      Cords, Marina  "
      ]
     },
     "execution_count": 11,
     "metadata": {},
     "output_type": "execute_result"
    }
   ],
   "source": [
    "reviews.head()"
   ]
  },
  {
   "cell_type": "code",
   "execution_count": 30,
   "metadata": {},
   "outputs": [
    {
     "data": {
      "text/plain": [
       "(25569, 8)"
      ]
     },
     "execution_count": 30,
     "metadata": {},
     "output_type": "execute_result"
    }
   ],
   "source": [
    "reviews.shape"
   ]
  },
  {
   "cell_type": "code",
   "execution_count": 35,
   "metadata": {},
   "outputs": [
    {
     "data": {
      "text/html": [
       "<div>\n",
       "<style scoped>\n",
       "    .dataframe tbody tr th:only-of-type {\n",
       "        vertical-align: middle;\n",
       "    }\n",
       "\n",
       "    .dataframe tbody tr th {\n",
       "        vertical-align: top;\n",
       "    }\n",
       "\n",
       "    .dataframe thead th {\n",
       "        text-align: right;\n",
       "    }\n",
       "</style>\n",
       "<table border=\"1\" class=\"dataframe\">\n",
       "  <thead>\n",
       "    <tr style=\"text-align: right;\">\n",
       "      <th></th>\n",
       "      <th>course_id</th>\n",
       "      <th>course_name</th>\n",
       "    </tr>\n",
       "  </thead>\n",
       "  <tbody>\n",
       "    <tr>\n",
       "      <th>0</th>\n",
       "      <td>5.0</td>\n",
       "      <td>[EEEB V1010] The Human Species: Its Place in N...</td>\n",
       "    </tr>\n",
       "    <tr>\n",
       "      <th>1</th>\n",
       "      <td>3379.0</td>\n",
       "      <td>[C1010] University Writing</td>\n",
       "    </tr>\n",
       "    <tr>\n",
       "      <th>2</th>\n",
       "      <td>3379.0</td>\n",
       "      <td>[C1010] University Writing</td>\n",
       "    </tr>\n",
       "    <tr>\n",
       "      <th>3</th>\n",
       "      <td>7.0</td>\n",
       "      <td>[V1011/W3011] Behavioral Biology of the Living...</td>\n",
       "    </tr>\n",
       "    <tr>\n",
       "      <th>4</th>\n",
       "      <td>7.0</td>\n",
       "      <td>[V1011/W3011] Behavioral Biology of the Living...</td>\n",
       "    </tr>\n",
       "  </tbody>\n",
       "</table>\n",
       "</div>"
      ],
      "text/plain": [
       "   course_id                                        course_name\n",
       "0        5.0  [EEEB V1010] The Human Species: Its Place in N...\n",
       "1     3379.0                         [C1010] University Writing\n",
       "2     3379.0                         [C1010] University Writing\n",
       "3        7.0  [V1011/W3011] Behavioral Biology of the Living...\n",
       "4        7.0  [V1011/W3011] Behavioral Biology of the Living..."
      ]
     },
     "execution_count": 35,
     "metadata": {},
     "output_type": "execute_result"
    }
   ],
   "source": [
    "#course_id.review_id = course_id.review_id.apply(int)\n",
    "course_id.head()"
   ]
  },
  {
   "cell_type": "code",
   "execution_count": 27,
   "metadata": {},
   "outputs": [
    {
     "data": {
      "text/plain": [
       "(25569, 2)"
      ]
     },
     "execution_count": 27,
     "metadata": {},
     "output_type": "execute_result"
    }
   ],
   "source": [
    "course_id.shape"
   ]
  },
  {
   "cell_type": "code",
   "execution_count": 39,
   "metadata": {},
   "outputs": [],
   "source": [
    "df = reviews.join(course_id)"
   ]
  },
  {
   "cell_type": "code",
   "execution_count": 52,
   "metadata": {},
   "outputs": [],
   "source": [
    "df.to_csv('dataframe.csv')"
   ]
  }
 ],
 "metadata": {
  "kernelspec": {
   "display_name": "Python 3",
   "language": "python",
   "name": "python3"
  },
  "language_info": {
   "codemirror_mode": {
    "name": "ipython",
    "version": 3
   },
   "file_extension": ".py",
   "mimetype": "text/x-python",
   "name": "python",
   "nbconvert_exporter": "python",
   "pygments_lexer": "ipython3",
   "version": "3.6.4"
  }
 },
 "nbformat": 4,
 "nbformat_minor": 2
}
