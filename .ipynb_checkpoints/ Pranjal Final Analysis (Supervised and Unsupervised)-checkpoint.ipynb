{
 "cells": [
  {
   "cell_type": "markdown",
   "metadata": {},
   "source": [
    "<h1><center>Intro to Data Science Industry Project</h1></center>\n",
    "<h2><center>Columbia University Professor Rating System</h2></center>"
   ]
  },
  {
   "cell_type": "markdown",
   "metadata": {},
   "source": [
    "# Table of contents\n",
    "- [The Validation Set](#validation)\n",
    "- [Using Logistic Regression For Sentiment Analysis](#modellingpranjal)\n",
    "- [Using Random Forests For Sentiment Analysis](#modellingtreespranjal)\n",
    "- [Unsupervised Analysis: PCA, NMF and Outlier Detection](#unsupervisedpranjal)"
   ]
  },
  {
   "cell_type": "markdown",
   "metadata": {},
   "source": [
    "## Import block"
   ]
  },
  {
   "cell_type": "code",
   "execution_count": 1,
   "metadata": {},
   "outputs": [
    {
     "name": "stderr",
     "output_type": "stream",
     "text": [
      "/Users/pranjalbajaj/anaconda/lib/python3.6/site-packages/nltk/twitter/__init__.py:20: UserWarning: The twython library has not been installed. Some functionality from the twitter package will not be available.\n",
      "  warnings.warn(\"The twython library has not been installed. \"\n"
     ]
    }
   ],
   "source": [
    "# Basic Libraries \n",
    "import pandas as pd\n",
    "import numpy as np\n",
    "\n",
    "# Web Scraping Tools \n",
    "from bs4 import BeautifulSoup \n",
    "from urllib.request import urlopen\n",
    "import re\n",
    "\n",
    "# NLTK\n",
    "import nltk\n",
    "from nltk.sentiment.vader import SentimentIntensityAnalyzer\n",
    "# nltk.download() # only need to do this once\n",
    "\n",
    "## Preprocessing for modelling\n",
    "from sklearn.model_selection import train_test_split\n",
    "from sklearn.model_selection import StratifiedKFold\n",
    "from sklearn.model_selection import GridSearchCV\n",
    "from sklearn.pipeline import make_pipeline\n",
    "from sklearn.model_selection import cross_val_score\n",
    "from sklearn.metrics import average_precision_score\n",
    "from sklearn.preprocessing import Normalizer\n",
    "from sklearn.preprocessing import MaxAbsScaler\n",
    "\n",
    "\n",
    "# Modelling \n",
    "\n",
    "## Models\n",
    "from sklearn.linear_model import LogisticRegression\n",
    "from sklearn.feature_extraction.text import CountVectorizer \n",
    "from sklearn.feature_extraction.text import TfidfVectorizer\n",
    "\n",
    "## Unsupervised\n",
    "from sklearn.decomposition import LatentDirichletAllocation\n",
    "from sklearn.decomposition import NMF\n",
    "from sklearn.decomposition import TruncatedSVD\n",
    "\n",
    "## Plotting\n",
    "import mglearn\n",
    "import matplotlib.pyplot as plt\n",
    "\n",
    "## Genism\n",
    "import gensim\n",
    "from gensim import corpora\n",
    "\n",
    "# progress tracker \n",
    "from tqdm import tqdm\n",
    "\n",
    "import warnings"
   ]
  },
  {
   "cell_type": "markdown",
   "metadata": {},
   "source": [
    "# The Validation Set  <a name=\"validation\"></a>"
   ]
  },
  {
   "cell_type": "code",
   "execution_count": 2,
   "metadata": {
    "collapsed": true
   },
   "outputs": [],
   "source": [
    "subset = pd.read_csv('dataframe_final.csv')[23391:] "
   ]
  },
  {
   "cell_type": "markdown",
   "metadata": {},
   "source": [
    "## Cleaning up\n",
    "\n",
    "#### 1. Remove white spaces and symbols\n",
    "- Remove  \\r \\r \\r \\n **from everywhere**"
   ]
  },
  {
   "cell_type": "code",
   "execution_count": null,
   "metadata": {
    "collapsed": true
   },
   "outputs": [],
   "source": [
    "#for i in range(len(subset)):\n",
    "    #subset['review_text'][i] = subset['review_text'][i].strip()"
   ]
  },
  {
   "cell_type": "markdown",
   "metadata": {},
   "source": [
    "#### 2. Re-label for modelling\n",
    "- Neutral and Bad scores = 0 \n",
    "- Positive Scores = 1\n",
    "- Missing Values (at random) and Review Score = 0 were ignored"
   ]
  },
  {
   "cell_type": "code",
   "execution_count": 3,
   "metadata": {},
   "outputs": [
    {
     "name": "stdout",
     "output_type": "stream",
     "text": [
      "No. of Labels = 0: 4\n"
     ]
    }
   ],
   "source": [
    "print(\"No. of Labels = 0: {:}\".format(sum(subset['review_label'] == 0)))"
   ]
  },
  {
   "cell_type": "code",
   "execution_count": 4,
   "metadata": {},
   "outputs": [
    {
     "name": "stdout",
     "output_type": "stream",
     "text": [
      "No. Missing of Labels: 34\n"
     ]
    }
   ],
   "source": [
    "print(\"No. Missing of Labels: {:}\".format(sum(subset['review_label'].isnull().values)))"
   ]
  },
  {
   "cell_type": "code",
   "execution_count": 5,
   "metadata": {},
   "outputs": [],
   "source": [
    "# Drop these Values \n",
    "subset = subset.dropna() # drop missing values \n",
    "subset.drop(subset[subset.review_label == 0].index, inplace=True) # drop labels = 0 "
   ]
  },
  {
   "cell_type": "code",
   "execution_count": 6,
   "metadata": {
    "collapsed": true
   },
   "outputs": [],
   "source": [
    "# Change one value that's 2 equal to 3\n",
    "y = subset['review_label'].values\n",
    "np.place(y, y == 3, [2])\n",
    "# make positive scores = 1 and negative scores = 0 \n",
    "np.place(y, y == 1, [0])\n",
    "np.place(y, y == 2, [1])"
   ]
  },
  {
   "cell_type": "markdown",
   "metadata": {},
   "source": [
    "# Classifying Reviews using the Natural Language Toolkit <a name=\"nltkpranjal\"></a>"
   ]
  },
  {
   "cell_type": "code",
   "execution_count": 7,
   "metadata": {
    "collapsed": true
   },
   "outputs": [],
   "source": [
    "sid = SentimentIntensityAnalyzer()"
   ]
  },
  {
   "cell_type": "code",
   "execution_count": 8,
   "metadata": {
    "collapsed": true
   },
   "outputs": [],
   "source": [
    "reviews = subset['review_text'] # just the review column"
   ]
  },
  {
   "cell_type": "code",
   "execution_count": 9,
   "metadata": {},
   "outputs": [
    {
     "name": "stderr",
     "output_type": "stream",
     "text": [
      "100%|██████████| 2021/2021 [00:04<00:00, 429.05it/s]\n"
     ]
    }
   ],
   "source": [
    "all_pred_sentiments = []\n",
    "\n",
    "for review in tqdm(reviews): # for each review, \n",
    "    pred_sentiment = sid.polarity_scores(review) # calculate the sentiment scores\n",
    "    all_pred_sentiments.append(pred_sentiment) # and append them to a list"
   ]
  },
  {
   "cell_type": "code",
   "execution_count": 10,
   "metadata": {},
   "outputs": [],
   "source": [
    "subset_copy = subset\n",
    "subset_copy.agree_score = subset_copy.agree_score.apply(float)\n",
    "subset_copy.disagree_score = subset_copy.disagree_score.apply(float)"
   ]
  },
  {
   "cell_type": "code",
   "execution_count": 11,
   "metadata": {
    "collapsed": true
   },
   "outputs": [],
   "source": [
    "all_pred_sentiments = pd.DataFrame(all_pred_sentiments)\n",
    "all_pred_sentiments.reset_index(drop=True, inplace=True)\n",
    "subset_copy.reset_index(drop=True, inplace=True)"
   ]
  },
  {
   "cell_type": "code",
   "execution_count": 12,
   "metadata": {
    "collapsed": true
   },
   "outputs": [],
   "source": [
    "subset_copy = pd.concat([subset_copy, pd.DataFrame(all_pred_sentiments)], axis=1) # add these new columns to our dataframe"
   ]
  },
  {
   "cell_type": "markdown",
   "metadata": {},
   "source": [
    "#### Add weights for Agree/Disagree scores and append *Weighted Scores* to the DataFrame"
   ]
  },
  {
   "cell_type": "markdown",
   "metadata": {},
   "source": [
    "$$ Weight = \\frac{Agree}{Agree + Disagree}$$"
   ]
  },
  {
   "cell_type": "code",
   "execution_count": 13,
   "metadata": {
    "scrolled": true
   },
   "outputs": [
    {
     "name": "stderr",
     "output_type": "stream",
     "text": [
      "/Users/pranjalbajaj/anaconda/lib/python3.6/site-packages/ipykernel_launcher.py:1: RuntimeWarning: divide by zero encountered in reciprocal\n",
      "  \"\"\"Entry point for launching an IPython kernel.\n",
      "/Users/pranjalbajaj/anaconda/lib/python3.6/site-packages/ipykernel_launcher.py:1: RuntimeWarning: invalid value encountered in multiply\n",
      "  \"\"\"Entry point for launching an IPython kernel.\n"
     ]
    }
   ],
   "source": [
    "weight = np.multiply(subset_copy['agree_score'], np.reciprocal(subset_copy['agree_score'] + subset_copy['disagree_score']))\n",
    "weight = weight.fillna(1.0)\n",
    "subset_copy['weight'] = weight\n",
    "weighted_compound = np.multiply(np.transpose(subset_copy['weight']), subset_copy['compound'])\n",
    "weighted_compound.name = 'weighted_compound'\n",
    "subset_copy = pd.concat([subset_copy, weighted_compound], axis=1)"
   ]
  },
  {
   "cell_type": "markdown",
   "metadata": {},
   "source": [
    "#### Get Labels from scores"
   ]
  },
  {
   "cell_type": "code",
   "execution_count": 17,
   "metadata": {},
   "outputs": [
    {
     "name": "stderr",
     "output_type": "stream",
     "text": [
      "  0%|          | 0/2021 [00:00<?, ?it/s]/Users/pranjalbajaj/anaconda/lib/python3.6/site-packages/ipykernel_launcher.py:3: SettingWithCopyWarning: \n",
      "A value is trying to be set on a copy of a slice from a DataFrame\n",
      "\n",
      "See the caveats in the documentation: http://pandas.pydata.org/pandas-docs/stable/indexing.html#indexing-view-versus-copy\n",
      "  This is separate from the ipykernel package so we can avoid doing imports until\n",
      "  0%|          | 3/2021 [00:00<02:45, 12.22it/s]/Users/pranjalbajaj/anaconda/lib/python3.6/site-packages/ipykernel_launcher.py:5: SettingWithCopyWarning: \n",
      "A value is trying to be set on a copy of a slice from a DataFrame\n",
      "\n",
      "See the caveats in the documentation: http://pandas.pydata.org/pandas-docs/stable/indexing.html#indexing-view-versus-copy\n",
      "  \"\"\"\n",
      "100%|██████████| 2021/2021 [01:42<00:00, 19.80it/s]\n"
     ]
    }
   ],
   "source": [
    "for i in tqdm(range(len(subset))):\n",
    "    if subset_copy['weighted_compound'][i] > 0:\n",
    "        subset_copy['weighted_compound'][i] = 1\n",
    "    else:\n",
    "        subset_copy['weighted_compound'][i] = 0 "
   ]
  },
  {
   "cell_type": "markdown",
   "metadata": {},
   "source": [
    "#### Get prediction score with respect to ground truth"
   ]
  },
  {
   "cell_type": "code",
   "execution_count": 27,
   "metadata": {},
   "outputs": [
    {
     "data": {
      "text/plain": [
       "0.9673428995546759"
      ]
     },
     "execution_count": 27,
     "metadata": {},
     "output_type": "execute_result"
    }
   ],
   "source": [
    "np.mean(weighted_compound != y)"
   ]
  },
  {
   "cell_type": "markdown",
   "metadata": {},
   "source": [
    "# Using Logistic Regression For Sentiment Analysis  <a name=\"modellingpranjal\"></a>\n",
    "\n",
    "Since, we do not have labels for our data, we use the sentiments form NLTK as ground truth and build a logistic regression model. We are assuming that NLTK provides us the ground truth, which is NOT true but we do this for exploratory purposes only and see which words/features contribute to the predicted sentiment and hence use that to improve our model"
   ]
  },
  {
   "cell_type": "markdown",
   "metadata": {},
   "source": [
    "#### Check for imbalance in Dataset "
   ]
  },
  {
   "cell_type": "code",
   "execution_count": 29,
   "metadata": {},
   "outputs": [
    {
     "name": "stdout",
     "output_type": "stream",
     "text": [
      "Positive Reviews: 1437\n",
      "Negative Reviews: 584 \n"
     ]
    }
   ],
   "source": [
    "print(\"Positive Reviews: {:}\".format(sum(y == 1)))\n",
    "print(\"Negative Reviews: {:} \".format(sum(y == 0)))"
   ]
  },
  {
   "cell_type": "markdown",
   "metadata": {},
   "source": [
    "Data is clearly imbalanced with roughly more 2 times more positive reviews than negative reviews/"
   ]
  },
  {
   "cell_type": "markdown",
   "metadata": {},
   "source": [
    "#### Implement CountVectorizer and TfidfVectorizer to get bag of words"
   ]
  },
  {
   "cell_type": "code",
   "execution_count": 30,
   "metadata": {
    "collapsed": true
   },
   "outputs": [],
   "source": [
    "text = (subset['review_text'].values).astype('U')\n",
    "\n",
    "# test-Train Split \n",
    "train, test, y_train, y_test = train_test_split(text, y, test_size = 0.2, random_state = 9598) #Splitting the data into Test and Train\n",
    "\n",
    "vect_count = CountVectorizer(stop_words='english').fit(train) #, ngram_range = (1, 1), min_df = 0.005\n",
    "bag_count = vect_count.transform(train)\n",
    "\n",
    "# feature names\n",
    "feature_names_count = vect_count.get_feature_names()\n",
    "\n",
    "vect_tfidf = TfidfVectorizer(stop_words='english').fit(train) #, ngram_range = (1, 1), min_df = 0.005\n",
    "bag_tfidf = vect_tfidf.transform(train)\n",
    "\n",
    "# feature names\n",
    "feature_names_tfidf = vect_tfidf.get_feature_names()\n"
   ]
  },
  {
   "cell_type": "code",
   "execution_count": 350,
   "metadata": {
    "collapsed": true
   },
   "outputs": [],
   "source": [
    "# Define Crossvalidation Strategy\n",
    "cv = StratifiedKFold(n_splits = 5, shuffle = True, random_state = 9598)"
   ]
  },
  {
   "cell_type": "markdown",
   "metadata": {},
   "source": [
    "#### Run Model: Countvectorizer"
   ]
  },
  {
   "cell_type": "markdown",
   "metadata": {},
   "source": [
    "#### Initial Model"
   ]
  },
  {
   "cell_type": "code",
   "execution_count": 351,
   "metadata": {},
   "outputs": [
    {
     "data": {
      "text/plain": [
       "LogisticRegression(C=1.0, class_weight=None, dual=False, fit_intercept=True,\n",
       "          intercept_scaling=1, max_iter=100, multi_class='ovr', n_jobs=1,\n",
       "          penalty='l2', random_state=None, solver='liblinear', tol=0.0001,\n",
       "          verbose=0, warm_start=False)"
      ]
     },
     "execution_count": 351,
     "metadata": {},
     "output_type": "execute_result"
    }
   ],
   "source": [
    "lr = LogisticRegression()\n",
    "lr.fit(bag_count, y_train)"
   ]
  },
  {
   "cell_type": "code",
   "execution_count": 352,
   "metadata": {},
   "outputs": [
    {
     "name": "stdout",
     "output_type": "stream",
     "text": [
      "Mean cross-validation accuracy: 0.88\n"
     ]
    }
   ],
   "source": [
    "scores = cross_val_score(LogisticRegression(class_weight='balanced'), bag_count, y_train, scoring='roc_auc', cv = cv ) \n",
    "print(\"Mean cross-validation accuracy: {:.2f}\".format(np.mean(scores))) "
   ]
  },
  {
   "cell_type": "markdown",
   "metadata": {},
   "source": [
    "#### Look at the top features i.e. words (for Initial Model)"
   ]
  },
  {
   "cell_type": "code",
   "execution_count": 353,
   "metadata": {},
   "outputs": [
    {
     "data": {
      "image/png": "[encoded data removed]",
      "text/plain": [
       "<matplotlib.figure.Figure at 0x10557a0f0>"
      ]
     },
     "metadata": {},
     "output_type": "display_data"
    }
   ],
   "source": [
    "coefs = lr.coef_\n",
    "mglearn.tools.visualize_coefficients(coefs, feature_names_count, n_top_features = 20)\n",
    "plt.show()"
   ]
  },
  {
   "cell_type": "markdown",
   "metadata": {},
   "source": [
    "#### Tuned Model"
   ]
  },
  {
   "cell_type": "code",
   "execution_count": 308,
   "metadata": {},
   "outputs": [
    {
     "name": "stdout",
     "output_type": "stream",
     "text": [
      "0.8765560371495491\n",
      "{'countvectorizer__ngram_range': (1, 2)}\n"
     ]
    }
   ],
   "source": [
    "pipe = make_pipeline(CountVectorizer(stop_words='english'), LogisticRegression(class_weight='balanced'))\n",
    "param_grid = [{'logisticregression__C':np.logspace(-3, 0, 13)}, \n",
    "              {'countvectorizer__ngram_range': [(1, 1), (1, 2), (1, 3), (2,2), (2,3), (3,3)]},\n",
    "             {'countvectorizer__min_df': np.arange(0.005, 0.055, 0.005)}] \n",
    "lr_grid = GridSearchCV(pipe, param_grid, scoring='roc_auc', cv = cv)\n",
    "lr_grid.fit(train, y_train)\n",
    "print(lr_grid.best_score_)\n",
    "print(lr_grid.best_params_)"
   ]
  },
  {
   "cell_type": "markdown",
   "metadata": {},
   "source": [
    "#### Look at the top features i.e. words (Best Model)"
   ]
  },
  {
   "cell_type": "code",
   "execution_count": 309,
   "metadata": {},
   "outputs": [
    {
     "data": {
      "image/png": "[encoded data removed]",
      "text/plain": [
       "<matplotlib.figure.Figure at 0x114915a58>"
      ]
     },
     "metadata": {},
     "output_type": "display_data"
    }
   ],
   "source": [
    "coef_lr_grid = lr_grid.best_estimator_.named_steps[\"logisticregression\"].coef_\n",
    "vect_count_lr_grid = lr_grid.best_estimator_.named_steps['countvectorizer']\n",
    "feature_names_count_lr_grid = np.array(vect_count_lr_grid.get_feature_names())\n",
    "mglearn.tools.visualize_coefficients(coef_lr_grid, feature_names_count_lr_grid , n_top_features = 20)\n",
    "plt.show()                                                              "
   ]
  },
  {
   "cell_type": "markdown",
   "metadata": {},
   "source": [
    "#### Run Model: TfidfVectorizer"
   ]
  },
  {
   "cell_type": "markdown",
   "metadata": {},
   "source": [
    "#### Tuned Model"
   ]
  },
  {
   "cell_type": "code",
   "execution_count": 310,
   "metadata": {},
   "outputs": [
    {
     "name": "stdout",
     "output_type": "stream",
     "text": [
      "0.9110884275940979\n",
      "{'tfidfvectorizer__min_df': 0.005}\n"
     ]
    }
   ],
   "source": [
    "pipe = make_pipeline(TfidfVectorizer(stop_words='english'), LogisticRegression(class_weight='balanced'))\n",
    "param_grid = [{'logisticregression__C':np.logspace(-3, 0, 13)}, \n",
    "              {'tfidfvectorizer__ngram_range': [(1, 1), (1, 2), (1, 3), (2,2), (2,3), (3,3)]},\n",
    "             {'tfidfvectorizer__min_df': np.arange(0.005, 0.055, 0.005)}] \n",
    "lr_grid = GridSearchCV(pipe, param_grid, scoring='roc_auc', cv = cv)\n",
    "\n",
    "lr_grid.fit(train, y_train)\n",
    "print(lr_grid.best_score_)\n",
    "print(lr_grid.best_params_)"
   ]
  },
  {
   "cell_type": "markdown",
   "metadata": {},
   "source": [
    "#### Look at the top features i.e. words (Best Model)"
   ]
  },
  {
   "cell_type": "code",
   "execution_count": 311,
   "metadata": {},
   "outputs": [
    {
     "data": {
      "image/png": "[encoded data removed]",
      "text/plain": [
       "<matplotlib.figure.Figure at 0x118d7bcf8>"
      ]
     },
     "metadata": {},
     "output_type": "display_data"
    }
   ],
   "source": [
    "coef_lr_grid = lr_grid.best_estimator_.named_steps[\"logisticregression\"].coef_\n",
    "vect_count_lr_grid = lr_grid.best_estimator_.named_steps['tfidfvectorizer']\n",
    "feature_names_count_lr_grid = np.array(vect_count_lr_grid.get_feature_names())\n",
    "mglearn.tools.visualize_coefficients(coef_lr_grid, feature_names_count_lr_grid , n_top_features = 20)\n",
    "plt.show()                                                              "
   ]
  },
  {
   "cell_type": "markdown",
   "metadata": {},
   "source": [
    "# Using Random Forests For Sentiment Analysis  <a name=\"modellingtreespranjal\"></a>"
   ]
  },
  {
   "cell_type": "markdown",
   "metadata": {},
   "source": [
    "#### Initial Model"
   ]
  },
  {
   "cell_type": "code",
   "execution_count": 312,
   "metadata": {},
   "outputs": [
    {
     "data": {
      "text/plain": [
       "RandomForestClassifier(bootstrap=True, class_weight=None, criterion='gini',\n",
       "            max_depth=None, max_features='auto', max_leaf_nodes=None,\n",
       "            min_impurity_decrease=0.0, min_impurity_split=None,\n",
       "            min_samples_leaf=1, min_samples_split=2,\n",
       "            min_weight_fraction_leaf=0.0, n_estimators=10, n_jobs=1,\n",
       "            oob_score=False, random_state=None, verbose=0,\n",
       "            warm_start=False)"
      ]
     },
     "execution_count": 312,
     "metadata": {},
     "output_type": "execute_result"
    }
   ],
   "source": [
    "from sklearn.ensemble import RandomForestClassifier\n",
    "rf = RandomForestClassifier()\n",
    "rf.fit(bag_count, y_train)"
   ]
  },
  {
   "cell_type": "code",
   "execution_count": 313,
   "metadata": {},
   "outputs": [
    {
     "name": "stdout",
     "output_type": "stream",
     "text": [
      "Mean cross-validation accuracy: 0.82\n"
     ]
    }
   ],
   "source": [
    "scores = cross_val_score(RandomForestClassifier(class_weight='balanced', random_state= 9598), bag_count, y_train, scoring='roc_auc', cv = cv ) \n",
    "print(\"Mean cross-validation accuracy: {:.2f}\".format(np.mean(scores))) "
   ]
  },
  {
   "cell_type": "markdown",
   "metadata": {},
   "source": [
    "#### Tuned Model: CountVectorizer"
   ]
  },
  {
   "cell_type": "code",
   "execution_count": 314,
   "metadata": {},
   "outputs": [
    {
     "name": "stdout",
     "output_type": "stream",
     "text": [
      "0.9086839376236564\n",
      "{'randomforestclassifier__n_estimators': 250}\n"
     ]
    }
   ],
   "source": [
    "pipe_rf_count = make_pipeline(CountVectorizer(stop_words='english'), RandomForestClassifier(class_weight='balanced', random_state = 9598, max_depth = None,  max_leaf_nodes = None))\n",
    "rf_grid = [{'randomforestclassifier__n_estimators': np.arange(50, 300, 50)},\n",
    "           {'countvectorizer__ngram_range': [(1, 1), (1, 2), (1, 3), (2,2), (2,3), (3,3)]},\n",
    "           {'countvectorizer__min_df': np.arange(0.005, 0.055, 0.005)}] \n",
    "rf_grid_count = GridSearchCV(pipe_rf_count, rf_grid_count, scoring='roc_auc', cv = cv)\n",
    "rf_grid.fit(train, y_train)\n",
    "print(rf_grid.best_score_)\n",
    "print(rf_grid.best_params_)"
   ]
  },
  {
   "cell_type": "markdown",
   "metadata": {},
   "source": [
    "#### Tuned Model: TfidfVectorizer"
   ]
  },
  {
   "cell_type": "code",
   "execution_count": 321,
   "metadata": {},
   "outputs": [
    {
     "name": "stdout",
     "output_type": "stream",
     "text": [
      "0.9021327045527158\n",
      "{'randomforestclassifier__n_estimators': 250}\n"
     ]
    }
   ],
   "source": [
    "pipe_rf_tfidf = make_pipeline(TfidfVectorizer(stop_words='english'), RandomForestClassifier(class_weight='balanced', random_state = 9598, max_depth = None,  max_leaf_nodes = None))\n",
    "rf_grid_tfidf = [{'randomforestclassifier__n_estimators': np.arange(50, 300, 50)},\n",
    "           {'tfidfvectorizer__ngram_range': [(1, 1), (1, 2), (1, 3), (2,2), (2,3), (3,3)]},\n",
    "           {'tfidfvectorizer__min_df': np.arange(0.005, 0.055, 0.005)}] \n",
    "rf_grid = GridSearchCV(pipe_rf_tfidf, rf_grid_tfidf, scoring='roc_auc', cv = cv)\n",
    "rf_grid.fit(train, y_train)\n",
    "print(rf_grid.best_score_)\n",
    "print(rf_grid.best_params_)"
   ]
  },
  {
   "cell_type": "markdown",
   "metadata": {},
   "source": [
    "# Unsupervised Analysis: PCA, NMF and Outlier Detection <a name=\"unsupervisedpranjal\"></a>"
   ]
  },
  {
   "cell_type": "markdown",
   "metadata": {},
   "source": [
    "## PCA \n",
    "#### Get the top Principal Components using Truncated SVD"
   ]
  },
  {
   "cell_type": "code",
   "execution_count": 355,
   "metadata": {},
   "outputs": [
    {
     "data": {
      "text/plain": [
       "(100, 11508)"
      ]
     },
     "execution_count": 355,
     "metadata": {},
     "output_type": "execute_result"
    }
   ],
   "source": [
    "lsa = TruncatedSVD(n_components=100)\n",
    "lsa.fit_transform(bag_count)\n",
    "lsa.components_.shape"
   ]
  },
  {
   "cell_type": "markdown",
   "metadata": {},
   "source": [
    "#### Selecting Optimal Principal Components"
   ]
  },
  {
   "cell_type": "code",
   "execution_count": 356,
   "metadata": {},
   "outputs": [
    {
     "data": {
      "image/png": "[encoded data removed]",
      "text/plain": [
       "<matplotlib.figure.Figure at 0x119032d68>"
      ]
     },
     "metadata": {},
     "output_type": "display_data"
    }
   ],
   "source": [
    "plt.semilogy(lsa.explained_variance_ratio_)\n",
    "plt.show()"
   ]
  },
  {
   "cell_type": "code",
   "execution_count": 357,
   "metadata": {
    "scrolled": true
   },
   "outputs": [
    {
     "data": {
      "image/png": "[encoded data removed]",
      "text/plain": [
       "<matplotlib.figure.Figure at 0x114ac8128>"
      ]
     },
     "metadata": {},
     "output_type": "display_data"
    }
   ],
   "source": [
    "scaler = MaxAbsScaler()\n",
    "X_scaled = scaler.fit_transform(bag_count) # Scale the data\n",
    "lsa_scaled = TruncatedSVD(n_components=100)\n",
    "\n",
    "X_lsa_scaled = lsa_scaled.fit_transform(X_scaled)\n",
    "\n",
    "plt.scatter(X_lsa_scaled[:, 1], X_lsa_scaled[:, 2], alpha=.1, c = y_train)\n",
    "plt.show()"
   ]
  },
  {
   "cell_type": "markdown",
   "metadata": {
    "collapsed": true
   },
   "source": [
    "#### CountVectorizer with top 100 Principal compnent: Logistic Regression "
   ]
  },
  {
   "cell_type": "code",
   "execution_count": 319,
   "metadata": {},
   "outputs": [
    {
     "name": "stdout",
     "output_type": "stream",
     "text": [
      "0.8740527451492204\n",
      "{'countvectorizer__min_df': 0.005}\n"
     ]
    }
   ],
   "source": [
    "pipe = make_pipeline(CountVectorizer(stop_words='english'), MaxAbsScaler(), TruncatedSVD(n_components=100), LogisticRegression(class_weight='balanced'))\n",
    "param_grid = [{'logisticregression__C':np.logspace(-3, 0, 13)}, \n",
    "              {'countvectorizer__ngram_range': [(1, 1), (1, 2), (1, 3), (2,2), (2,3), (3,3)]},\n",
    "             {'countvectorizer__min_df': np.arange(0.005, 0.055, 0.005)}] \n",
    "\n",
    "lr_grid = GridSearchCV(pipe, param_grid, scoring='roc_auc', cv = cv)\n",
    "lr_grid.fit(train, y_train)\n",
    "print(lr_grid.best_score_)\n",
    "print(lr_grid.best_params_)"
   ]
  },
  {
   "cell_type": "markdown",
   "metadata": {},
   "source": [
    "#### TfidfVectorizer with top 100 Principal compnent: Logistic Regression "
   ]
  },
  {
   "cell_type": "code",
   "execution_count": null,
   "metadata": {
    "collapsed": true
   },
   "outputs": [],
   "source": [
    "pipe = make_pipeline(CountVectorizer(stop_words='english'), MaxAbsScaler(), TruncatedSVD(n_components=100), LogisticRegression(class_weight='balanced'))\n",
    "param_grid = [{'logisticregression__C':np.logspace(-3, 0, 13)}, \n",
    "              {'tfidfvectorizer__ngram_range': [(1, 1), (1, 2), (1, 3), (2,2), (2,3), (3,3)]},\n",
    "              {'tfidfvectorizer__min_df': np.arange(0.005, 0.055, 0.005)}]  \n",
    "\n",
    "lr_grid = GridSearchCV(pipe, param_grid, scoring='roc_auc', cv = cv)\n",
    "lr_grid.fit(train, y_train)\n",
    "print(lr_grid.best_score_)\n",
    "print(lr_grid.best_params_)"
   ]
  },
  {
   "cell_type": "markdown",
   "metadata": {},
   "source": [
    "# Final Model: Test Set"
   ]
  },
  {
   "cell_type": "code",
   "execution_count": null,
   "metadata": {
    "collapsed": true
   },
   "outputs": [],
   "source": [
    "rf_grid_count.score(test, y_test)"
   ]
  },
  {
   "cell_type": "markdown",
   "metadata": {},
   "source": [
    "## Doc2Vec"
   ]
  },
  {
   "cell_type": "code",
   "execution_count": 31,
   "metadata": {},
   "outputs": [],
   "source": [
    "from gensim.models import Doc2Vec\n",
    "\n",
    "def read_corpus(text, tokens_only=False):\n",
    "    for i, line in enumerate(text):\n",
    "        if tokens_only:\n",
    "            yield gensim.utils.simple_preprocess(line)\n",
    "        else:\n",
    "            # For training data, add tags\n",
    "            yield gensim.models.doc2vec.TaggedDocument(\n",
    "                gensim.utils.simple_preprocess(line), [i])\n",
    "            \n",
    "train_corpus = list(read_corpus(train))\n",
    "test_corpus = list(read_corpus(test, tokens_only=True))\n",
    "model = gensim.models.doc2vec.Doc2Vec(vector_size=50, min_count=2)\n",
    "model.build_vocab(train_corpus)\n",
    "model.train(train_corpus, total_examples=model.corpus_count, epochs=55)"
   ]
  },
  {
   "cell_type": "markdown",
   "metadata": {},
   "source": [
    "#### Check most similar words to a particular word "
   ]
  },
  {
   "cell_type": "code",
   "execution_count": 53,
   "metadata": {},
   "outputs": [
    {
     "data": {
      "text/plain": [
       "[('political', 0.6432818174362183),\n",
       " ('computer', 0.6205494999885559),\n",
       " ('psychology', 0.5977452993392944),\n",
       " ('philosophy', 0.5963426232337952),\n",
       " ('frontiers', 0.5616985559463501),\n",
       " ('psych', 0.5461146831512451),\n",
       " ('sociology', 0.5419831871986389),\n",
       " ('latin', 0.5402747392654419),\n",
       " ('econ', 0.5397531986236572),\n",
       " ('interested', 0.5383843779563904)]"
      ]
     },
     "execution_count": 53,
     "metadata": {},
     "output_type": "execute_result"
    }
   ],
   "source": [
    "model.wv.most_similar(\"science\")"
   ]
  },
  {
   "cell_type": "code",
   "execution_count": 33,
   "metadata": {},
   "outputs": [
    {
     "data": {
      "text/plain": [
       "(1616, 50)"
      ]
     },
     "execution_count": 33,
     "metadata": {},
     "output_type": "execute_result"
    }
   ],
   "source": [
    "vectors = [model.infer_vector(train_corpus[doc_id].words)\n",
    "          for doc_id in range(len(train_corpus))]    \n",
    "X_train = np.vstack(vectors)\n",
    "X_train.shape"
   ]
  },
  {
   "cell_type": "code",
   "execution_count": 34,
   "metadata": {
    "collapsed": true
   },
   "outputs": [],
   "source": [
    "test_vectors = [model.infer_vector(test_corpus[doc_id])\n",
    "                for doc_id in range(len(test_corpus))]   \n",
    "X_test = np.vstack(test_vectors)"
   ]
  },
  {
   "cell_type": "code",
   "execution_count": 54,
   "metadata": {},
   "outputs": [
    {
     "data": {
      "text/plain": [
       "0.7753086419753087"
      ]
     },
     "execution_count": 54,
     "metadata": {},
     "output_type": "execute_result"
    }
   ],
   "source": [
    "lr = LogisticRegression(C = 100).fit(X_train, y_train)\n",
    "lr.score(X_test, y_test)"
   ]
  },
  {
   "cell_type": "markdown",
   "metadata": {},
   "source": [
    "#### Get Vectors "
   ]
  },
  {
   "cell_type": "code",
   "execution_count": null,
   "metadata": {
    "collapsed": true
   },
   "outputs": [],
   "source": [
    "def get_vector(tokens, model, num_features = 100):\n",
    "    # Pre-initialising empty numpy array for speed\n",
    "    vec = np.zeros(num_features, dtype=\"float32\")\n",
    "    nwords = 0\n",
    "    \n",
    "    index2word_set = set(model.wv.index2word)\n",
    "    \n",
    "    for t in  tokens:\n",
    "        if t in index2word_set:\n",
    "            nwords += 1\n",
    "            vec = np.add(vec, model[t])\n",
    "\n",
    "    return vec/nwords"
   ]
  },
  {
   "cell_type": "code",
   "execution_count": null,
   "metadata": {
    "collapsed": true
   },
   "outputs": [],
   "source": [
    "get_vector(train_words[0], model)\n",
    "train_vecs = [get_vector(w, model) for w in train_words]\n",
    "train_vecs"
   ]
  },
  {
   "cell_type": "markdown",
   "metadata": {},
   "source": [
    "## Outlier Detection"
   ]
  },
  {
   "cell_type": "markdown",
   "metadata": {},
   "source": [
    "#### Gaussian "
   ]
  },
  {
   "cell_type": "code",
   "execution_count": null,
   "metadata": {
    "collapsed": true
   },
   "outputs": [],
   "source": [
    "ee = EllipticEnvelope(contamination=.005).fit(X_scaled) #10% outliers (but can we improve our guess?)\n",
    "pred_ee = ee.predict(X_scaled) \n",
    "print(pred_ee)\n",
    "print(np.mean(pred_ee == -1))"
   ]
  },
  {
   "cell_type": "code",
   "execution_count": null,
   "metadata": {
    "collapsed": true
   },
   "outputs": [],
   "source": [
    "print(roc_auc_score(y, pred_ee))"
   ]
  },
  {
   "cell_type": "code",
   "execution_count": null,
   "metadata": {
    "collapsed": true
   },
   "outputs": [],
   "source": [
    "oneclass = OneClassSVM(nu=.005).fit(X_scaled)\n",
    "pred_oc = oneclass.predict(X_scaled)\n",
    "print(pred_oc)\n",
    "print(np.mean(pred_oc == -1))"
   ]
  },
  {
   "cell_type": "code",
   "execution_count": null,
   "metadata": {
    "collapsed": true
   },
   "outputs": [],
   "source": [
    "print(roc_auc_score(y, pred_oc))"
   ]
  },
  {
   "cell_type": "markdown",
   "metadata": {},
   "source": [
    "#### Non-Probability based (and i.e. non-Gaussian)"
   ]
  },
  {
   "cell_type": "code",
   "execution_count": null,
   "metadata": {
    "collapsed": true
   },
   "outputs": [],
   "source": [
    "isoforest = IsolationForest(max_samples=256, contamination = .005, random_state=9598).fit(X_scaled)\n",
    "# max_samples=’auto’, contamination=0.1, max_features=1.0, \n",
    "# bootstrap=False, n_jobs=1, verbose=0)\n",
    "pred_if = isoforest.predict(X_scaled) "
   ]
  },
  {
   "cell_type": "code",
   "execution_count": null,
   "metadata": {
    "collapsed": true
   },
   "outputs": [],
   "source": [
    "print(roc_auc_score(y, pred_if))"
   ]
  },
  {
   "cell_type": "markdown",
   "metadata": {},
   "source": [
    "#### NMF Decomposition "
   ]
  },
  {
   "cell_type": "code",
   "execution_count": 85,
   "metadata": {},
   "outputs": [
    {
     "data": {
      "text/plain": [
       "NMF(alpha=0.0, beta_loss='frobenius', init=None, l1_ratio=0.0, max_iter=200,\n",
       "  n_components=100, random_state=None, shuffle=False, solver='cd',\n",
       "  tol=0.01, verbose=0)"
      ]
     },
     "execution_count": 85,
     "metadata": {},
     "output_type": "execute_result"
    }
   ],
   "source": [
    "lr_lsa = LogisticRegression(C=100).fit(X_lsa_scaled[:, :10], y)\n",
    "\n",
    "nmf_scale = NMF(n_components=100, verbose=0, tol=0.01) # verbose tells it to shut up and not update results\n",
    "nmf_scale.fit(X_scaled)"
   ]
  },
  {
   "cell_type": "code",
   "execution_count": 65,
   "metadata": {
    "collapsed": true
   },
   "outputs": [],
   "source": [
    "coefs = nmf_scale.components_\n",
    "feature_names = vect.get_feature_names()"
   ]
  },
  {
   "cell_type": "markdown",
   "metadata": {},
   "source": [
    "#### LDA "
   ]
  },
  {
   "cell_type": "code",
   "execution_count": 66,
   "metadata": {
    "collapsed": true
   },
   "outputs": [],
   "source": [
    "lda = LatentDirichletAllocation(n_components=10, learning_method=\"batch\")\n",
    "X_lda = lda.fit_transform(bag)"
   ]
  },
  {
   "cell_type": "code",
   "execution_count": 67,
   "metadata": {
    "collapsed": true
   },
   "outputs": [],
   "source": [
    "lda100 = LatentDirichletAllocation(n_components=100, learning_method=\"batch\")\n",
    "X_lda100 = lda100.fit_transform(bag)"
   ]
  },
  {
   "cell_type": "code",
   "execution_count": null,
   "metadata": {
    "collapsed": true
   },
   "outputs": [],
   "source": [
    "pd.DataFrame(lda100.components_)"
   ]
  },
  {
   "cell_type": "markdown",
   "metadata": {},
   "source": [
    "#### LDA Produces Horrible Results: Need to fine tune... "
   ]
  },
  {
   "cell_type": "code",
   "execution_count": 112,
   "metadata": {},
   "outputs": [
    {
     "name": "stdout",
     "output_type": "stream",
     "text": [
      "Topic %d:\n",
      "daniel arvind roma dodd friedman 400 heather ml game postings\n",
      "Topic %d:\n",
      "dan daniela passages urdu insane pts tyerman miguel janet aftab\n",
      "Topic %d:\n",
      "stats levy korean rubenstein kim karen lead varzi mowsh experiment\n",
      "Topic %d:\n",
      "class professor final really workload course midterm students just time\n",
      "Topic %d:\n",
      "bayer ellsberg arbitrary af como postings christia blake cohen meaningful\n",
      "Topic %d:\n",
      "lilla nathan taylor quantum vogel krauss algos christina samuel carefully\n",
      "Topic %d:\n",
      "african crary dani film opaque garb dont clarity asian happens\n",
      "Topic %d:\n",
      "reports lab semesters answered struggle planning gen listenings drill arabic\n",
      "Topic %d:\n",
      "genius dont baker approximation insanely zarghamee ieee bro rieder gamber\n",
      "Topic %d:\n",
      "qi luke laoshi plays xavi neath sachin kat intaglio cloud\n"
     ]
    }
   ],
   "source": [
    "def display_topics(model, feature_names, no_top_words):\n",
    "    for topic_idx, topic in enumerate(model.components_):\n",
    "        print(\"Topic %d:\".format(topic_idx))\n",
    "        print(\" \".join([feature_names[i]\n",
    "                        for i in topic.argsort()[:-no_top_words - 1:-1]]))\n",
    "\n",
    "display_topics(lda, feature_names_tfidf, 10)"
   ]
  }
 ],
 "metadata": {
  "kernelspec": {
   "display_name": "Python 3",
   "language": "python",
   "name": "python3"
  },
  "language_info": {
   "codemirror_mode": {
    "name": "ipython",
    "version": 3
   },
   "file_extension": ".py",
   "mimetype": "text/x-python",
   "name": "python",
   "nbconvert_exporter": "python",
   "pygments_lexer": "ipython3",
   "version": "3.6.1"
  }
 },
 "nbformat": 4,
 "nbformat_minor": 2
}
