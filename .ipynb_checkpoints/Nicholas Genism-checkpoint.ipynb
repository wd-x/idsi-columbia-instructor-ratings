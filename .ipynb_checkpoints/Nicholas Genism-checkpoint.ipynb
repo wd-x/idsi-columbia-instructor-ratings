{
 "cells": [
  {
   "cell_type": "markdown",
   "metadata": {},
   "source": [
    "**Use a Random Forest Classifier to Obtain Review Sentiment**"
   ]
  },
  {
   "cell_type": "code",
   "execution_count": 148,
   "metadata": {
    "collapsed": true
   },
   "outputs": [],
   "source": [
    "import numpy as np\n",
    "import pandas as pd\n",
    "import gensim\n",
    "from gensim.models import Doc2Vec\n",
    "import nltk\n",
    "import nltk.data\n",
    "from nltk.corpus import stopwords\n",
    "from nltk.stem import WordNetLemmatizer\n",
    "from bs4 import BeautifulSoup \n",
    "import re \n",
    "from sklearn.linear_model import SGDClassifier\n",
    "from sklearn.model_selection import train_test_split\n",
    "from sklearn.ensemble import RandomForestClassifier\n",
    "from sklearn.metrics import roc_auc_score\n",
    "from tqdm import tqdm\n",
    "from gensim.summarization import keywords\n",
    "from gensim.summarization.summarizer import summarize"
   ]
  },
  {
   "cell_type": "code",
   "execution_count": 40,
   "metadata": {
    "collapsed": true
   },
   "outputs": [],
   "source": [
    "df = pd.read_csv('data/Final Dataframe/dataframe_final.csv')[23391:]"
   ]
  },
  {
   "cell_type": "code",
   "execution_count": 41,
   "metadata": {},
   "outputs": [
    {
     "data": {
      "text/html": [
       "<div>\n",
       "<style scoped>\n",
       "    .dataframe tbody tr th:only-of-type {\n",
       "        vertical-align: middle;\n",
       "    }\n",
       "\n",
       "    .dataframe tbody tr th {\n",
       "        vertical-align: top;\n",
       "    }\n",
       "\n",
       "    .dataframe thead th {\n",
       "        text-align: right;\n",
       "    }\n",
       "</style>\n",
       "<table border=\"1\" class=\"dataframe\">\n",
       "  <thead>\n",
       "    <tr style=\"text-align: right;\">\n",
       "      <th></th>\n",
       "      <th>Unnamed: 0</th>\n",
       "      <th>review_id</th>\n",
       "      <th>review_date</th>\n",
       "      <th>review_text</th>\n",
       "      <th>agree_score</th>\n",
       "      <th>disagree_score</th>\n",
       "      <th>funny_score</th>\n",
       "      <th>professor_id</th>\n",
       "      <th>professor_name</th>\n",
       "      <th>review_id.1</th>\n",
       "      <th>course_id</th>\n",
       "      <th>course_name</th>\n",
       "      <th>workload</th>\n",
       "      <th>workload_label</th>\n",
       "      <th>review_label</th>\n",
       "    </tr>\n",
       "  </thead>\n",
       "  <tbody>\n",
       "    <tr>\n",
       "      <th>23391</th>\n",
       "      <td>23391</td>\n",
       "      <td>78219</td>\n",
       "      <td>1/1/2015 0:00</td>\n",
       "      <td>\\r\\r\\r\\nAli altug is a great teacher! Takes ti...</td>\n",
       "      <td>1</td>\n",
       "      <td>1</td>\n",
       "      <td>0</td>\n",
       "      <td>11929.0</td>\n",
       "      <td>Altug, Ali</td>\n",
       "      <td>78219</td>\n",
       "      <td>1507.0</td>\n",
       "      <td>[MATH V1106] Calculus IIS</td>\n",
       "      <td>Weekly homework sets \\r\\r\\r\\n2 midterms and a ...</td>\n",
       "      <td>NaN</td>\n",
       "      <td>2.0</td>\n",
       "    </tr>\n",
       "    <tr>\n",
       "      <th>23392</th>\n",
       "      <td>23392</td>\n",
       "      <td>78220</td>\n",
       "      <td>1/1/2015 0:00</td>\n",
       "      <td>\\r\\r\\r\\nOkay, at the risk of being anonymously...</td>\n",
       "      <td>1</td>\n",
       "      <td>1</td>\n",
       "      <td>1</td>\n",
       "      <td>3980.0</td>\n",
       "      <td>Baswell, Christopher</td>\n",
       "      <td>78220</td>\n",
       "      <td>5314.0</td>\n",
       "      <td>[ENGL W4917] Writing on Disability</td>\n",
       "      <td>Very reasonable. He uses the midterms to make ...</td>\n",
       "      <td>NaN</td>\n",
       "      <td>2.0</td>\n",
       "    </tr>\n",
       "    <tr>\n",
       "      <th>23393</th>\n",
       "      <td>23393</td>\n",
       "      <td>78221</td>\n",
       "      <td>1/1/2015 0:00</td>\n",
       "      <td>\\r\\r\\r\\nProf Gray is the most overrated teache...</td>\n",
       "      <td>2</td>\n",
       "      <td>9</td>\n",
       "      <td>1</td>\n",
       "      <td>2468.0</td>\n",
       "      <td>Gray, Erik</td>\n",
       "      <td>78221</td>\n",
       "      <td>3390.0</td>\n",
       "      <td>Romantic Poetry</td>\n",
       "      <td>readings for class. 2 papers. a final exam. Aw...</td>\n",
       "      <td>NaN</td>\n",
       "      <td>1.0</td>\n",
       "    </tr>\n",
       "    <tr>\n",
       "      <th>23394</th>\n",
       "      <td>23394</td>\n",
       "      <td>78223</td>\n",
       "      <td>1/2/2015 0:00</td>\n",
       "      <td>\\r\\r\\r\\nSid’s a pretty chill guy. He works at ...</td>\n",
       "      <td>6</td>\n",
       "      <td>0</td>\n",
       "      <td>0</td>\n",
       "      <td>7069.0</td>\n",
       "      <td>Dastidar, Siddhartha</td>\n",
       "      <td>78223</td>\n",
       "      <td>6828.0</td>\n",
       "      <td>[IEOR E4711] Global Capital Markets</td>\n",
       "      <td>\\r\\r\\r\\n4 HWs\\r\\r\\r\\n1 midterm\\r\\r\\r\\n1 final\\...</td>\n",
       "      <td>NaN</td>\n",
       "      <td>2.0</td>\n",
       "    </tr>\n",
       "    <tr>\n",
       "      <th>23395</th>\n",
       "      <td>23395</td>\n",
       "      <td>78224</td>\n",
       "      <td>1/2/2015 0:00</td>\n",
       "      <td>\\r\\r\\r\\nUnfortunately, I'm 1.5 years too late ...</td>\n",
       "      <td>1</td>\n",
       "      <td>0</td>\n",
       "      <td>0</td>\n",
       "      <td>13059.0</td>\n",
       "      <td>Kun, Ilya</td>\n",
       "      <td>78224</td>\n",
       "      <td>NaN</td>\n",
       "      <td>NaN</td>\n",
       "      <td>Very reasonable. Just about every class, write...</td>\n",
       "      <td>NaN</td>\n",
       "      <td>2.0</td>\n",
       "    </tr>\n",
       "  </tbody>\n",
       "</table>\n",
       "</div>"
      ],
      "text/plain": [
       "       Unnamed: 0  review_id    review_date  \\\n",
       "23391       23391      78219  1/1/2015 0:00   \n",
       "23392       23392      78220  1/1/2015 0:00   \n",
       "23393       23393      78221  1/1/2015 0:00   \n",
       "23394       23394      78223  1/2/2015 0:00   \n",
       "23395       23395      78224  1/2/2015 0:00   \n",
       "\n",
       "                                             review_text  agree_score  \\\n",
       "23391  \\r\\r\\r\\nAli altug is a great teacher! Takes ti...            1   \n",
       "23392  \\r\\r\\r\\nOkay, at the risk of being anonymously...            1   \n",
       "23393  \\r\\r\\r\\nProf Gray is the most overrated teache...            2   \n",
       "23394  \\r\\r\\r\\nSid’s a pretty chill guy. He works at ...            6   \n",
       "23395  \\r\\r\\r\\nUnfortunately, I'm 1.5 years too late ...            1   \n",
       "\n",
       "       disagree_score  funny_score  professor_id        professor_name  \\\n",
       "23391               1            0       11929.0            Altug, Ali   \n",
       "23392               1            1        3980.0  Baswell, Christopher   \n",
       "23393               9            1        2468.0            Gray, Erik   \n",
       "23394               0            0        7069.0  Dastidar, Siddhartha   \n",
       "23395               0            0       13059.0             Kun, Ilya   \n",
       "\n",
       "       review_id.1  course_id                          course_name  \\\n",
       "23391        78219     1507.0            [MATH V1106] Calculus IIS   \n",
       "23392        78220     5314.0   [ENGL W4917] Writing on Disability   \n",
       "23393        78221     3390.0                     Romantic Poetry    \n",
       "23394        78223     6828.0  [IEOR E4711] Global Capital Markets   \n",
       "23395        78224        NaN                                  NaN   \n",
       "\n",
       "                                                workload  workload_label  \\\n",
       "23391  Weekly homework sets \\r\\r\\r\\n2 midterms and a ...             NaN   \n",
       "23392  Very reasonable. He uses the midterms to make ...             NaN   \n",
       "23393  readings for class. 2 papers. a final exam. Aw...             NaN   \n",
       "23394  \\r\\r\\r\\n4 HWs\\r\\r\\r\\n1 midterm\\r\\r\\r\\n1 final\\...             NaN   \n",
       "23395  Very reasonable. Just about every class, write...             NaN   \n",
       "\n",
       "       review_label  \n",
       "23391           2.0  \n",
       "23392           2.0  \n",
       "23393           1.0  \n",
       "23394           2.0  \n",
       "23395           2.0  "
      ]
     },
     "execution_count": 41,
     "metadata": {},
     "output_type": "execute_result"
    }
   ],
   "source": [
    "df.head()"
   ]
  },
  {
   "cell_type": "code",
   "execution_count": 42,
   "metadata": {
    "collapsed": true
   },
   "outputs": [],
   "source": [
    "df.review_label = np.where(np.isnan(df.review_label) == True, 1, df.review_label)\n",
    "df.review_label = np.where(df.review_label == 3, 2, df.review_label)\n",
    "df.review_label = np.where(df.review_label == 0, 1, df.review_label)"
   ]
  },
  {
   "cell_type": "code",
   "execution_count": null,
   "metadata": {
    "collapsed": true
   },
   "outputs": [],
   "source": [
    "X_train, X_test, y_train, y_test = train_test_split(df.review_text, df.review_label, test_size = 0.15, random_state = 42)"
   ]
  },
  {
   "cell_type": "markdown",
   "metadata": {},
   "source": [
    "**Preprocessing Text Data**"
   ]
  },
  {
   "cell_type": "code",
   "execution_count": null,
   "metadata": {
    "collapsed": true
   },
   "outputs": [],
   "source": [
    "tokenizer = nltk.data.load('tokenizers/punkt/english.pickle')"
   ]
  },
  {
   "cell_type": "code",
   "execution_count": 71,
   "metadata": {
    "collapsed": true
   },
   "outputs": [],
   "source": [
    "def get_tokens(review, tokenizer = tokenizer, remove_stopwords=False):\n",
    "    \n",
    "    tokens = []\n",
    "    \n",
    "    # Remove html tags\n",
    "    review_text = BeautifulSoup(review, 'lxml').get_text()\n",
    "    \n",
    "    # 2. Remove non-letter.\n",
    "    review_text = re.sub(\"[^a-zA-Z]\",\" \",review_text)\n",
    "    \n",
    "    # Converting to lower case\n",
    "    review_text = review_text.lower().strip()\n",
    "    \n",
    "    # Tokenize\n",
    "    \n",
    "    tokens = nltk.tokenize.word_tokenize(review_text)\n",
    "    \n",
    "    # Remove short words\n",
    "    tokens = [t for t in tokens if len(t) > 2]\n",
    "    \n",
    "    # Lemmatize\n",
    "    tokens = [wordnet_lemmatizer.lemmatize(t) for t in tokens]\n",
    "    \n",
    "    # Optionally remove stopwords\n",
    "    if remove_stopwords:\n",
    "        stops = set(stopwords.words(\"english\"))     \n",
    "        tokens = [t for t in tokens if t not in stopwords]\n",
    "        \n",
    "    return tokens"
   ]
  },
  {
   "cell_type": "code",
   "execution_count": 115,
   "metadata": {},
   "outputs": [
    {
     "name": "stderr",
     "output_type": "stream",
     "text": [
      "100%|█████████████████████████████████████████████████████████████████████████████| 1851/1851 [00:05<00:00, 338.03it/s]\n"
     ]
    }
   ],
   "source": [
    "train_words = []\n",
    "\n",
    "for x in tqdm(X_train):\n",
    "    train_words.append(get_tokens(x))"
   ]
  },
  {
   "cell_type": "code",
   "execution_count": 116,
   "metadata": {},
   "outputs": [
    {
     "name": "stderr",
     "output_type": "stream",
     "text": [
      "100%|███████████████████████████████████████████████████████████████████████████████| 327/327 [00:00<00:00, 349.12it/s]\n"
     ]
    }
   ],
   "source": [
    "test_words = []\n",
    "\n",
    "for x in tqdm(X_test):\n",
    "    test_words.append(get_tokens(x))"
   ]
  },
  {
   "cell_type": "code",
   "execution_count": 114,
   "metadata": {},
   "outputs": [
    {
     "data": {
      "text/plain": [
       "[]"
      ]
     },
     "execution_count": 114,
     "metadata": {},
     "output_type": "execute_result"
    }
   ],
   "source": [
    "test_words"
   ]
  },
  {
   "cell_type": "code",
   "execution_count": 84,
   "metadata": {
    "collapsed": true
   },
   "outputs": [],
   "source": [
    "model = word2vec.Word2Vec(tokens, min_count=1, window=10, size = 100, sample = 1e-4, negative = 5, workers = 4)"
   ]
  },
  {
   "cell_type": "code",
   "execution_count": 108,
   "metadata": {
    "collapsed": true
   },
   "outputs": [],
   "source": [
    "def get_vector(tokens, model, num_features = 100):\n",
    "    # Pre-initialising empty numpy array for speed\n",
    "    vec = np.zeros(num_features, dtype=\"float32\")\n",
    "    nwords = 0\n",
    "    \n",
    "    index2word_set = set(model.wv.index2word)\n",
    "    \n",
    "    for t in  tokens:\n",
    "        if t in index2word_set:\n",
    "            nwords += 1\n",
    "            vec = np.add(vec, model[t])\n",
    "\n",
    "    return vec/nwords"
   ]
  },
  {
   "cell_type": "code",
   "execution_count": 140,
   "metadata": {},
   "outputs": [
    {
     "name": "stderr",
     "output_type": "stream",
     "text": [
      "C:\\Users\\Nicholas\\Anaconda3\\lib\\site-packages\\ipykernel_launcher.py:11: DeprecationWarning: Call to deprecated `__getitem__` (Method will be removed in 4.0.0, use self.wv.__getitem__() instead).\n",
      "  # This is added back by InteractiveShellApp.init_path()\n"
     ]
    },
    {
     "data": {
      "text/plain": [
       "array([-0.5201261 , -0.01457011,  0.01409439, -0.15438278,  0.17632215,\n",
       "        0.1951441 , -0.21365334, -0.51284015,  0.11547894,  0.2985927 ,\n",
       "        0.14824753,  0.5504369 , -0.21594507,  0.02095696, -0.43537873,\n",
       "        0.09777957, -0.25318637, -0.9861365 , -0.313873  ,  0.516276  ,\n",
       "       -0.3066933 , -0.16042075,  0.08250234,  0.42578763,  0.025206  ,\n",
       "       -0.19377595,  1.0170013 ,  1.0052099 ,  0.15070602, -0.00375615,\n",
       "        0.6878507 , -0.39442798,  0.44364023, -0.26630798, -0.3418949 ,\n",
       "        0.65762407,  0.31151134, -0.53137   ,  0.18513793,  0.02172099,\n",
       "       -0.46597007,  0.11907882, -0.01957696, -0.4639639 ,  0.38795373,\n",
       "       -0.17394426,  0.08316743, -0.61706066,  0.1035533 ,  0.6003404 ,\n",
       "       -0.86080825,  0.5680906 ,  0.02415073,  0.6480171 , -0.6243746 ,\n",
       "       -0.04765426, -0.51644903,  0.42157203, -0.04098596,  0.07487419,\n",
       "       -0.07984081, -0.26711944, -0.49153793, -0.2357799 ,  0.6053948 ,\n",
       "        0.07163803,  0.09339514, -0.42713803,  0.6514242 ,  0.19518663,\n",
       "        0.15397607, -0.46115023, -0.01816217,  0.60090613, -0.11034716,\n",
       "        0.4968731 , -0.30421212, -0.30826306,  0.06982949,  0.42145765,\n",
       "       -0.7820478 ,  0.15472665,  0.5577802 ,  0.5068383 ,  0.4211267 ,\n",
       "        0.59458536,  0.19296123,  0.09384894,  0.11914779, -0.09990626,\n",
       "       -0.02967691,  0.23470937,  0.8221494 , -0.2975115 , -0.62246376,\n",
       "       -0.4173958 ,  0.15540457,  0.4095502 , -0.19486815, -0.02920402],\n",
       "      dtype=float32)"
      ]
     },
     "execution_count": 140,
     "metadata": {},
     "output_type": "execute_result"
    }
   ],
   "source": [
    "get_vector(train_words[0], model)"
   ]
  },
  {
   "cell_type": "code",
   "execution_count": 146,
   "metadata": {},
   "outputs": [
    {
     "name": "stderr",
     "output_type": "stream",
     "text": [
      "C:\\Users\\Nicholas\\Anaconda3\\lib\\site-packages\\ipykernel_launcher.py:11: DeprecationWarning: Call to deprecated `__getitem__` (Method will be removed in 4.0.0, use self.wv.__getitem__() instead).\n",
      "  # This is added back by InteractiveShellApp.init_path()\n"
     ]
    }
   ],
   "source": [
    "train_vecs = [get_vector(w, model) for w in train_words]"
   ]
  },
  {
   "cell_type": "code",
   "execution_count": 143,
   "metadata": {},
   "outputs": [
    {
     "name": "stderr",
     "output_type": "stream",
     "text": [
      "C:\\Users\\Nicholas\\Anaconda3\\lib\\site-packages\\ipykernel_launcher.py:11: DeprecationWarning: Call to deprecated `__getitem__` (Method will be removed in 4.0.0, use self.wv.__getitem__() instead).\n",
      "  # This is added back by InteractiveShellApp.init_path()\n"
     ]
    }
   ],
   "source": [
    "test_vecs = [get_vector(w, model) for w in test_words]"
   ]
  },
  {
   "cell_type": "code",
   "execution_count": 151,
   "metadata": {
    "collapsed": true
   },
   "outputs": [],
   "source": [
    "def binarize_score(score):\n",
    "    \"\"\"\n",
    "    set scores of 1-3 to 0 and 4-5 as 1\n",
    "    \"\"\"\n",
    "    \n",
    "    if score == 1:\n",
    "        return 0\n",
    "    else:\n",
    "        return 1"
   ]
  },
  {
   "cell_type": "code",
   "execution_count": 155,
   "metadata": {
    "collapsed": true
   },
   "outputs": [],
   "source": [
    "y_train = y_train.map(binarize_score)\n",
    "y_test = y_test.map(binarize_score)"
   ]
  },
  {
   "cell_type": "code",
   "execution_count": 156,
   "metadata": {},
   "outputs": [
    {
     "name": "stderr",
     "output_type": "stream",
     "text": [
      "C:\\Users\\Nicholas\\Anaconda3\\lib\\site-packages\\sklearn\\linear_model\\stochastic_gradient.py:128: FutureWarning: max_iter and tol parameters have been added in <class 'sklearn.linear_model.stochastic_gradient.SGDClassifier'> in 0.19. If both are left unset, they default to max_iter=5 and tol=None. If tol is not None, max_iter defaults to max_iter=1000. From 0.21, default max_iter will be 1000, and default tol will be 1e-3.\n",
      "  \"and default tol will be 1e-3.\" % type(self), FutureWarning)\n"
     ]
    },
    {
     "data": {
      "text/plain": [
       "0.5632272139625081"
      ]
     },
     "execution_count": 156,
     "metadata": {},
     "output_type": "execute_result"
    }
   ],
   "source": [
    "clf = SGDClassifier(loss='log')\n",
    "clf.fit(train_vecs, y_train)\n",
    "p=clf.predict_proba(test_vecs)\n",
    "roc_auc_score(y_test, p[:,1])"
   ]
  }
 ],
 "metadata": {
  "kernelspec": {
   "display_name": "Python 3",
   "language": "python",
   "name": "python3"
  },
  "language_info": {
   "codemirror_mode": {
    "name": "ipython",
    "version": 3
   },
   "file_extension": ".py",
   "mimetype": "text/x-python",
   "name": "python",
   "nbconvert_exporter": "python",
   "pygments_lexer": "ipython3",
   "version": "3.6.1"
  }
 },
 "nbformat": 4,
 "nbformat_minor": 2
}
