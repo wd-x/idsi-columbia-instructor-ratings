{
 "cells": [
  {
   "cell_type": "markdown",
   "metadata": {},
   "source": [
    "<h1><center>Intro to Data Science Industry Project</h1></center>\n",
    "<h2><center>Columbia University Professor Rating System</h2></center>"
   ]
  },
  {
   "cell_type": "markdown",
   "metadata": {},
   "source": [
    "# Webscraping progress\n",
    "- **[DONE: df_70k_80k.csv]** 70k to 80k \n",
    "- (or we could figure out multiprocessing or use scrapy)"
   ]
  },
  {
   "cell_type": "markdown",
   "metadata": {},
   "source": [
    "## Import block"
   ]
  },
  {
   "cell_type": "code",
   "execution_count": 2,
   "metadata": {
    "collapsed": true
   },
   "outputs": [],
   "source": [
    "import pandas as pd\n",
    "import numpy as np\n",
    "from bs4 import BeautifulSoup \n",
    "import re\n",
    "from urllib.request import urlopen \n",
    "from tqdm import tqdm"
   ]
  },
  {
   "cell_type": "markdown",
   "metadata": {},
   "source": [
    "# Table of contents\n",
    "- [Webscraping (slow) code](#webscrapingslowcode)\n",
    "- [Reading in scraped csv files](#readinginscrapedcsvfiles)\n",
    "- [NLTK Pranjal](#nltkpranjal)\n",
    "- [Old Code](#oldcode)"
   ]
  },
  {
   "cell_type": "markdown",
   "metadata": {},
   "source": [
    "## Webscraping (IDs 70000 to 80000) [Weida v2] <a name=\"webscrapingslowcode\"></a>"
   ]
  },
  {
   "cell_type": "code",
   "execution_count": null,
   "metadata": {
    "collapsed": true
   },
   "outputs": [],
   "source": [
    "df = pd.DataFrame(columns=['review_id', 'review_date' ,'review_text', 'agree_score', 'disagree_score',\n",
    "                             'funny_score', 'professor_id', 'professor_name', 'course_id', 'course_name'])\n",
    "for i in tqdm(range(70000, 80000)):\n",
    "    url = 'http://culpa.info/reviews/{}'.format(i)\n",
    "    r = urlopen(url).read() \n",
    "    soup = BeautifulSoup(r, \"lxml\") \n",
    "    # if review doesn't exist, it redirects to home page, maybe use len() to check if we got redirected\n",
    "    if len(soup.text) > 15500:\n",
    "        continue\n",
    "    \n",
    "    professor = soup.find(href=re.compile('(professor)'))\n",
    "    if professor == None:\n",
    "        professor_id = None\n",
    "        professor_name = None\n",
    "    else:\n",
    "        professor_id = professor['href'][12:]\n",
    "        professor_name = professor.text\n",
    "    \n",
    "    courses = soup.find_all(href=re.compile('(courses)'))\n",
    "    if courses == None:\n",
    "        course_id = None\n",
    "        course_name = None\n",
    "    else:\n",
    "        course_id = courses[-(len(courses) - 7)]['href'][9:]\n",
    "        course_name = courses[-(len(courses) - 7)].text\n",
    "\n",
    "    review_id = soup.find(href=re.compile('(reviews)'))['href'][9:]\n",
    "    review_text = soup.find(class_='review_content').text\n",
    "    review_date = pd.Timestamp(soup.find(class_='date').text.strip())\n",
    "    agree_score = re.findall('\\d+', soup.find(class_='agree')['value'])[0]\n",
    "    disagree_score = re.findall('\\d+', soup.find(class_='disagree')['value'])[0]\n",
    "    funny_score = re.findall('\\d+', soup.find(class_='funny')['value'])[0]\n",
    "\n",
    "    to_append = pd.DataFrame(data=[review_id, review_date, review_text, agree_score, \n",
    "                                   disagree_score, funny_score, professor_id, professor_name,\n",
    "                                   course_id, course_name],\n",
    "                            index=['review_id', 'review_date' ,'review_text', 'agree_score', \n",
    "                                   'disagree_score', 'funny_score', 'professor_id', \n",
    "                                   'professor_name', 'course_id', 'course_name']).T\n",
    "    \n",
    "    df = pd.concat([df, to_append], ignore_index=True)"
   ]
  },
  {
   "cell_type": "code",
   "execution_count": null,
   "metadata": {
    "collapsed": true
   },
   "outputs": [],
   "source": [
    "df.professor_id = df.professor_id.apply(int)"
   ]
  },
  {
   "cell_type": "code",
   "execution_count": null,
   "metadata": {
    "collapsed": true
   },
   "outputs": [],
   "source": [
    "# Export to csv\n",
    "df.to_csv('df_70k_80k.csv')"
   ]
  },
  {
   "cell_type": "markdown",
   "metadata": {},
   "source": [
    "#### Check out the scraped Data: First 5 Rows"
   ]
  },
  {
   "cell_type": "code",
   "execution_count": null,
   "metadata": {
    "collapsed": true
   },
   "outputs": [],
   "source": []
  },
  {
   "cell_type": "markdown",
   "metadata": {},
   "source": [
    "# Reading in scraped csv files <a name=\"readinginscrapedcsvfiles\"></a>"
   ]
  },
  {
   "cell_type": "code",
   "execution_count": 42,
   "metadata": {
    "collapsed": true
   },
   "outputs": [],
   "source": [
    "df_70k_80k = pd.read_csv('df_70k_80k.csv')"
   ]
  },
  {
   "cell_type": "code",
   "execution_count": 7,
   "metadata": {
    "collapsed": true
   },
   "outputs": [],
   "source": [
    "df_70k_80k.agree_score = df_70k_80k.agree_score.apply(float)\n",
    "df_70k_80k.disagree_score = df_70k_80k.disagree_score.apply(float)\n",
    "df_70k_80k.funny_score = df_70k_80k.funny_score.apply(float)"
   ]
  },
  {
   "cell_type": "code",
   "execution_count": 8,
   "metadata": {},
   "outputs": [
    {
     "data": {
      "text/html": [
       "<div>\n",
       "<style>\n",
       "    .dataframe thead tr:only-child th {\n",
       "        text-align: right;\n",
       "    }\n",
       "\n",
       "    .dataframe thead th {\n",
       "        text-align: left;\n",
       "    }\n",
       "\n",
       "    .dataframe tbody tr th {\n",
       "        vertical-align: top;\n",
       "    }\n",
       "</style>\n",
       "<table border=\"1\" class=\"dataframe\">\n",
       "  <thead>\n",
       "    <tr style=\"text-align: right;\">\n",
       "      <th></th>\n",
       "      <th>Unnamed: 0</th>\n",
       "      <th>review_id</th>\n",
       "      <th>review_date</th>\n",
       "      <th>review_text</th>\n",
       "      <th>agree_score</th>\n",
       "      <th>disagree_score</th>\n",
       "      <th>funny_score</th>\n",
       "      <th>professor_id</th>\n",
       "      <th>professor_name</th>\n",
       "      <th>course_id</th>\n",
       "      <th>course_name</th>\n",
       "    </tr>\n",
       "  </thead>\n",
       "  <tbody>\n",
       "    <tr>\n",
       "      <th>0</th>\n",
       "      <td>0</td>\n",
       "      <td>70013</td>\n",
       "      <td>2014-12-15 00:00:00</td>\n",
       "      <td>\\nBest teacher I've ever had at Columbia. \\nWo...</td>\n",
       "      <td>3.0</td>\n",
       "      <td>0.0</td>\n",
       "      <td>0.0</td>\n",
       "      <td>2080.0</td>\n",
       "      <td>Neely, Evan (TA)</td>\n",
       "      <td>137</td>\n",
       "      <td>Art Hum</td>\n",
       "    </tr>\n",
       "    <tr>\n",
       "      <th>1</th>\n",
       "      <td>1</td>\n",
       "      <td>70014</td>\n",
       "      <td>2014-12-15 00:00:00</td>\n",
       "      <td>\\nAlma Mora is the WORST professor I have had ...</td>\n",
       "      <td>0.0</td>\n",
       "      <td>0.0</td>\n",
       "      <td>0.0</td>\n",
       "      <td>NaN</td>\n",
       "      <td>NaN</td>\n",
       "      <td>242</td>\n",
       "      <td>[SPAN V1102] Elementary Spanish II</td>\n",
       "    </tr>\n",
       "    <tr>\n",
       "      <th>2</th>\n",
       "      <td>2</td>\n",
       "      <td>70144</td>\n",
       "      <td>2014-12-15 00:00:00</td>\n",
       "      <td>\\nProf. Collins did a flipped classroom format...</td>\n",
       "      <td>6.0</td>\n",
       "      <td>0.0</td>\n",
       "      <td>0.0</td>\n",
       "      <td>10729.0</td>\n",
       "      <td>Collins, Michael</td>\n",
       "      <td>4903</td>\n",
       "      <td>[COMS W4705] Natural Language Processing</td>\n",
       "    </tr>\n",
       "    <tr>\n",
       "      <th>3</th>\n",
       "      <td>3</td>\n",
       "      <td>70204</td>\n",
       "      <td>2014-12-15 00:00:00</td>\n",
       "      <td>\\nI found this course to be a major disappoint...</td>\n",
       "      <td>4.0</td>\n",
       "      <td>2.0</td>\n",
       "      <td>0.0</td>\n",
       "      <td>3540.0</td>\n",
       "      <td>Gundogdu, Ayten</td>\n",
       "      <td>137</td>\n",
       "      <td>Art Hum</td>\n",
       "    </tr>\n",
       "    <tr>\n",
       "      <th>4</th>\n",
       "      <td>4</td>\n",
       "      <td>70205</td>\n",
       "      <td>2014-12-15 00:00:00</td>\n",
       "      <td>\\nProf Connor's class was very enjoyable. The ...</td>\n",
       "      <td>4.0</td>\n",
       "      <td>0.0</td>\n",
       "      <td>1.0</td>\n",
       "      <td>2350.0</td>\n",
       "      <td>Connor, Peter</td>\n",
       "      <td>5547</td>\n",
       "      <td>[CPLT BC3110] Intro to Translation Studies</td>\n",
       "    </tr>\n",
       "  </tbody>\n",
       "</table>\n",
       "</div>"
      ],
      "text/plain": [
       "   Unnamed: 0  review_id          review_date  \\\n",
       "0           0      70013  2014-12-15 00:00:00   \n",
       "1           1      70014  2014-12-15 00:00:00   \n",
       "2           2      70144  2014-12-15 00:00:00   \n",
       "3           3      70204  2014-12-15 00:00:00   \n",
       "4           4      70205  2014-12-15 00:00:00   \n",
       "\n",
       "                                         review_text  agree_score  \\\n",
       "0  \\nBest teacher I've ever had at Columbia. \\nWo...          3.0   \n",
       "1  \\nAlma Mora is the WORST professor I have had ...          0.0   \n",
       "2  \\nProf. Collins did a flipped classroom format...          6.0   \n",
       "3  \\nI found this course to be a major disappoint...          4.0   \n",
       "4  \\nProf Connor's class was very enjoyable. The ...          4.0   \n",
       "\n",
       "   disagree_score  funny_score  professor_id    professor_name  course_id  \\\n",
       "0             0.0          0.0        2080.0  Neely, Evan (TA)        137   \n",
       "1             0.0          0.0           NaN               NaN        242   \n",
       "2             0.0          0.0       10729.0  Collins, Michael       4903   \n",
       "3             2.0          0.0        3540.0   Gundogdu, Ayten        137   \n",
       "4             0.0          1.0        2350.0     Connor, Peter       5547   \n",
       "\n",
       "                                  course_name  \n",
       "0                                     Art Hum  \n",
       "1          [SPAN V1102] Elementary Spanish II  \n",
       "2    [COMS W4705] Natural Language Processing  \n",
       "3                                     Art Hum  \n",
       "4  [CPLT BC3110] Intro to Translation Studies  "
      ]
     },
     "execution_count": 8,
     "metadata": {},
     "output_type": "execute_result"
    }
   ],
   "source": [
    "df_70k_80k.head(5)"
   ]
  },
  {
   "cell_type": "code",
   "execution_count": 27,
   "metadata": {},
   "outputs": [
    {
     "name": "stderr",
     "output_type": "stream",
     "text": [
      "100%|██████████| 1790/1790 [00:01<00:00, 1624.77it/s]\n"
     ]
    }
   ],
   "source": [
    "for i in tqdm(range(len(df_70k_80k))):\n",
    "    df_70k_80k['review_text'] = df_70k_80k['review_text'][i].strip()"
   ]
  },
  {
   "cell_type": "code",
   "execution_count": 32,
   "metadata": {},
   "outputs": [
    {
     "data": {
      "text/plain": [
       "\"Best teacher I've ever had at Columbia. \\nWorkload:\\nAverage amount of reading.\\nTwo thought provoking essays\""
      ]
     },
     "execution_count": 32,
     "metadata": {},
     "output_type": "execute_result"
    }
   ],
   "source": [
    "df_70k_80k['review_text'][1].strip()"
   ]
  },
  {
   "cell_type": "code",
   "execution_count": 46,
   "metadata": {},
   "outputs": [
    {
     "data": {
      "text/plain": [
       "['',\n",
       " \"I found this course to be a major disappointment. While Gundogdu seems to be a very nice person, she is not the greatest professor. She assigned a seemingly random selection of works that gave an incomplete picture of basic political theory. The final third of the course hardly even covered political theory, but was instead focused primarily on feminist sociology. Additionally, Gundogdu's lectures were essentially summaries of the readings, making one or the other a completely unnecessary exercise. The only saving grace of this course was the T.A. who led the recitation. It wasn't even worth the easy A.\",\n",
       " 'Workload:',\n",
       " 'Very light. Three short papers and minimal readings.']"
      ]
     },
     "execution_count": 46,
     "metadata": {},
     "output_type": "execute_result"
    }
   ],
   "source": [
    "df_70k_80k['review_text'][3].splitlines()"
   ]
  },
  {
   "cell_type": "markdown",
   "metadata": {},
   "source": [
    "# Trying Natural Language Toolkit <a name=\"nltkpranjal\"></a>"
   ]
  },
  {
   "cell_type": "code",
   "execution_count": 51,
   "metadata": {
    "collapsed": true
   },
   "outputs": [],
   "source": [
    "import nltk\n",
    "#nltk.download() # only need to do this once"
   ]
  },
  {
   "cell_type": "code",
   "execution_count": 52,
   "metadata": {},
   "outputs": [
    {
     "name": "stderr",
     "output_type": "stream",
     "text": [
      "/Users/pranjalbajaj/anaconda/lib/python3.6/site-packages/nltk/twitter/__init__.py:20: UserWarning: The twython library has not been installed. Some functionality from the twitter package will not be available.\n",
      "  warnings.warn(\"The twython library has not been installed. \"\n"
     ]
    }
   ],
   "source": [
    "from nltk.sentiment.vader import SentimentIntensityAnalyzer\n",
    "sid = SentimentIntensityAnalyzer()"
   ]
  },
  {
   "cell_type": "markdown",
   "metadata": {},
   "source": [
    "#### Take a subset of the data (df_70k_80k) for NLTK analysis"
   ]
  },
  {
   "cell_type": "code",
   "execution_count": 118,
   "metadata": {
    "collapsed": true
   },
   "outputs": [],
   "source": [
    "subset = df_70k_80k # subset of the first 10 reviews\n",
    "reviews = subset['review_text'] # just the review column"
   ]
  },
  {
   "cell_type": "code",
   "execution_count": 119,
   "metadata": {},
   "outputs": [
    {
     "name": "stderr",
     "output_type": "stream",
     "text": [
      "100%|██████████| 1790/1790 [00:05<00:00, 328.18it/s]\n"
     ]
    }
   ],
   "source": [
    "all_pred_sentiments = []\n",
    "\n",
    "for review in tqdm(reviews): # for each review, \n",
    "    pred_sentiment = sid.polarity_scores(review) # calculate the sentiment scores\n",
    "    all_pred_sentiments.append(pred_sentiment) # and append them to a list"
   ]
  },
  {
   "cell_type": "code",
   "execution_count": 122,
   "metadata": {
    "collapsed": true
   },
   "outputs": [],
   "source": [
    "subset = pd.concat([subset, pd.DataFrame(all_pred_sentiments)], axis=1) # add these new columns to our dataframe!"
   ]
  },
  {
   "cell_type": "code",
   "execution_count": 123,
   "metadata": {},
   "outputs": [
    {
     "data": {
      "text/html": [
       "<div>\n",
       "<style>\n",
       "    .dataframe thead tr:only-child th {\n",
       "        text-align: right;\n",
       "    }\n",
       "\n",
       "    .dataframe thead th {\n",
       "        text-align: left;\n",
       "    }\n",
       "\n",
       "    .dataframe tbody tr th {\n",
       "        vertical-align: top;\n",
       "    }\n",
       "</style>\n",
       "<table border=\"1\" class=\"dataframe\">\n",
       "  <thead>\n",
       "    <tr style=\"text-align: right;\">\n",
       "      <th></th>\n",
       "      <th>Unnamed: 0</th>\n",
       "      <th>review_id</th>\n",
       "      <th>review_date</th>\n",
       "      <th>review_text</th>\n",
       "      <th>agree_score</th>\n",
       "      <th>disagree_score</th>\n",
       "      <th>funny_score</th>\n",
       "      <th>professor_id</th>\n",
       "      <th>professor_name</th>\n",
       "      <th>course_id</th>\n",
       "      <th>course_name</th>\n",
       "      <th>compound</th>\n",
       "      <th>neg</th>\n",
       "      <th>neu</th>\n",
       "      <th>pos</th>\n",
       "    </tr>\n",
       "  </thead>\n",
       "  <tbody>\n",
       "    <tr>\n",
       "      <th>0</th>\n",
       "      <td>0</td>\n",
       "      <td>70013</td>\n",
       "      <td>2014-12-15 00:00:00</td>\n",
       "      <td>\\nBest teacher I've ever had at Columbia. \\nWo...</td>\n",
       "      <td>3</td>\n",
       "      <td>0</td>\n",
       "      <td>0</td>\n",
       "      <td>2080.0</td>\n",
       "      <td>Neely, Evan (TA)</td>\n",
       "      <td>137</td>\n",
       "      <td>Art Hum</td>\n",
       "      <td>0.5267</td>\n",
       "      <td>0.090</td>\n",
       "      <td>0.700</td>\n",
       "      <td>0.210</td>\n",
       "    </tr>\n",
       "    <tr>\n",
       "      <th>1</th>\n",
       "      <td>1</td>\n",
       "      <td>70014</td>\n",
       "      <td>2014-12-15 00:00:00</td>\n",
       "      <td>\\nAlma Mora is the WORST professor I have had ...</td>\n",
       "      <td>0</td>\n",
       "      <td>0</td>\n",
       "      <td>0</td>\n",
       "      <td>NaN</td>\n",
       "      <td>NaN</td>\n",
       "      <td>242</td>\n",
       "      <td>[SPAN V1102] Elementary Spanish II</td>\n",
       "      <td>-0.8429</td>\n",
       "      <td>0.066</td>\n",
       "      <td>0.884</td>\n",
       "      <td>0.050</td>\n",
       "    </tr>\n",
       "    <tr>\n",
       "      <th>2</th>\n",
       "      <td>2</td>\n",
       "      <td>70144</td>\n",
       "      <td>2014-12-15 00:00:00</td>\n",
       "      <td>\\nProf. Collins did a flipped classroom format...</td>\n",
       "      <td>6</td>\n",
       "      <td>0</td>\n",
       "      <td>0</td>\n",
       "      <td>10729.0</td>\n",
       "      <td>Collins, Michael</td>\n",
       "      <td>4903</td>\n",
       "      <td>[COMS W4705] Natural Language Processing</td>\n",
       "      <td>0.9898</td>\n",
       "      <td>0.032</td>\n",
       "      <td>0.840</td>\n",
       "      <td>0.128</td>\n",
       "    </tr>\n",
       "    <tr>\n",
       "      <th>3</th>\n",
       "      <td>3</td>\n",
       "      <td>70204</td>\n",
       "      <td>2014-12-15 00:00:00</td>\n",
       "      <td>\\nI found this course to be a major disappoint...</td>\n",
       "      <td>4</td>\n",
       "      <td>2</td>\n",
       "      <td>0</td>\n",
       "      <td>3540.0</td>\n",
       "      <td>Gundogdu, Ayten</td>\n",
       "      <td>137</td>\n",
       "      <td>Art Hum</td>\n",
       "      <td>0.8254</td>\n",
       "      <td>0.055</td>\n",
       "      <td>0.832</td>\n",
       "      <td>0.113</td>\n",
       "    </tr>\n",
       "    <tr>\n",
       "      <th>4</th>\n",
       "      <td>4</td>\n",
       "      <td>70205</td>\n",
       "      <td>2014-12-15 00:00:00</td>\n",
       "      <td>\\nProf Connor's class was very enjoyable. The ...</td>\n",
       "      <td>4</td>\n",
       "      <td>0</td>\n",
       "      <td>1</td>\n",
       "      <td>2350.0</td>\n",
       "      <td>Connor, Peter</td>\n",
       "      <td>5547</td>\n",
       "      <td>[CPLT BC3110] Intro to Translation Studies</td>\n",
       "      <td>0.9990</td>\n",
       "      <td>0.010</td>\n",
       "      <td>0.819</td>\n",
       "      <td>0.171</td>\n",
       "    </tr>\n",
       "  </tbody>\n",
       "</table>\n",
       "</div>"
      ],
      "text/plain": [
       "   Unnamed: 0  review_id          review_date  \\\n",
       "0           0      70013  2014-12-15 00:00:00   \n",
       "1           1      70014  2014-12-15 00:00:00   \n",
       "2           2      70144  2014-12-15 00:00:00   \n",
       "3           3      70204  2014-12-15 00:00:00   \n",
       "4           4      70205  2014-12-15 00:00:00   \n",
       "\n",
       "                                         review_text  agree_score  \\\n",
       "0  \\nBest teacher I've ever had at Columbia. \\nWo...            3   \n",
       "1  \\nAlma Mora is the WORST professor I have had ...            0   \n",
       "2  \\nProf. Collins did a flipped classroom format...            6   \n",
       "3  \\nI found this course to be a major disappoint...            4   \n",
       "4  \\nProf Connor's class was very enjoyable. The ...            4   \n",
       "\n",
       "   disagree_score  funny_score  professor_id    professor_name  course_id  \\\n",
       "0               0            0        2080.0  Neely, Evan (TA)        137   \n",
       "1               0            0           NaN               NaN        242   \n",
       "2               0            0       10729.0  Collins, Michael       4903   \n",
       "3               2            0        3540.0   Gundogdu, Ayten        137   \n",
       "4               0            1        2350.0     Connor, Peter       5547   \n",
       "\n",
       "                                  course_name  compound    neg    neu    pos  \n",
       "0                                     Art Hum    0.5267  0.090  0.700  0.210  \n",
       "1          [SPAN V1102] Elementary Spanish II   -0.8429  0.066  0.884  0.050  \n",
       "2    [COMS W4705] Natural Language Processing    0.9898  0.032  0.840  0.128  \n",
       "3                                     Art Hum    0.8254  0.055  0.832  0.113  \n",
       "4  [CPLT BC3110] Intro to Translation Studies    0.9990  0.010  0.819  0.171  "
      ]
     },
     "execution_count": 123,
     "metadata": {},
     "output_type": "execute_result"
    }
   ],
   "source": [
    "subset.head()"
   ]
  },
  {
   "cell_type": "markdown",
   "metadata": {},
   "source": [
    "#### Add weights for Agree/Disagree scores and append *Weighted Scores* to the DataFrame"
   ]
  },
  {
   "cell_type": "markdown",
   "metadata": {},
   "source": [
    "Formula to calculate weights:"
   ]
  },
  {
   "cell_type": "code",
   "execution_count": 61,
   "metadata": {
    "collapsed": true
   },
   "outputs": [],
   "source": [
    "#weight = subset.loc[1,'agree_score'] * subset.loc[1,'agree_score'] + subset.loc[1,'disagree_score']"
   ]
  },
  {
   "cell_type": "markdown",
   "metadata": {},
   "source": [
    "$$ Weight = \\frac{Agree}{Agree + Disagree}$$\n",
    "\n",
    "Is this good?"
   ]
  },
  {
   "cell_type": "code",
   "execution_count": 130,
   "metadata": {
    "scrolled": true
   },
   "outputs": [
    {
     "name": "stderr",
     "output_type": "stream",
     "text": [
      "/Users/pranjalbajaj/anaconda/lib/python3.6/site-packages/ipykernel_launcher.py:1: RuntimeWarning: divide by zero encountered in reciprocal\n",
      "  \"\"\"Entry point for launching an IPython kernel.\n",
      "/Users/pranjalbajaj/anaconda/lib/python3.6/site-packages/ipykernel_launcher.py:1: RuntimeWarning: invalid value encountered in reciprocal\n",
      "  \"\"\"Entry point for launching an IPython kernel.\n"
     ]
    }
   ],
   "source": [
    "weight = np.multiply(subset['agree_score'], np.reciprocal(subset['agree_score'] + subset['disagree_score']))\n",
    "weight = weight.fillna(1.0)\n",
    "weight.name = 'weight'\n",
    "subset = pd.concat([subset, weight], axis=1)\n",
    "weighted_compound = np.multiply(np.transpose(subset['weight']), subset['compound'])\n",
    "weighted_compound.name = 'weighted_compound'\n",
    "subset = pd.concat([subset, weighted_compound], axis=1)"
   ]
  },
  {
   "cell_type": "code",
   "execution_count": 131,
   "metadata": {},
   "outputs": [
    {
     "data": {
      "text/html": [
       "<div>\n",
       "<style>\n",
       "    .dataframe thead tr:only-child th {\n",
       "        text-align: right;\n",
       "    }\n",
       "\n",
       "    .dataframe thead th {\n",
       "        text-align: left;\n",
       "    }\n",
       "\n",
       "    .dataframe tbody tr th {\n",
       "        vertical-align: top;\n",
       "    }\n",
       "</style>\n",
       "<table border=\"1\" class=\"dataframe\">\n",
       "  <thead>\n",
       "    <tr style=\"text-align: right;\">\n",
       "      <th></th>\n",
       "      <th>Unnamed: 0</th>\n",
       "      <th>review_id</th>\n",
       "      <th>review_date</th>\n",
       "      <th>review_text</th>\n",
       "      <th>agree_score</th>\n",
       "      <th>disagree_score</th>\n",
       "      <th>funny_score</th>\n",
       "      <th>professor_id</th>\n",
       "      <th>professor_name</th>\n",
       "      <th>course_id</th>\n",
       "      <th>course_name</th>\n",
       "      <th>compound</th>\n",
       "      <th>neg</th>\n",
       "      <th>neu</th>\n",
       "      <th>pos</th>\n",
       "      <th>weight</th>\n",
       "      <th>weighted_compound</th>\n",
       "    </tr>\n",
       "  </thead>\n",
       "  <tbody>\n",
       "    <tr>\n",
       "      <th>0</th>\n",
       "      <td>0</td>\n",
       "      <td>70013</td>\n",
       "      <td>2014-12-15 00:00:00</td>\n",
       "      <td>\\nBest teacher I've ever had at Columbia. \\nWo...</td>\n",
       "      <td>3</td>\n",
       "      <td>0</td>\n",
       "      <td>0</td>\n",
       "      <td>2080.0</td>\n",
       "      <td>Neely, Evan (TA)</td>\n",
       "      <td>137</td>\n",
       "      <td>Art Hum</td>\n",
       "      <td>1.0</td>\n",
       "      <td>0.090</td>\n",
       "      <td>0.700</td>\n",
       "      <td>0.210</td>\n",
       "      <td>0</td>\n",
       "      <td>0.0</td>\n",
       "    </tr>\n",
       "    <tr>\n",
       "      <th>1</th>\n",
       "      <td>1</td>\n",
       "      <td>70014</td>\n",
       "      <td>2014-12-15 00:00:00</td>\n",
       "      <td>\\nAlma Mora is the WORST professor I have had ...</td>\n",
       "      <td>0</td>\n",
       "      <td>0</td>\n",
       "      <td>0</td>\n",
       "      <td>NaN</td>\n",
       "      <td>NaN</td>\n",
       "      <td>242</td>\n",
       "      <td>[SPAN V1102] Elementary Spanish II</td>\n",
       "      <td>0.0</td>\n",
       "      <td>0.066</td>\n",
       "      <td>0.884</td>\n",
       "      <td>0.050</td>\n",
       "      <td>0</td>\n",
       "      <td>0.0</td>\n",
       "    </tr>\n",
       "    <tr>\n",
       "      <th>2</th>\n",
       "      <td>2</td>\n",
       "      <td>70144</td>\n",
       "      <td>2014-12-15 00:00:00</td>\n",
       "      <td>\\nProf. Collins did a flipped classroom format...</td>\n",
       "      <td>6</td>\n",
       "      <td>0</td>\n",
       "      <td>0</td>\n",
       "      <td>10729.0</td>\n",
       "      <td>Collins, Michael</td>\n",
       "      <td>4903</td>\n",
       "      <td>[COMS W4705] Natural Language Processing</td>\n",
       "      <td>1.0</td>\n",
       "      <td>0.032</td>\n",
       "      <td>0.840</td>\n",
       "      <td>0.128</td>\n",
       "      <td>0</td>\n",
       "      <td>0.0</td>\n",
       "    </tr>\n",
       "    <tr>\n",
       "      <th>3</th>\n",
       "      <td>3</td>\n",
       "      <td>70204</td>\n",
       "      <td>2014-12-15 00:00:00</td>\n",
       "      <td>\\nI found this course to be a major disappoint...</td>\n",
       "      <td>4</td>\n",
       "      <td>2</td>\n",
       "      <td>0</td>\n",
       "      <td>3540.0</td>\n",
       "      <td>Gundogdu, Ayten</td>\n",
       "      <td>137</td>\n",
       "      <td>Art Hum</td>\n",
       "      <td>1.0</td>\n",
       "      <td>0.055</td>\n",
       "      <td>0.832</td>\n",
       "      <td>0.113</td>\n",
       "      <td>0</td>\n",
       "      <td>0.0</td>\n",
       "    </tr>\n",
       "    <tr>\n",
       "      <th>4</th>\n",
       "      <td>4</td>\n",
       "      <td>70205</td>\n",
       "      <td>2014-12-15 00:00:00</td>\n",
       "      <td>\\nProf Connor's class was very enjoyable. The ...</td>\n",
       "      <td>4</td>\n",
       "      <td>0</td>\n",
       "      <td>1</td>\n",
       "      <td>2350.0</td>\n",
       "      <td>Connor, Peter</td>\n",
       "      <td>5547</td>\n",
       "      <td>[CPLT BC3110] Intro to Translation Studies</td>\n",
       "      <td>1.0</td>\n",
       "      <td>0.010</td>\n",
       "      <td>0.819</td>\n",
       "      <td>0.171</td>\n",
       "      <td>0</td>\n",
       "      <td>0.0</td>\n",
       "    </tr>\n",
       "  </tbody>\n",
       "</table>\n",
       "</div>"
      ],
      "text/plain": [
       "   Unnamed: 0  review_id          review_date  \\\n",
       "0           0      70013  2014-12-15 00:00:00   \n",
       "1           1      70014  2014-12-15 00:00:00   \n",
       "2           2      70144  2014-12-15 00:00:00   \n",
       "3           3      70204  2014-12-15 00:00:00   \n",
       "4           4      70205  2014-12-15 00:00:00   \n",
       "\n",
       "                                         review_text  agree_score  \\\n",
       "0  \\nBest teacher I've ever had at Columbia. \\nWo...            3   \n",
       "1  \\nAlma Mora is the WORST professor I have had ...            0   \n",
       "2  \\nProf. Collins did a flipped classroom format...            6   \n",
       "3  \\nI found this course to be a major disappoint...            4   \n",
       "4  \\nProf Connor's class was very enjoyable. The ...            4   \n",
       "\n",
       "   disagree_score  funny_score  professor_id    professor_name  course_id  \\\n",
       "0               0            0        2080.0  Neely, Evan (TA)        137   \n",
       "1               0            0           NaN               NaN        242   \n",
       "2               0            0       10729.0  Collins, Michael       4903   \n",
       "3               2            0        3540.0   Gundogdu, Ayten        137   \n",
       "4               0            1        2350.0     Connor, Peter       5547   \n",
       "\n",
       "                                  course_name  compound    neg    neu    pos  \\\n",
       "0                                     Art Hum       1.0  0.090  0.700  0.210   \n",
       "1          [SPAN V1102] Elementary Spanish II       0.0  0.066  0.884  0.050   \n",
       "2    [COMS W4705] Natural Language Processing       1.0  0.032  0.840  0.128   \n",
       "3                                     Art Hum       1.0  0.055  0.832  0.113   \n",
       "4  [CPLT BC3110] Intro to Translation Studies       1.0  0.010  0.819  0.171   \n",
       "\n",
       "   weight  weighted_compound  \n",
       "0       0                0.0  \n",
       "1       0                0.0  \n",
       "2       0                0.0  \n",
       "3       0                0.0  \n",
       "4       0                0.0  "
      ]
     },
     "execution_count": 131,
     "metadata": {},
     "output_type": "execute_result"
    }
   ],
   "source": [
    "subset.head()"
   ]
  },
  {
   "cell_type": "markdown",
   "metadata": {},
   "source": [
    "## Using a Logistic Regression Model for prediction and visualising most important features"
   ]
  },
  {
   "cell_type": "markdown",
   "metadata": {},
   "source": [
    "#### Get Binary Classification for review scores"
   ]
  },
  {
   "cell_type": "code",
   "execution_count": 124,
   "metadata": {},
   "outputs": [
    {
     "name": "stderr",
     "output_type": "stream",
     "text": [
      "  0%|          | 0/1790 [00:00<?, ?it/s]/Users/pranjalbajaj/anaconda/lib/python3.6/site-packages/ipykernel_launcher.py:3: SettingWithCopyWarning: \n",
      "A value is trying to be set on a copy of a slice from a DataFrame\n",
      "\n",
      "See the caveats in the documentation: http://pandas.pydata.org/pandas-docs/stable/indexing.html#indexing-view-versus-copy\n",
      "  This is separate from the ipykernel package so we can avoid doing imports until\n",
      "/Users/pranjalbajaj/anaconda/lib/python3.6/site-packages/ipykernel_launcher.py:5: SettingWithCopyWarning: \n",
      "A value is trying to be set on a copy of a slice from a DataFrame\n",
      "\n",
      "See the caveats in the documentation: http://pandas.pydata.org/pandas-docs/stable/indexing.html#indexing-view-versus-copy\n",
      "  \"\"\"\n",
      "100%|██████████| 1790/1790 [01:19<00:00, 22.46it/s]\n"
     ]
    }
   ],
   "source": [
    "for i in tqdm(range(len(subset))):\n",
    "    if subset['compound'][i] > 0:\n",
    "        subset['compound'][i] = 1\n",
    "    else:\n",
    "        subset['compound'][i] = 0 "
   ]
  },
  {
   "cell_type": "markdown",
   "metadata": {},
   "source": [
    "#### Use CountVectorizer and TfidfVectorizer"
   ]
  },
  {
   "cell_type": "code",
   "execution_count": 146,
   "metadata": {
    "collapsed": true
   },
   "outputs": [],
   "source": [
    "from sklearn.feature_extraction.text import CountVectorizer \n",
    "from sklearn.feature_extraction.text import TfidfVectorizer\n",
    "\n",
    "train = (df_70k_80k['review_text'].values).astype('U')\n",
    "vect = TfidfVectorizer(stop_words='english').fit(train) #, ngram_range = (1, 1), min_df = 0.005\n",
    "bag = vect.transform(train)\n",
    "\n",
    "y = subset['compound']"
   ]
  },
  {
   "cell_type": "markdown",
   "metadata": {},
   "source": [
    "#### Run Model"
   ]
  },
  {
   "cell_type": "code",
   "execution_count": 147,
   "metadata": {},
   "outputs": [
    {
     "data": {
      "text/plain": [
       "LogisticRegression(C=1.0, class_weight=None, dual=False, fit_intercept=True,\n",
       "          intercept_scaling=1, max_iter=100, multi_class='ovr', n_jobs=1,\n",
       "          penalty='l2', random_state=None, solver='liblinear', tol=0.0001,\n",
       "          verbose=0, warm_start=False)"
      ]
     },
     "execution_count": 147,
     "metadata": {},
     "output_type": "execute_result"
    }
   ],
   "source": [
    "from sklearn.linear_model import LogisticRegression\n",
    "lr = LogisticRegression()\n",
    "lr.fit(bag, y)"
   ]
  },
  {
   "cell_type": "code",
   "execution_count": 148,
   "metadata": {},
   "outputs": [
    {
     "name": "stdout",
     "output_type": "stream",
     "text": [
      "Mean cross-validation accuracy: 0.87\n"
     ]
    }
   ],
   "source": [
    "from sklearn.model_selection import cross_val_score\n",
    "from sklearn.metrics import average_precision_score\n",
    "scores = cross_val_score(LogisticRegression(class_weight='balanced'), bag, y, cv = 5 ) \n",
    "print(\"Mean cross-validation accuracy: {:.2f}\".format(np.mean(scores))) "
   ]
  },
  {
   "cell_type": "code",
   "execution_count": 149,
   "metadata": {
    "collapsed": true
   },
   "outputs": [],
   "source": [
    "coefs = lr.coef_\n",
    "feature_names = vect.get_feature_names()"
   ]
  },
  {
   "cell_type": "markdown",
   "metadata": {},
   "source": [
    "#### Look at the top features i.e. words "
   ]
  },
  {
   "cell_type": "code",
   "execution_count": 150,
   "metadata": {
    "scrolled": true
   },
   "outputs": [
    {
     "data": {
      "image/png": "[encoded data removed]",
      "text/plain": [
       "<matplotlib.figure.Figure at 0x11b31e9e8>"
      ]
     },
     "metadata": {},
     "output_type": "display_data"
    }
   ],
   "source": [
    "import mglearn\n",
    "import matplotlib.pyplot as plt\n",
    "mglearn.tools.visualize_coefficients(coefs, feature_names, n_top_features = 20)\n",
    "plt.show()"
   ]
  },
  {
   "cell_type": "markdown",
   "metadata": {},
   "source": [
    "#### Get PCAs and visualize"
   ]
  },
  {
   "cell_type": "code",
   "execution_count": 155,
   "metadata": {},
   "outputs": [
    {
     "data": {
      "text/plain": [
       "(100, 13283)"
      ]
     },
     "execution_count": 155,
     "metadata": {},
     "output_type": "execute_result"
    }
   ],
   "source": [
    "from sklearn.decomposition import TruncatedSVD\n",
    "lsa = TruncatedSVD(n_components=100)\n",
    "lsa.fit_transform(bag)\n",
    "lsa.components_.shape"
   ]
  },
  {
   "cell_type": "code",
   "execution_count": 157,
   "metadata": {},
   "outputs": [
    {
     "data": {
      "image/png": "[encoded data removed]",
      "text/plain": [
       "<matplotlib.figure.Figure at 0x1250da588>"
      ]
     },
     "metadata": {},
     "output_type": "display_data"
    }
   ],
   "source": [
    "plt.semilogy(lsa.explained_variance_ratio_)\n",
    "plt.show()"
   ]
  },
  {
   "cell_type": "code",
   "execution_count": null,
   "metadata": {
    "collapsed": true
   },
   "outputs": [],
   "source": [
    "#### \n",
    "For this: \n",
    "- Scale the data\n",
    "- TruncatedSVD"
   ]
  },
  {
   "cell_type": "code",
   "execution_count": 163,
   "metadata": {},
   "outputs": [
    {
     "data": {
      "image/png": "[encoded data removed]",
      "text/plain": [
       "<matplotlib.figure.Figure at 0x124574128>"
      ]
     },
     "metadata": {},
     "output_type": "display_data"
    }
   ],
   "source": [
    "from sklearn.preprocessing import MaxAbsScaler\n",
    "scaler = MaxAbsScaler()\n",
    "X_scaled = scaler.fit_transform(bag)\n",
    "lsa_scaled = TruncatedSVD(n_components=100)\n",
    "\n",
    "X_lsa_scaled = lsa_scaled.fit_transform(X_scaled)\n",
    "\n",
    "plt.scatter(X_lsa_scaled[:, 1], X_lsa_scaled[:, 3], alpha=.1, c=y)\n",
    "plt.show()"
   ]
  },
  {
   "cell_type": "code",
   "execution_count": 165,
   "metadata": {},
   "outputs": [
    {
     "name": "stdout",
     "output_type": "stream",
     "text": [
      "violation: 1.0\n",
      "violation: 0.4004935294854373\n",
      "violation: 0.4160863812825953\n",
      "violation: 0.3209129905007914\n",
      "violation: 0.28357028200660866\n",
      "violation: 0.2544926111834495\n",
      "violation: 0.22759124697912683\n",
      "violation: 0.20448269852996104\n",
      "violation: 0.18424181770848228\n",
      "violation: 0.17001727754327173\n",
      "violation: 0.16160014735352873\n",
      "violation: 0.15423541183393924\n",
      "violation: 0.14419448762686393\n",
      "violation: 0.13071869611389494\n",
      "violation: 0.1162756598427817\n",
      "violation: 0.10123100973445452\n",
      "violation: 0.08905733428295819\n",
      "violation: 0.07793209938704734\n",
      "violation: 0.07022937268382509\n",
      "violation: 0.06529023174258046\n",
      "violation: 0.06218978633813394\n",
      "violation: 0.05961192015165493\n",
      "violation: 0.05746176038067163\n",
      "violation: 0.05580222029171489\n",
      "violation: 0.05466405611897376\n",
      "violation: 0.05297075819469892\n",
      "violation: 0.051236486031726605\n",
      "violation: 0.04928449425406218\n",
      "violation: 0.047280301733025165\n",
      "violation: 0.04483488543553567\n",
      "violation: 0.04223052364884448\n",
      "violation: 0.03972663307680079\n",
      "violation: 0.037158641678414345\n",
      "violation: 0.03479168739904649\n",
      "violation: 0.0327231388249656\n",
      "violation: 0.03082594858999941\n",
      "violation: 0.029271341344534074\n",
      "violation: 0.027846650205529334\n",
      "violation: 0.026484773705493406\n",
      "violation: 0.02542567914622423\n",
      "violation: 0.02456571961288141\n",
      "violation: 0.023773689188793086\n",
      "violation: 0.02333560082849098\n",
      "violation: 0.022958882824188065\n",
      "violation: 0.022729634804131302\n",
      "violation: 0.02262646107807877\n",
      "violation: 0.022389685900227118\n",
      "violation: 0.022006956795602876\n",
      "violation: 0.021329747357004103\n",
      "violation: 0.02039302911936641\n",
      "violation: 0.019282571570826353\n",
      "violation: 0.017959354189168424\n",
      "violation: 0.01660897562082131\n",
      "violation: 0.015291125633124038\n",
      "violation: 0.014046665374640575\n",
      "violation: 0.012884878292099142\n",
      "violation: 0.011895067571568782\n",
      "violation: 0.011043583938217477\n",
      "violation: 0.01035438657238391\n",
      "violation: 0.00976330513440668\n",
      "Converged at iteration 60\n"
     ]
    },
    {
     "data": {
      "text/plain": [
       "NMF(alpha=0.0, beta_loss='frobenius', init=None, l1_ratio=0.0, max_iter=200,\n",
       "  n_components=100, random_state=None, shuffle=False, solver='cd',\n",
       "  tol=0.01, verbose=10)"
      ]
     },
     "execution_count": 165,
     "metadata": {},
     "output_type": "execute_result"
    }
   ],
   "source": [
    "from sklearn.decomposition import NMF\n",
    "lr_lsa = LogisticRegression(C=100).fit(X_lsa_scaled[:, :10], y)\n",
    "\n",
    "nmf_scale = NMF(n_components=100, verbose=10, tol=0.01)\n",
    "nmf_scale.fit(X_scaled)"
   ]
  },
  {
   "cell_type": "code",
   "execution_count": 167,
   "metadata": {},
   "outputs": [],
   "source": [
    "coefs = nmf_scale.components_\n",
    "feature_names = vect.get_feature_names()"
   ]
  },
  {
   "cell_type": "code",
   "execution_count": 169,
   "metadata": {},
   "outputs": [],
   "source": [
    "#mglearn.tools.visualize_coefficients(coefs, feature_names, n_top_features = 20)\n",
    "plt.show()"
   ]
  },
  {
   "cell_type": "markdown",
   "metadata": {},
   "source": [
    "#### LDA "
   ]
  },
  {
   "cell_type": "code",
   "execution_count": 170,
   "metadata": {
    "collapsed": true
   },
   "outputs": [],
   "source": [
    "from sklearn.decomposition import LatentDirichletAllocation\n",
    "lda = LatentDirichletAllocation(n_components=10, learning_method=\"batch\")\n",
    "X_lda = lda.fit_transform(bag)"
   ]
  },
  {
   "cell_type": "code",
   "execution_count": 171,
   "metadata": {
    "collapsed": true
   },
   "outputs": [],
   "source": [
    "lda100 = LatentDirichletAllocation(n_components=100, learning_method=\"batch\")\n",
    "X_lda100 = lda100.fit_transform(bag)"
   ]
  },
  {
   "cell_type": "markdown",
   "metadata": {},
   "source": [
    "#### Genism"
   ]
  },
  {
   "cell_type": "markdown",
   "metadata": {},
   "source": [
    "# continue here\n",
    "https://amueller.github.io/COMS4995-s18/slides/aml-21-041118-word-embeddings/#p37"
   ]
  },
  {
   "cell_type": "code",
   "execution_count": 174,
   "metadata": {},
   "outputs": [
    {
     "name": "stderr",
     "output_type": "stream",
     "text": [
      "IOPub data rate exceeded.\n",
      "The notebook server will temporarily stop sending output\n",
      "to the client in order to avoid crashing it.\n",
      "To change this limit, set the config variable\n",
      "`--NotebookApp.iopub_data_rate_limit`.\n"
     ]
    }
   ],
   "source": [
    "docs = train\n",
    "texts = [[token for token in doc.lower().split()] for doc in docs]"
   ]
  },
  {
   "cell_type": "code",
   "execution_count": 176,
   "metadata": {},
   "outputs": [
    {
     "ename": "ModuleNotFoundError",
     "evalue": "No module named 'gensim'",
     "output_type": "error",
     "traceback": [
      "\u001b[0;31m---------------------------------------------------------------------------\u001b[0m",
      "\u001b[0;31mModuleNotFoundError\u001b[0m                       Traceback (most recent call last)",
      "\u001b[0;32m<ipython-input-176-7e28fdea5895>\u001b[0m in \u001b[0;36m<module>\u001b[0;34m()\u001b[0m\n\u001b[0;32m----> 1\u001b[0;31m \u001b[0;32mfrom\u001b[0m \u001b[0mgensim\u001b[0m \u001b[0;32mimport\u001b[0m \u001b[0mcorpora\u001b[0m\u001b[0;34m\u001b[0m\u001b[0m\n\u001b[0m\u001b[1;32m      2\u001b[0m \u001b[0mdictionary\u001b[0m \u001b[0;34m=\u001b[0m \u001b[0mcorpora\u001b[0m\u001b[0;34m.\u001b[0m\u001b[0mDictionary\u001b[0m\u001b[0;34m(\u001b[0m\u001b[0mtexts\u001b[0m\u001b[0;34m)\u001b[0m\u001b[0;34m\u001b[0m\u001b[0m\n\u001b[1;32m      3\u001b[0m \u001b[0mprint\u001b[0m\u001b[0;34m(\u001b[0m\u001b[0mdictionary\u001b[0m\u001b[0;34m)\u001b[0m\u001b[0;34m\u001b[0m\u001b[0m\n",
      "\u001b[0;31mModuleNotFoundError\u001b[0m: No module named 'gensim'"
     ]
    }
   ],
   "source": [
    "from gensim import corpora\n",
    "dictionary = corpora.Dictionary(texts)\n",
    "print(dictionary)"
   ]
  },
  {
   "cell_type": "code",
   "execution_count": null,
   "metadata": {
    "collapsed": true
   },
   "outputs": [],
   "source": [
    "import gensim\n",
    "corpus\n",
    "gensim.matutils.corpus2csc(corpus)\n",
    "X = CountVectorizer().fit_transform(docs)\n",
    "X"
   ]
  },
  {
   "cell_type": "code",
   "execution_count": null,
   "metadata": {
    "collapsed": true
   },
   "outputs": [],
   "source": [
    "sparse_corpus = gensim.matutils.Sparse2Corpus(X.T)\n",
    "print(sparse_corpus)\n",
    "print(list(sparse_corpus))"
   ]
  },
  {
   "cell_type": "markdown",
   "metadata": {},
   "source": [
    "\n",
    "---\n",
    "# Old code <a name=\"oldcode\"></a>"
   ]
  },
  {
   "cell_type": "markdown",
   "metadata": {},
   "source": [
    "### Webscraping (IDs 20000 to 20100) [Weida]"
   ]
  },
  {
   "cell_type": "code",
   "execution_count": 80,
   "metadata": {},
   "outputs": [
    {
     "name": "stderr",
     "output_type": "stream",
     "text": [
      "100%|██████████| 100/100 [01:45<00:00,  1.05s/it]\n"
     ]
    }
   ],
   "source": [
    "'''\n",
    "from bs4 import BeautifulSoup \n",
    "import re\n",
    "from urllib.request import urlopen \n",
    "import pandas as pd\n",
    "from tqdm import tqdm #shows progress\n",
    "\n",
    "df_200_201 = pd.DataFrame(columns=['review_id', 'review_date' ,'review_text', 'agree_score', 'disagree_score',\n",
    "                             'funny_score', 'professor_id', 'professor_name'])\n",
    "for i in tqdm(range(20000, 20100)):\n",
    "    url = 'http://culpa.info/reviews/{}'.format(i)\n",
    "    r = urlopen(url).read() \n",
    "    soup = BeautifulSoup(r, \"lxml\") \n",
    "    # if review doesn't exist, it redirects to home page, maybe use len() to check if we got redirected\n",
    "    if len(soup.text) > 15500:\n",
    "        continue\n",
    "\n",
    "    professor_id = int(soup.find(href=re.compile('(professor)'))['href'][12:])\n",
    "    professor_name = soup.find(href=re.compile('(professor)')).text\n",
    "    review_id = int(soup.find(href=re.compile('(reviews)'))['href'][9:])\n",
    "    review_text = soup.find(class_='review_content').text\n",
    "    review_date = pd.Timestamp(soup.find(class_='date').text.strip())\n",
    "    agree_score = int(re.findall('\\d+', soup.find(class_='agree')['value'])[0])\n",
    "    disagree_score = int(re.findall('\\d+', soup.find(class_='disagree')['value'])[0])\n",
    "    funny_score = int(re.findall('\\d+', soup.find(class_='funny')['value'])[0])\n",
    "\n",
    "    to_append = pd.DataFrame(data=[review_id, review_date, review_text, agree_score, \n",
    "                              disagree_score, funny_score, professor_id, professor_name],\n",
    "                            index=['review_id', 'review_date' ,'review_text', 'agree_score', \n",
    "                              'disagree_score', 'funny_score', 'professor_id', 'professor_name']).T\n",
    "    \n",
    "    df_200_201 = pd.concat([df_200_201, to_append], ignore_index=True)\n",
    "'''"
   ]
  },
  {
   "cell_type": "markdown",
   "metadata": {},
   "source": [
    "#### Check out the scraped data: : First 5 Rows"
   ]
  },
  {
   "cell_type": "code",
   "execution_count": 8,
   "metadata": {
    "scrolled": true
   },
   "outputs": [
    {
     "data": {
      "text/html": [
       "<div>\n",
       "<style>\n",
       "    .dataframe thead tr:only-child th {\n",
       "        text-align: right;\n",
       "    }\n",
       "\n",
       "    .dataframe thead th {\n",
       "        text-align: left;\n",
       "    }\n",
       "\n",
       "    .dataframe tbody tr th {\n",
       "        vertical-align: top;\n",
       "    }\n",
       "</style>\n",
       "<table border=\"1\" class=\"dataframe\">\n",
       "  <thead>\n",
       "    <tr style=\"text-align: right;\">\n",
       "      <th></th>\n",
       "      <th>review_id</th>\n",
       "      <th>review_date</th>\n",
       "      <th>review_text</th>\n",
       "      <th>agree_score</th>\n",
       "      <th>disagree_score</th>\n",
       "      <th>funny_score</th>\n",
       "      <th>professor_id</th>\n",
       "      <th>professor_name</th>\n",
       "    </tr>\n",
       "  </thead>\n",
       "  <tbody>\n",
       "    <tr>\n",
       "      <th>0</th>\n",
       "      <td>20000</td>\n",
       "      <td>2007-05-18 00:00:00</td>\n",
       "      <td>\\nComing off a semester of very little work in...</td>\n",
       "      <td>0</td>\n",
       "      <td>0</td>\n",
       "      <td>0</td>\n",
       "      <td>3281</td>\n",
       "      <td>Veneziano Broccia, Lillyrose</td>\n",
       "    </tr>\n",
       "    <tr>\n",
       "      <th>1</th>\n",
       "      <td>20001</td>\n",
       "      <td>2007-05-18 00:00:00</td>\n",
       "      <td>\\nI had Professor Robbins for a lecture in the...</td>\n",
       "      <td>4</td>\n",
       "      <td>2</td>\n",
       "      <td>0</td>\n",
       "      <td>744</td>\n",
       "      <td>Robbins, Bruce</td>\n",
       "    </tr>\n",
       "    <tr>\n",
       "      <th>2</th>\n",
       "      <td>20002</td>\n",
       "      <td>2007-05-18 00:00:00</td>\n",
       "      <td>\\nIt's a little hard for me to criticize Profe...</td>\n",
       "      <td>5</td>\n",
       "      <td>2</td>\n",
       "      <td>0</td>\n",
       "      <td>115</td>\n",
       "      <td>Sacks, Richard</td>\n",
       "    </tr>\n",
       "    <tr>\n",
       "      <th>3</th>\n",
       "      <td>20003</td>\n",
       "      <td>2007-05-18 00:00:00</td>\n",
       "      <td>\\nThis class was a disaster. Professor Daniel ...</td>\n",
       "      <td>4</td>\n",
       "      <td>2</td>\n",
       "      <td>0</td>\n",
       "      <td>456</td>\n",
       "      <td>Daniel, Valentine</td>\n",
       "    </tr>\n",
       "    <tr>\n",
       "      <th>4</th>\n",
       "      <td>20004</td>\n",
       "      <td>2007-05-19 00:00:00</td>\n",
       "      <td>\\nLovely class and professor. The class was mo...</td>\n",
       "      <td>3</td>\n",
       "      <td>3</td>\n",
       "      <td>0</td>\n",
       "      <td>2371</td>\n",
       "      <td>Radwan, Noha</td>\n",
       "    </tr>\n",
       "  </tbody>\n",
       "</table>\n",
       "</div>"
      ],
      "text/plain": [
       "  review_id          review_date  \\\n",
       "0     20000  2007-05-18 00:00:00   \n",
       "1     20001  2007-05-18 00:00:00   \n",
       "2     20002  2007-05-18 00:00:00   \n",
       "3     20003  2007-05-18 00:00:00   \n",
       "4     20004  2007-05-19 00:00:00   \n",
       "\n",
       "                                         review_text agree_score  \\\n",
       "0  \\nComing off a semester of very little work in...           0   \n",
       "1  \\nI had Professor Robbins for a lecture in the...           4   \n",
       "2  \\nIt's a little hard for me to criticize Profe...           5   \n",
       "3  \\nThis class was a disaster. Professor Daniel ...           4   \n",
       "4  \\nLovely class and professor. The class was mo...           3   \n",
       "\n",
       "  disagree_score funny_score professor_id                professor_name  \n",
       "0              0           0         3281  Veneziano Broccia, Lillyrose  \n",
       "1              2           0          744                Robbins, Bruce  \n",
       "2              2           0          115                Sacks, Richard  \n",
       "3              2           0          456            Daniel, Valentine   \n",
       "4              3           0         2371                  Radwan, Noha  "
      ]
     },
     "execution_count": 8,
     "metadata": {},
     "output_type": "execute_result"
    }
   ],
   "source": [
    "df_200_201.head()"
   ]
  },
  {
   "cell_type": "markdown",
   "metadata": {},
   "source": [
    "### Weights"
   ]
  },
  {
   "cell_type": "markdown",
   "metadata": {},
   "source": [
    "Formula to calculate weights while iterating (Sorry, can't get it to function -- brain dead right now haha :P)\n",
    "#### Can anyone fix this?\n",
    "- **skipped using loops, refer to above [weida]**"
   ]
  },
  {
   "cell_type": "code",
   "execution_count": 136,
   "metadata": {
    "scrolled": true
   },
   "outputs": [
    {
     "name": "stderr",
     "output_type": "stream",
     "text": [
      "\n",
      "  0%|          | 0/20 [00:00<?, ?it/s]\n"
     ]
    },
    {
     "ename": "TypeError",
     "evalue": "cannot concatenate a non-NDFrame object",
     "output_type": "error",
     "traceback": [
      "\u001b[0;31m---------------------------------------------------------------------------\u001b[0m",
      "\u001b[0;31mTypeError\u001b[0m                                 Traceback (most recent call last)",
      "\u001b[0;32m<ipython-input-136-58a8d6a529f8>\u001b[0m in \u001b[0;36m<module>\u001b[0;34m()\u001b[0m\n\u001b[1;32m      7\u001b[0m         \u001b[0mweights\u001b[0m \u001b[0;34m=\u001b[0m \u001b[0msubset\u001b[0m\u001b[0;34m.\u001b[0m\u001b[0mloc\u001b[0m\u001b[0;34m[\u001b[0m\u001b[0mi\u001b[0m\u001b[0;34m,\u001b[0m\u001b[0;34m'agree_score'\u001b[0m\u001b[0;34m]\u001b[0m \u001b[0;34m/\u001b[0m \u001b[0mdenominator\u001b[0m\u001b[0;34m\u001b[0m\u001b[0m\n\u001b[1;32m      8\u001b[0m         \u001b[0mw_score\u001b[0m \u001b[0;34m=\u001b[0m \u001b[0msubset\u001b[0m\u001b[0;34m.\u001b[0m\u001b[0mloc\u001b[0m\u001b[0;34m[\u001b[0m\u001b[0mi\u001b[0m\u001b[0;34m,\u001b[0m\u001b[0;34m'compound'\u001b[0m\u001b[0;34m]\u001b[0m \u001b[0;34m*\u001b[0m \u001b[0mweight\u001b[0m \u001b[0;31m#calculate weighted score (w_score)\u001b[0m\u001b[0;34m\u001b[0m\u001b[0m\n\u001b[0;32m----> 9\u001b[0;31m         \u001b[0mweighted_score\u001b[0m\u001b[0;34m.\u001b[0m\u001b[0mappend\u001b[0m\u001b[0;34m(\u001b[0m\u001b[0mw_score\u001b[0m\u001b[0;34m)\u001b[0m \u001b[0;31m#append it to the empty pandas column\u001b[0m\u001b[0;34m\u001b[0m\u001b[0m\n\u001b[0m\u001b[1;32m     10\u001b[0m \u001b[0;34m\u001b[0m\u001b[0m\n\u001b[1;32m     11\u001b[0m \u001b[0msubset\u001b[0m \u001b[0;34m=\u001b[0m \u001b[0mpd\u001b[0m\u001b[0;34m.\u001b[0m\u001b[0mconcat\u001b[0m\u001b[0;34m(\u001b[0m\u001b[0;34m[\u001b[0m\u001b[0msubset\u001b[0m\u001b[0;34m,\u001b[0m \u001b[0mweighted_score\u001b[0m\u001b[0;34m]\u001b[0m\u001b[0;34m,\u001b[0m \u001b[0mignore_index\u001b[0m\u001b[0;34m=\u001b[0m\u001b[0;32mTrue\u001b[0m\u001b[0;34m)\u001b[0m \u001b[0;31m#add to the our dataframe, subset\u001b[0m\u001b[0;34m\u001b[0m\u001b[0m\n",
      "\u001b[0;32m/Users/pranjalbajaj/anaconda/lib/python3.6/site-packages/pandas/core/frame.py\u001b[0m in \u001b[0;36mappend\u001b[0;34m(self, other, ignore_index, verify_integrity)\u001b[0m\n\u001b[1;32m   4643\u001b[0m             \u001b[0mto_concat\u001b[0m \u001b[0;34m=\u001b[0m \u001b[0;34m[\u001b[0m\u001b[0mself\u001b[0m\u001b[0;34m,\u001b[0m \u001b[0mother\u001b[0m\u001b[0;34m]\u001b[0m\u001b[0;34m\u001b[0m\u001b[0m\n\u001b[1;32m   4644\u001b[0m         return concat(to_concat, ignore_index=ignore_index,\n\u001b[0;32m-> 4645\u001b[0;31m                       verify_integrity=verify_integrity)\n\u001b[0m\u001b[1;32m   4646\u001b[0m \u001b[0;34m\u001b[0m\u001b[0m\n\u001b[1;32m   4647\u001b[0m     def join(self, other, on=None, how='left', lsuffix='', rsuffix='',\n",
      "\u001b[0;32m/Users/pranjalbajaj/anaconda/lib/python3.6/site-packages/pandas/core/reshape/concat.py\u001b[0m in \u001b[0;36mconcat\u001b[0;34m(objs, axis, join, join_axes, ignore_index, keys, levels, names, verify_integrity, copy)\u001b[0m\n\u001b[1;32m    204\u001b[0m                        \u001b[0mkeys\u001b[0m\u001b[0;34m=\u001b[0m\u001b[0mkeys\u001b[0m\u001b[0;34m,\u001b[0m \u001b[0mlevels\u001b[0m\u001b[0;34m=\u001b[0m\u001b[0mlevels\u001b[0m\u001b[0;34m,\u001b[0m \u001b[0mnames\u001b[0m\u001b[0;34m=\u001b[0m\u001b[0mnames\u001b[0m\u001b[0;34m,\u001b[0m\u001b[0;34m\u001b[0m\u001b[0m\n\u001b[1;32m    205\u001b[0m                        \u001b[0mverify_integrity\u001b[0m\u001b[0;34m=\u001b[0m\u001b[0mverify_integrity\u001b[0m\u001b[0;34m,\u001b[0m\u001b[0;34m\u001b[0m\u001b[0m\n\u001b[0;32m--> 206\u001b[0;31m                        copy=copy)\n\u001b[0m\u001b[1;32m    207\u001b[0m     \u001b[0;32mreturn\u001b[0m \u001b[0mop\u001b[0m\u001b[0;34m.\u001b[0m\u001b[0mget_result\u001b[0m\u001b[0;34m(\u001b[0m\u001b[0;34m)\u001b[0m\u001b[0;34m\u001b[0m\u001b[0m\n\u001b[1;32m    208\u001b[0m \u001b[0;34m\u001b[0m\u001b[0m\n",
      "\u001b[0;32m/Users/pranjalbajaj/anaconda/lib/python3.6/site-packages/pandas/core/reshape/concat.py\u001b[0m in \u001b[0;36m__init__\u001b[0;34m(self, objs, axis, join, join_axes, keys, levels, names, ignore_index, verify_integrity, copy)\u001b[0m\n\u001b[1;32m    261\u001b[0m         \u001b[0;32mfor\u001b[0m \u001b[0mobj\u001b[0m \u001b[0;32min\u001b[0m \u001b[0mobjs\u001b[0m\u001b[0;34m:\u001b[0m\u001b[0;34m\u001b[0m\u001b[0m\n\u001b[1;32m    262\u001b[0m             \u001b[0;32mif\u001b[0m \u001b[0;32mnot\u001b[0m \u001b[0misinstance\u001b[0m\u001b[0;34m(\u001b[0m\u001b[0mobj\u001b[0m\u001b[0;34m,\u001b[0m \u001b[0mNDFrame\u001b[0m\u001b[0;34m)\u001b[0m\u001b[0;34m:\u001b[0m\u001b[0;34m\u001b[0m\u001b[0m\n\u001b[0;32m--> 263\u001b[0;31m                 \u001b[0;32mraise\u001b[0m \u001b[0mTypeError\u001b[0m\u001b[0;34m(\u001b[0m\u001b[0;34m\"cannot concatenate a non-NDFrame object\"\u001b[0m\u001b[0;34m)\u001b[0m\u001b[0;34m\u001b[0m\u001b[0m\n\u001b[0m\u001b[1;32m    264\u001b[0m \u001b[0;34m\u001b[0m\u001b[0m\n\u001b[1;32m    265\u001b[0m             \u001b[0;31m# consolidate\u001b[0m\u001b[0;34m\u001b[0m\u001b[0;34m\u001b[0m\u001b[0m\n",
      "\u001b[0;31mTypeError\u001b[0m: cannot concatenate a non-NDFrame object"
     ]
    }
   ],
   "source": [
    "weighted_score = pd.DataFrame({'weighted_score' : []}) #empty pandas column\n",
    "\n",
    "for i in tqdm(range(len(subset.index))): #iterate over length of dataframe (i.e. subset.index)\n",
    "    denominator = subset.loc[i,'agree_score'] + subset.loc[i,'disagree_score']\n",
    "    \n",
    "    if denominator != 0: #to avoid math error \n",
    "        weights = subset.loc[i,'agree_score'] / denominator\n",
    "        w_score = subset.loc[i,'compound'] * weight #calculate weighted score (w_score)\n",
    "        weighted_score.append(w_score) #append it to the empty pandas column\n",
    "\n",
    "subset = pd.concat([subset, weighted_score], ignore_index=True) #add to the our dataframe, subset"
   ]
  }
 ],
 "metadata": {
  "kernelspec": {
   "display_name": "Python 3",
   "language": "python",
   "name": "python3"
  },
  "language_info": {
   "codemirror_mode": {
    "name": "ipython",
    "version": 3
   },
   "file_extension": ".py",
   "mimetype": "text/x-python",
   "name": "python",
   "nbconvert_exporter": "python",
   "pygments_lexer": "ipython3",
   "version": "3.6.1"
  }
 },
 "nbformat": 4,
 "nbformat_minor": 2
}
