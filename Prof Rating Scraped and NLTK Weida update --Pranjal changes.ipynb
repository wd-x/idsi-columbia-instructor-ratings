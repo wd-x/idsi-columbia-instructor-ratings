{
 "cells": [
  {
   "cell_type": "markdown",
   "metadata": {},
   "source": [
    "<h1><center>Intro to Data Science Industry Project</h1></center>\n",
    "<h2><center>Columbia University Professor Rating System</h2></center>"
   ]
  },
  {
   "cell_type": "markdown",
   "metadata": {},
   "source": [
    "# Table of contents\n",
    "- [Webscraping](#webscrapingslowcode)\n",
    "- [Reading in scraped csv files](#readinginscrapedcsvfiles)\n",
    "- [Getting Sentiment Scores using NLTK](#nltkpranjal)\n",
    "- [Using Logistic Regression For Sentiment Analysis (using NLTK results as ground truth)](#modellingpranjal)\n",
    "- [Unsupervised Analysis: PCA, NMF and Outlier Detection](#unsupervisedpranjal)\n",
    "- [Old Code](#oldcode)"
   ]
  },
  {
   "cell_type": "markdown",
   "metadata": {},
   "source": [
    "# Webscraping progress\n",
    "- **[DONE: df_0_6950.csv]** 0 to 6950 \n",
    "- **[DONE: df_6591_10k.csv]** 6591 to 10k \n",
    "\n",
    "- **[DONE: df_10k_20k.csv]** 10k to 20k \n",
    "- **[DONE: df_20k_25k.csv]** 20k to 25k \n",
    "\n",
    "- **[DONE: df_25k_30k.csv]** 25k to 30k \n",
    "\n",
    "- **[DONE: df_30k_37579.csv]** 30k to 37579 \n",
    "- **[DONE: df_37580_40k.csv]** 37580 to 40k\n",
    "- **[DONE: df_40k_43980.csv]** 40k to 43980 \n",
    "- **[DONE: df_43980_50k.csv]** 43980 to 50k \n",
    "- **[DONE: df_50k_60k.csv]** 50k to 60k \n",
    "- **[DONE: df_60k_65k.csv]** 60k to 65k\n",
    "- **[DONE: df_65k_67500.csv]** 65k to 67500\n",
    "\n",
    "- **[DONE: df_67500_70k.csv]** 65k to 70k\n",
    "- **[DONE: df_70k_80k.csv]** 70k to 80k \n",
    "- **[DONE: df_80k_90k.csv]** 80k to 90k \n",
    "\n",
    "- (or we could figure out multiprocessing or use scrapy)"
   ]
  },
  {
   "cell_type": "markdown",
   "metadata": {},
   "source": [
    "## Import block"
   ]
  },
  {
   "cell_type": "code",
   "execution_count": 88,
   "metadata": {
    "collapsed": true
   },
   "outputs": [],
   "source": [
    "# Basic Libraries \n",
    "import pandas as pd\n",
    "import numpy as np\n",
    "\n",
    "# Web Scraping Tools \n",
    "from bs4 import BeautifulSoup \n",
    "from urllib.request import urlopen\n",
    "import re\n",
    "\n",
    "# NLTK\n",
    "import nltk\n",
    "from nltk.sentiment.vader import SentimentIntensityAnalyzer\n",
    "#nltk.download() # only need to do this once\n",
    "\n",
    "## Preprocessing for modelling\n",
    "from sklearn.model_selection import StratifiedKFold\n",
    "from sklearn.model_selection import GridSearchCV\n",
    "from sklearn.pipeline import make_pipeline\n",
    "from sklearn.model_selection import cross_val_score\n",
    "from sklearn.metrics import average_precision_score\n",
    "from sklearn.preprocessing import Normalizer\n",
    "from sklearn.preprocessing import MaxAbsScaler\n",
    "\n",
    "# Modelling \n",
    "\n",
    "## Models\n",
    "from sklearn.linear_model import LogisticRegression\n",
    "from sklearn.feature_extraction.text import CountVectorizer \n",
    "from sklearn.feature_extraction.text import TfidfVectorizer\n",
    "\n",
    "## Unsupervised\n",
    "from sklearn.decomposition import LatentDirichletAllocation\n",
    "from sklearn.decomposition import NMF\n",
    "from sklearn.decomposition import TruncatedSVD\n",
    "\n",
    "## Plotting\n",
    "import mglearn\n",
    "import matplotlib.pyplot as plt\n",
    "\n",
    "## Genism\n",
    "import gensim\n",
    "from gensim import corpora\n",
    "\n",
    "# progress tracker \n",
    "from tqdm import tqdm"
   ]
  },
  {
   "cell_type": "markdown",
   "metadata": {},
   "source": [
    "## Webscraping (IDs 70000 to 80000) [Weida v2] <a name=\"webscrapingslowcode\"></a>"
   ]
  },
  {
   "cell_type": "code",
   "execution_count": 28,
   "metadata": {
    "collapsed": true
   },
   "outputs": [],
   "source": [
    "i = 68577\n",
    "\n",
    "url = 'http://culpa.info/reviews/{}'.format(i)\n",
    "r = urlopen(url).read() \n",
    "soup = BeautifulSoup(r, \"lxml\") \n",
    "# if review doesn't exist, it redirects to home page, maybe use len() to check if we got redirected\n",
    "#if len(soup.text) > 15500:\n",
    "#    continue"
   ]
  },
  {
   "cell_type": "code",
   "execution_count": 14,
   "metadata": {},
   "outputs": [
    {
     "data": {
      "text/plain": [
       "14935"
      ]
     },
     "execution_count": 14,
     "metadata": {},
     "output_type": "execute_result"
    }
   ],
   "source": [
    "len(soup.text)"
   ]
  },
  {
   "cell_type": "code",
   "execution_count": 35,
   "metadata": {},
   "outputs": [
    {
     "name": "stderr",
     "output_type": "stream",
     "text": [
      "100%|██████████████████████████████████████████████████████████████████████████████| 2500/2500 [04:34<00:00,  9.12it/s]\n"
     ]
    }
   ],
   "source": [
    "df = pd.DataFrame(columns=['review_id', 'review_date' ,'review_text', 'agree_score', 'disagree_score',\n",
    "                             'funny_score', 'professor_id', 'professor_name', 'course_id', 'course_name'])\n",
    "for i in tqdm(range(62500, 65000)):\n",
    "    url = 'http://culpa.info/reviews/{}'.format(i)\n",
    "    r = urlopen(url).read() \n",
    "    soup = BeautifulSoup(r, \"lxml\") \n",
    "    # if review doesn't exist, it redirects to home page, maybe use len() to check if we got redirected\n",
    "    if len(soup.text) == 14935:\n",
    "        continue\n",
    "    \n",
    "    professor = soup.find(href=re.compile('(professor)'))\n",
    "    if professor == None:\n",
    "        professor_id = None\n",
    "        professor_name = None\n",
    "    else:\n",
    "        professor_id = professor['href'][12:]\n",
    "        professor_name = professor.text\n",
    "    \n",
    "    courses = soup.find_all(href=re.compile('(courses)'))\n",
    "    if courses == None:\n",
    "        course_id = None\n",
    "        course_name = None\n",
    "    else:\n",
    "        if str(courses[-1]).find('class') == -1:\n",
    "            course_id = None\n",
    "            course_name = None\n",
    "        else:\n",
    "            course_id = courses[-1]['href'][9:]\n",
    "            course_name = courses[-1].text\n",
    "\n",
    "    review_id = soup.find(href=re.compile('(reviews)'))['href'][9:]\n",
    "    review_text = soup.find(class_='review_content').text\n",
    "    review_date = pd.Timestamp(soup.find(class_='date').text.strip())\n",
    "    agree_score = re.findall('\\d+', soup.find(class_='agree')['value'])[0]\n",
    "    disagree_score = re.findall('\\d+', soup.find(class_='disagree')['value'])[0]\n",
    "    funny_score = re.findall('\\d+', soup.find(class_='funny')['value'])[0]\n",
    "\n",
    "    to_append = pd.DataFrame(data=[review_id, review_date, review_text, agree_score, \n",
    "                                   disagree_score, funny_score, professor_id, professor_name,\n",
    "                                   course_id, course_name],\n",
    "                            index=['review_id', 'review_date' ,'review_text', 'agree_score', \n",
    "                                   'disagree_score', 'funny_score', 'professor_id', \n",
    "                                   'professor_name', 'course_id', 'course_name']).T\n",
    "    \n",
    "    df = pd.concat([df, to_append], ignore_index=True)"
   ]
  },
  {
   "cell_type": "code",
   "execution_count": 17,
   "metadata": {
    "collapsed": true
   },
   "outputs": [],
   "source": [
    "df.professor_id = df.professor_id.apply(int)"
   ]
  },
  {
   "cell_type": "code",
   "execution_count": 36,
   "metadata": {
    "collapsed": true
   },
   "outputs": [],
   "source": [
    "# Export to csv\n",
    "df.to_csv('df_62500_65k.csv')"
   ]
  },
  {
   "cell_type": "markdown",
   "metadata": {},
   "source": [
    "## Webscraping for course ids"
   ]
  },
  {
   "cell_type": "code",
   "execution_count": 79,
   "metadata": {
    "collapsed": true
   },
   "outputs": [],
   "source": [
    "tofix = pd.read_csv('tofix_ids.csv', names=['id', 'tofix'])"
   ]
  },
  {
   "cell_type": "code",
   "execution_count": 83,
   "metadata": {
    "scrolled": true
   },
   "outputs": [
    {
     "name": "stderr",
     "output_type": "stream",
     "text": [
      "\n",
      "  0%|                                                                                        | 0/25569 [00:00<?, ?it/s]\n",
      "  0%|                                                                              | 1/25569 [00:00<1:06:34,  6.40it/s]\n",
      "  0%|                                                                              | 2/25569 [00:00<1:03:15,  6.74it/s]\n",
      "  0%|                                                                              | 3/25569 [00:00<1:06:34,  6.40it/s]\n",
      "  0%|                                                                              | 4/25569 [00:00<1:06:30,  6.41it/s]\n",
      "  0%|                                                                              | 5/25569 [00:00<1:06:13,  6.43it/s]\n",
      "  0%|                                                                              | 6/25569 [00:00<1:08:30,  6.22it/s]\n",
      "  0%|                                                                              | 8/25569 [00:01<1:03:01,  6.76it/s]\n",
      "  0%|                                                                              | 9/25569 [00:01<1:01:56,  6.88it/s]\n",
      "  0%|                                                                               | 11/25569 [00:01<59:37,  7.14it/s]\n",
      "  0%|                                                                               | 13/25569 [00:01<59:08,  7.20it/s]\n",
      "  0%|                                                                               | 14/25569 [00:01<59:35,  7.15it/s]\n",
      "  0%|                                                                             | 15/25569 [00:02<1:02:12,  6.85it/s]\n",
      "  0%|                                                                             | 16/25569 [00:02<1:01:38,  6.91it/s]\n",
      "  0%|                                                                             | 17/25569 [00:02<1:12:09,  5.90it/s]\n",
      "  0%|                                                                             | 18/25569 [00:03<1:15:25,  5.65it/s]\n",
      "  0%|                                                                             | 19/25569 [00:03<1:15:38,  5.63it/s]\n",
      "  0%|                                                                             | 20/25569 [00:03<1:14:31,  5.71it/s]\n",
      "  0%|                                                                             | 21/25569 [00:03<1:15:08,  5.67it/s]\n",
      "  0%|                                                                             | 22/25569 [00:03<1:16:48,  5.54it/s]\n",
      "  0%|                                                                             | 23/25569 [00:04<1:17:09,  5.52it/s]\n",
      "  0%|                                                                             | 24/25569 [00:04<1:18:56,  5.39it/s]\n",
      "  0%|                                                                             | 25/25569 [00:04<1:18:10,  5.45it/s]\n",
      "  0%|                                                                             | 26/25569 [00:04<1:20:05,  5.32it/s]\n"
     ]
    },
    {
     "ename": "KeyboardInterrupt",
     "evalue": "",
     "output_type": "error",
     "traceback": [
      "\u001b[1;31m---------------------------------------------------------------------------\u001b[0m",
      "\u001b[1;31mKeyboardInterrupt\u001b[0m                         Traceback (most recent call last)",
      "\u001b[1;32m<ipython-input-83-1b5b2d0d0c67>\u001b[0m in \u001b[0;36m<module>\u001b[1;34m()\u001b[0m\n\u001b[0;32m      3\u001b[0m \u001b[1;32mfor\u001b[0m \u001b[0mi\u001b[0m \u001b[1;32min\u001b[0m \u001b[0mtqdm\u001b[0m\u001b[1;33m(\u001b[0m\u001b[0mlist\u001b[0m\u001b[1;33m(\u001b[0m\u001b[0mtofix\u001b[0m\u001b[1;33m.\u001b[0m\u001b[0mtofix\u001b[0m\u001b[1;33m)\u001b[0m\u001b[1;33m)\u001b[0m\u001b[1;33m:\u001b[0m\u001b[1;33m\u001b[0m\u001b[0m\n\u001b[0;32m      4\u001b[0m     \u001b[0murl\u001b[0m \u001b[1;33m=\u001b[0m \u001b[1;34m'http://culpa.info/reviews/{}'\u001b[0m\u001b[1;33m.\u001b[0m\u001b[0mformat\u001b[0m\u001b[1;33m(\u001b[0m\u001b[0mi\u001b[0m\u001b[1;33m)\u001b[0m\u001b[1;33m\u001b[0m\u001b[0m\n\u001b[1;32m----> 5\u001b[1;33m     \u001b[0mr\u001b[0m \u001b[1;33m=\u001b[0m \u001b[0murlopen\u001b[0m\u001b[1;33m(\u001b[0m\u001b[0murl\u001b[0m\u001b[1;33m)\u001b[0m\u001b[1;33m.\u001b[0m\u001b[0mread\u001b[0m\u001b[1;33m(\u001b[0m\u001b[1;33m)\u001b[0m\u001b[1;33m\u001b[0m\u001b[0m\n\u001b[0m\u001b[0;32m      6\u001b[0m     \u001b[0msoup\u001b[0m \u001b[1;33m=\u001b[0m \u001b[0mBeautifulSoup\u001b[0m\u001b[1;33m(\u001b[0m\u001b[0mr\u001b[0m\u001b[1;33m,\u001b[0m \u001b[1;34m\"lxml\"\u001b[0m\u001b[1;33m)\u001b[0m\u001b[1;33m\u001b[0m\u001b[0m\n\u001b[0;32m      7\u001b[0m \u001b[1;33m\u001b[0m\u001b[0m\n",
      "\u001b[1;32mC:\\adiewux\\Anaconda3\\lib\\urllib\\request.py\u001b[0m in \u001b[0;36murlopen\u001b[1;34m(url, data, timeout, cafile, capath, cadefault, context)\u001b[0m\n\u001b[0;32m    221\u001b[0m     \u001b[1;32melse\u001b[0m\u001b[1;33m:\u001b[0m\u001b[1;33m\u001b[0m\u001b[0m\n\u001b[0;32m    222\u001b[0m         \u001b[0mopener\u001b[0m \u001b[1;33m=\u001b[0m \u001b[0m_opener\u001b[0m\u001b[1;33m\u001b[0m\u001b[0m\n\u001b[1;32m--> 223\u001b[1;33m     \u001b[1;32mreturn\u001b[0m \u001b[0mopener\u001b[0m\u001b[1;33m.\u001b[0m\u001b[0mopen\u001b[0m\u001b[1;33m(\u001b[0m\u001b[0murl\u001b[0m\u001b[1;33m,\u001b[0m \u001b[0mdata\u001b[0m\u001b[1;33m,\u001b[0m \u001b[0mtimeout\u001b[0m\u001b[1;33m)\u001b[0m\u001b[1;33m\u001b[0m\u001b[0m\n\u001b[0m\u001b[0;32m    224\u001b[0m \u001b[1;33m\u001b[0m\u001b[0m\n\u001b[0;32m    225\u001b[0m \u001b[1;32mdef\u001b[0m \u001b[0minstall_opener\u001b[0m\u001b[1;33m(\u001b[0m\u001b[0mopener\u001b[0m\u001b[1;33m)\u001b[0m\u001b[1;33m:\u001b[0m\u001b[1;33m\u001b[0m\u001b[0m\n",
      "\u001b[1;32mC:\\adiewux\\Anaconda3\\lib\\urllib\\request.py\u001b[0m in \u001b[0;36mopen\u001b[1;34m(self, fullurl, data, timeout)\u001b[0m\n\u001b[0;32m    524\u001b[0m             \u001b[0mreq\u001b[0m \u001b[1;33m=\u001b[0m \u001b[0mmeth\u001b[0m\u001b[1;33m(\u001b[0m\u001b[0mreq\u001b[0m\u001b[1;33m)\u001b[0m\u001b[1;33m\u001b[0m\u001b[0m\n\u001b[0;32m    525\u001b[0m \u001b[1;33m\u001b[0m\u001b[0m\n\u001b[1;32m--> 526\u001b[1;33m         \u001b[0mresponse\u001b[0m \u001b[1;33m=\u001b[0m \u001b[0mself\u001b[0m\u001b[1;33m.\u001b[0m\u001b[0m_open\u001b[0m\u001b[1;33m(\u001b[0m\u001b[0mreq\u001b[0m\u001b[1;33m,\u001b[0m \u001b[0mdata\u001b[0m\u001b[1;33m)\u001b[0m\u001b[1;33m\u001b[0m\u001b[0m\n\u001b[0m\u001b[0;32m    527\u001b[0m \u001b[1;33m\u001b[0m\u001b[0m\n\u001b[0;32m    528\u001b[0m         \u001b[1;31m# post-process response\u001b[0m\u001b[1;33m\u001b[0m\u001b[1;33m\u001b[0m\u001b[0m\n",
      "\u001b[1;32mC:\\adiewux\\Anaconda3\\lib\\urllib\\request.py\u001b[0m in \u001b[0;36m_open\u001b[1;34m(self, req, data)\u001b[0m\n\u001b[0;32m    542\u001b[0m         \u001b[0mprotocol\u001b[0m \u001b[1;33m=\u001b[0m \u001b[0mreq\u001b[0m\u001b[1;33m.\u001b[0m\u001b[0mtype\u001b[0m\u001b[1;33m\u001b[0m\u001b[0m\n\u001b[0;32m    543\u001b[0m         result = self._call_chain(self.handle_open, protocol, protocol +\n\u001b[1;32m--> 544\u001b[1;33m                                   '_open', req)\n\u001b[0m\u001b[0;32m    545\u001b[0m         \u001b[1;32mif\u001b[0m \u001b[0mresult\u001b[0m\u001b[1;33m:\u001b[0m\u001b[1;33m\u001b[0m\u001b[0m\n\u001b[0;32m    546\u001b[0m             \u001b[1;32mreturn\u001b[0m \u001b[0mresult\u001b[0m\u001b[1;33m\u001b[0m\u001b[0m\n",
      "\u001b[1;32mC:\\adiewux\\Anaconda3\\lib\\urllib\\request.py\u001b[0m in \u001b[0;36m_call_chain\u001b[1;34m(self, chain, kind, meth_name, *args)\u001b[0m\n\u001b[0;32m    502\u001b[0m         \u001b[1;32mfor\u001b[0m \u001b[0mhandler\u001b[0m \u001b[1;32min\u001b[0m \u001b[0mhandlers\u001b[0m\u001b[1;33m:\u001b[0m\u001b[1;33m\u001b[0m\u001b[0m\n\u001b[0;32m    503\u001b[0m             \u001b[0mfunc\u001b[0m \u001b[1;33m=\u001b[0m \u001b[0mgetattr\u001b[0m\u001b[1;33m(\u001b[0m\u001b[0mhandler\u001b[0m\u001b[1;33m,\u001b[0m \u001b[0mmeth_name\u001b[0m\u001b[1;33m)\u001b[0m\u001b[1;33m\u001b[0m\u001b[0m\n\u001b[1;32m--> 504\u001b[1;33m             \u001b[0mresult\u001b[0m \u001b[1;33m=\u001b[0m \u001b[0mfunc\u001b[0m\u001b[1;33m(\u001b[0m\u001b[1;33m*\u001b[0m\u001b[0margs\u001b[0m\u001b[1;33m)\u001b[0m\u001b[1;33m\u001b[0m\u001b[0m\n\u001b[0m\u001b[0;32m    505\u001b[0m             \u001b[1;32mif\u001b[0m \u001b[0mresult\u001b[0m \u001b[1;32mis\u001b[0m \u001b[1;32mnot\u001b[0m \u001b[1;32mNone\u001b[0m\u001b[1;33m:\u001b[0m\u001b[1;33m\u001b[0m\u001b[0m\n\u001b[0;32m    506\u001b[0m                 \u001b[1;32mreturn\u001b[0m \u001b[0mresult\u001b[0m\u001b[1;33m\u001b[0m\u001b[0m\n",
      "\u001b[1;32mC:\\adiewux\\Anaconda3\\lib\\urllib\\request.py\u001b[0m in \u001b[0;36mhttp_open\u001b[1;34m(self, req)\u001b[0m\n\u001b[0;32m   1344\u001b[0m \u001b[1;33m\u001b[0m\u001b[0m\n\u001b[0;32m   1345\u001b[0m     \u001b[1;32mdef\u001b[0m \u001b[0mhttp_open\u001b[0m\u001b[1;33m(\u001b[0m\u001b[0mself\u001b[0m\u001b[1;33m,\u001b[0m \u001b[0mreq\u001b[0m\u001b[1;33m)\u001b[0m\u001b[1;33m:\u001b[0m\u001b[1;33m\u001b[0m\u001b[0m\n\u001b[1;32m-> 1346\u001b[1;33m         \u001b[1;32mreturn\u001b[0m \u001b[0mself\u001b[0m\u001b[1;33m.\u001b[0m\u001b[0mdo_open\u001b[0m\u001b[1;33m(\u001b[0m\u001b[0mhttp\u001b[0m\u001b[1;33m.\u001b[0m\u001b[0mclient\u001b[0m\u001b[1;33m.\u001b[0m\u001b[0mHTTPConnection\u001b[0m\u001b[1;33m,\u001b[0m \u001b[0mreq\u001b[0m\u001b[1;33m)\u001b[0m\u001b[1;33m\u001b[0m\u001b[0m\n\u001b[0m\u001b[0;32m   1347\u001b[0m \u001b[1;33m\u001b[0m\u001b[0m\n\u001b[0;32m   1348\u001b[0m     \u001b[0mhttp_request\u001b[0m \u001b[1;33m=\u001b[0m \u001b[0mAbstractHTTPHandler\u001b[0m\u001b[1;33m.\u001b[0m\u001b[0mdo_request_\u001b[0m\u001b[1;33m\u001b[0m\u001b[0m\n",
      "\u001b[1;32mC:\\adiewux\\Anaconda3\\lib\\urllib\\request.py\u001b[0m in \u001b[0;36mdo_open\u001b[1;34m(self, http_class, req, **http_conn_args)\u001b[0m\n\u001b[0;32m   1319\u001b[0m             \u001b[1;32mexcept\u001b[0m \u001b[0mOSError\u001b[0m \u001b[1;32mas\u001b[0m \u001b[0merr\u001b[0m\u001b[1;33m:\u001b[0m \u001b[1;31m# timeout error\u001b[0m\u001b[1;33m\u001b[0m\u001b[0m\n\u001b[0;32m   1320\u001b[0m                 \u001b[1;32mraise\u001b[0m \u001b[0mURLError\u001b[0m\u001b[1;33m(\u001b[0m\u001b[0merr\u001b[0m\u001b[1;33m)\u001b[0m\u001b[1;33m\u001b[0m\u001b[0m\n\u001b[1;32m-> 1321\u001b[1;33m             \u001b[0mr\u001b[0m \u001b[1;33m=\u001b[0m \u001b[0mh\u001b[0m\u001b[1;33m.\u001b[0m\u001b[0mgetresponse\u001b[0m\u001b[1;33m(\u001b[0m\u001b[1;33m)\u001b[0m\u001b[1;33m\u001b[0m\u001b[0m\n\u001b[0m\u001b[0;32m   1322\u001b[0m         \u001b[1;32mexcept\u001b[0m\u001b[1;33m:\u001b[0m\u001b[1;33m\u001b[0m\u001b[0m\n\u001b[0;32m   1323\u001b[0m             \u001b[0mh\u001b[0m\u001b[1;33m.\u001b[0m\u001b[0mclose\u001b[0m\u001b[1;33m(\u001b[0m\u001b[1;33m)\u001b[0m\u001b[1;33m\u001b[0m\u001b[0m\n",
      "\u001b[1;32mC:\\adiewux\\Anaconda3\\lib\\http\\client.py\u001b[0m in \u001b[0;36mgetresponse\u001b[1;34m(self)\u001b[0m\n\u001b[0;32m   1329\u001b[0m         \u001b[1;32mtry\u001b[0m\u001b[1;33m:\u001b[0m\u001b[1;33m\u001b[0m\u001b[0m\n\u001b[0;32m   1330\u001b[0m             \u001b[1;32mtry\u001b[0m\u001b[1;33m:\u001b[0m\u001b[1;33m\u001b[0m\u001b[0m\n\u001b[1;32m-> 1331\u001b[1;33m                 \u001b[0mresponse\u001b[0m\u001b[1;33m.\u001b[0m\u001b[0mbegin\u001b[0m\u001b[1;33m(\u001b[0m\u001b[1;33m)\u001b[0m\u001b[1;33m\u001b[0m\u001b[0m\n\u001b[0m\u001b[0;32m   1332\u001b[0m             \u001b[1;32mexcept\u001b[0m \u001b[0mConnectionError\u001b[0m\u001b[1;33m:\u001b[0m\u001b[1;33m\u001b[0m\u001b[0m\n\u001b[0;32m   1333\u001b[0m                 \u001b[0mself\u001b[0m\u001b[1;33m.\u001b[0m\u001b[0mclose\u001b[0m\u001b[1;33m(\u001b[0m\u001b[1;33m)\u001b[0m\u001b[1;33m\u001b[0m\u001b[0m\n",
      "\u001b[1;32mC:\\adiewux\\Anaconda3\\lib\\http\\client.py\u001b[0m in \u001b[0;36mbegin\u001b[1;34m(self)\u001b[0m\n\u001b[0;32m    295\u001b[0m         \u001b[1;31m# read until we get a non-100 response\u001b[0m\u001b[1;33m\u001b[0m\u001b[1;33m\u001b[0m\u001b[0m\n\u001b[0;32m    296\u001b[0m         \u001b[1;32mwhile\u001b[0m \u001b[1;32mTrue\u001b[0m\u001b[1;33m:\u001b[0m\u001b[1;33m\u001b[0m\u001b[0m\n\u001b[1;32m--> 297\u001b[1;33m             \u001b[0mversion\u001b[0m\u001b[1;33m,\u001b[0m \u001b[0mstatus\u001b[0m\u001b[1;33m,\u001b[0m \u001b[0mreason\u001b[0m \u001b[1;33m=\u001b[0m \u001b[0mself\u001b[0m\u001b[1;33m.\u001b[0m\u001b[0m_read_status\u001b[0m\u001b[1;33m(\u001b[0m\u001b[1;33m)\u001b[0m\u001b[1;33m\u001b[0m\u001b[0m\n\u001b[0m\u001b[0;32m    298\u001b[0m             \u001b[1;32mif\u001b[0m \u001b[0mstatus\u001b[0m \u001b[1;33m!=\u001b[0m \u001b[0mCONTINUE\u001b[0m\u001b[1;33m:\u001b[0m\u001b[1;33m\u001b[0m\u001b[0m\n\u001b[0;32m    299\u001b[0m                 \u001b[1;32mbreak\u001b[0m\u001b[1;33m\u001b[0m\u001b[0m\n",
      "\u001b[1;32mC:\\adiewux\\Anaconda3\\lib\\http\\client.py\u001b[0m in \u001b[0;36m_read_status\u001b[1;34m(self)\u001b[0m\n\u001b[0;32m    256\u001b[0m \u001b[1;33m\u001b[0m\u001b[0m\n\u001b[0;32m    257\u001b[0m     \u001b[1;32mdef\u001b[0m \u001b[0m_read_status\u001b[0m\u001b[1;33m(\u001b[0m\u001b[0mself\u001b[0m\u001b[1;33m)\u001b[0m\u001b[1;33m:\u001b[0m\u001b[1;33m\u001b[0m\u001b[0m\n\u001b[1;32m--> 258\u001b[1;33m         \u001b[0mline\u001b[0m \u001b[1;33m=\u001b[0m \u001b[0mstr\u001b[0m\u001b[1;33m(\u001b[0m\u001b[0mself\u001b[0m\u001b[1;33m.\u001b[0m\u001b[0mfp\u001b[0m\u001b[1;33m.\u001b[0m\u001b[0mreadline\u001b[0m\u001b[1;33m(\u001b[0m\u001b[0m_MAXLINE\u001b[0m \u001b[1;33m+\u001b[0m \u001b[1;36m1\u001b[0m\u001b[1;33m)\u001b[0m\u001b[1;33m,\u001b[0m \u001b[1;34m\"iso-8859-1\"\u001b[0m\u001b[1;33m)\u001b[0m\u001b[1;33m\u001b[0m\u001b[0m\n\u001b[0m\u001b[0;32m    259\u001b[0m         \u001b[1;32mif\u001b[0m \u001b[0mlen\u001b[0m\u001b[1;33m(\u001b[0m\u001b[0mline\u001b[0m\u001b[1;33m)\u001b[0m \u001b[1;33m>\u001b[0m \u001b[0m_MAXLINE\u001b[0m\u001b[1;33m:\u001b[0m\u001b[1;33m\u001b[0m\u001b[0m\n\u001b[0;32m    260\u001b[0m             \u001b[1;32mraise\u001b[0m \u001b[0mLineTooLong\u001b[0m\u001b[1;33m(\u001b[0m\u001b[1;34m\"status line\"\u001b[0m\u001b[1;33m)\u001b[0m\u001b[1;33m\u001b[0m\u001b[0m\n",
      "\u001b[1;32mC:\\adiewux\\Anaconda3\\lib\\socket.py\u001b[0m in \u001b[0;36mreadinto\u001b[1;34m(self, b)\u001b[0m\n\u001b[0;32m    584\u001b[0m         \u001b[1;32mwhile\u001b[0m \u001b[1;32mTrue\u001b[0m\u001b[1;33m:\u001b[0m\u001b[1;33m\u001b[0m\u001b[0m\n\u001b[0;32m    585\u001b[0m             \u001b[1;32mtry\u001b[0m\u001b[1;33m:\u001b[0m\u001b[1;33m\u001b[0m\u001b[0m\n\u001b[1;32m--> 586\u001b[1;33m                 \u001b[1;32mreturn\u001b[0m \u001b[0mself\u001b[0m\u001b[1;33m.\u001b[0m\u001b[0m_sock\u001b[0m\u001b[1;33m.\u001b[0m\u001b[0mrecv_into\u001b[0m\u001b[1;33m(\u001b[0m\u001b[0mb\u001b[0m\u001b[1;33m)\u001b[0m\u001b[1;33m\u001b[0m\u001b[0m\n\u001b[0m\u001b[0;32m    587\u001b[0m             \u001b[1;32mexcept\u001b[0m \u001b[0mtimeout\u001b[0m\u001b[1;33m:\u001b[0m\u001b[1;33m\u001b[0m\u001b[0m\n\u001b[0;32m    588\u001b[0m                 \u001b[0mself\u001b[0m\u001b[1;33m.\u001b[0m\u001b[0m_timeout_occurred\u001b[0m \u001b[1;33m=\u001b[0m \u001b[1;32mTrue\u001b[0m\u001b[1;33m\u001b[0m\u001b[0m\n",
      "\u001b[1;31mKeyboardInterrupt\u001b[0m: "
     ]
    }
   ],
   "source": [
    "df = pd.DataFrame(columns=['review_id','course_id', 'course_name'])\n",
    "\n",
    "for i in tqdm(list(tofix.tofix)):\n",
    "    url = 'http://culpa.info/reviews/{}'.format(i)\n",
    "    r = urlopen(url).read() \n",
    "    soup = BeautifulSoup(r, \"lxml\") \n",
    "    \n",
    "    review_id = i\n",
    "    \n",
    "    courses = soup.find_all(href=re.compile('(courses)'))\n",
    "    if courses == None:\n",
    "        course_id = None\n",
    "        course_name = None\n",
    "    else:\n",
    "        if str(courses[-1]).find('class') == -1:\n",
    "            course_id = None\n",
    "            course_name = None\n",
    "        else:\n",
    "            course_id = courses[-1]['href'][9:]\n",
    "            course_name = courses[-1].text\n",
    "            \n",
    "    to_append = pd.DataFrame(data=[review_id, course_id, course_name],\n",
    "                            index=['review_id', 'course_id', 'course_name']).T\n",
    "    \n",
    "    df = pd.concat([df, to_append], ignore_index=True)"
   ]
  },
  {
   "cell_type": "markdown",
   "metadata": {},
   "source": [
    "#### Check out the scraped Data: First 5 Rows"
   ]
  },
  {
   "cell_type": "code",
   "execution_count": 11,
   "metadata": {},
   "outputs": [
    {
     "data": {
      "text/html": [
       "<div>\n",
       "<style scoped>\n",
       "    .dataframe tbody tr th:only-of-type {\n",
       "        vertical-align: middle;\n",
       "    }\n",
       "\n",
       "    .dataframe tbody tr th {\n",
       "        vertical-align: top;\n",
       "    }\n",
       "\n",
       "    .dataframe thead th {\n",
       "        text-align: right;\n",
       "    }\n",
       "</style>\n",
       "<table border=\"1\" class=\"dataframe\">\n",
       "  <thead>\n",
       "    <tr style=\"text-align: right;\">\n",
       "      <th></th>\n",
       "      <th>Unnamed: 0</th>\n",
       "      <th>review_id</th>\n",
       "      <th>review_date</th>\n",
       "      <th>review_text</th>\n",
       "      <th>agree_score</th>\n",
       "      <th>disagree_score</th>\n",
       "      <th>funny_score</th>\n",
       "      <th>professor_id</th>\n",
       "      <th>professor_name</th>\n",
       "      <th>course_id</th>\n",
       "      <th>course_name</th>\n",
       "    </tr>\n",
       "  </thead>\n",
       "  <tbody>\n",
       "    <tr>\n",
       "      <th>0</th>\n",
       "      <td>0</td>\n",
       "      <td>70013</td>\n",
       "      <td>2014-12-15 00:00:00</td>\n",
       "      <td>\\r\\nBest teacher I've ever had at Columbia. \\r...</td>\n",
       "      <td>3</td>\n",
       "      <td>0</td>\n",
       "      <td>0</td>\n",
       "      <td>2080.0</td>\n",
       "      <td>Neely, Evan (TA)</td>\n",
       "      <td>137</td>\n",
       "      <td>Art Hum</td>\n",
       "    </tr>\n",
       "    <tr>\n",
       "      <th>1</th>\n",
       "      <td>1</td>\n",
       "      <td>70014</td>\n",
       "      <td>2014-12-15 00:00:00</td>\n",
       "      <td>\\r\\nAlma Mora is the WORST professor I have ha...</td>\n",
       "      <td>0</td>\n",
       "      <td>0</td>\n",
       "      <td>0</td>\n",
       "      <td>NaN</td>\n",
       "      <td>NaN</td>\n",
       "      <td>242</td>\n",
       "      <td>[SPAN V1102] Elementary Spanish II</td>\n",
       "    </tr>\n",
       "    <tr>\n",
       "      <th>2</th>\n",
       "      <td>2</td>\n",
       "      <td>70144</td>\n",
       "      <td>2014-12-15 00:00:00</td>\n",
       "      <td>\\r\\nProf. Collins did a flipped classroom form...</td>\n",
       "      <td>6</td>\n",
       "      <td>0</td>\n",
       "      <td>0</td>\n",
       "      <td>10729.0</td>\n",
       "      <td>Collins, Michael</td>\n",
       "      <td>4903</td>\n",
       "      <td>[COMS W4705] Natural Language Processing</td>\n",
       "    </tr>\n",
       "    <tr>\n",
       "      <th>3</th>\n",
       "      <td>3</td>\n",
       "      <td>70204</td>\n",
       "      <td>2014-12-15 00:00:00</td>\n",
       "      <td>\\r\\nI found this course to be a major disappoi...</td>\n",
       "      <td>4</td>\n",
       "      <td>2</td>\n",
       "      <td>0</td>\n",
       "      <td>3540.0</td>\n",
       "      <td>Gundogdu, Ayten</td>\n",
       "      <td>137</td>\n",
       "      <td>Art Hum</td>\n",
       "    </tr>\n",
       "    <tr>\n",
       "      <th>4</th>\n",
       "      <td>4</td>\n",
       "      <td>70205</td>\n",
       "      <td>2014-12-15 00:00:00</td>\n",
       "      <td>\\r\\nProf Connor's class was very enjoyable. Th...</td>\n",
       "      <td>4</td>\n",
       "      <td>0</td>\n",
       "      <td>1</td>\n",
       "      <td>2350.0</td>\n",
       "      <td>Connor, Peter</td>\n",
       "      <td>5547</td>\n",
       "      <td>[CPLT BC3110] Intro to Translation Studies</td>\n",
       "    </tr>\n",
       "  </tbody>\n",
       "</table>\n",
       "</div>"
      ],
      "text/plain": [
       "   Unnamed: 0  review_id          review_date  \\\n",
       "0           0      70013  2014-12-15 00:00:00   \n",
       "1           1      70014  2014-12-15 00:00:00   \n",
       "2           2      70144  2014-12-15 00:00:00   \n",
       "3           3      70204  2014-12-15 00:00:00   \n",
       "4           4      70205  2014-12-15 00:00:00   \n",
       "\n",
       "                                         review_text  agree_score  \\\n",
       "0  \\r\\nBest teacher I've ever had at Columbia. \\r...            3   \n",
       "1  \\r\\nAlma Mora is the WORST professor I have ha...            0   \n",
       "2  \\r\\nProf. Collins did a flipped classroom form...            6   \n",
       "3  \\r\\nI found this course to be a major disappoi...            4   \n",
       "4  \\r\\nProf Connor's class was very enjoyable. Th...            4   \n",
       "\n",
       "   disagree_score  funny_score  professor_id    professor_name  course_id  \\\n",
       "0               0            0        2080.0  Neely, Evan (TA)        137   \n",
       "1               0            0           NaN               NaN        242   \n",
       "2               0            0       10729.0  Collins, Michael       4903   \n",
       "3               2            0        3540.0   Gundogdu, Ayten        137   \n",
       "4               0            1        2350.0     Connor, Peter       5547   \n",
       "\n",
       "                                  course_name  \n",
       "0                                     Art Hum  \n",
       "1          [SPAN V1102] Elementary Spanish II  \n",
       "2    [COMS W4705] Natural Language Processing  \n",
       "3                                     Art Hum  \n",
       "4  [CPLT BC3110] Intro to Translation Studies  "
      ]
     },
     "execution_count": 11,
     "metadata": {},
     "output_type": "execute_result"
    }
   ],
   "source": [
    "df_70k_80k.head()"
   ]
  },
  {
   "cell_type": "markdown",
   "metadata": {},
   "source": [
    "# Reading in scraped csv files <a name=\"readinginscrapedcsvfiles\"></a>"
   ]
  },
  {
   "cell_type": "code",
   "execution_count": 41,
   "metadata": {
    "collapsed": true
   },
   "outputs": [],
   "source": [
    "import glob\n",
    "pattern = 'data/*.csv'\n",
    "csv_files = glob.glob(pattern)"
   ]
  },
  {
   "cell_type": "code",
   "execution_count": 42,
   "metadata": {},
   "outputs": [
    {
     "data": {
      "text/plain": [
       "['data\\\\df_0k_10k.csv',\n",
       " 'data\\\\df_10k_20k.csv',\n",
       " 'data\\\\df_20k_25k.csv',\n",
       " 'data\\\\df_25k_30k.csv',\n",
       " 'data\\\\df_30k_40k.csv',\n",
       " 'data\\\\df_40k_50k.csv',\n",
       " 'data\\\\df_50k_60k.csv',\n",
       " 'data\\\\df_60k_70k.csv',\n",
       " 'data\\\\df_70k_80k.csv',\n",
       " 'data\\\\df_80k_90k.csv']"
      ]
     },
     "execution_count": 42,
     "metadata": {},
     "output_type": "execute_result"
    }
   ],
   "source": [
    "csv_files"
   ]
  },
  {
   "cell_type": "code",
   "execution_count": 50,
   "metadata": {
    "collapsed": true
   },
   "outputs": [],
   "source": [
    "frames = []\n",
    "for csv in csv_files:\n",
    "    df = pd.read_csv(csv)\n",
    "    frames.append(df)\n",
    "\n",
    "reviews = pd.concat(frames).drop(['Unnamed: 0', 'course_id', 'course_name'],axis=1)\n"
   ]
  },
  {
   "cell_type": "code",
   "execution_count": 53,
   "metadata": {
    "collapsed": true
   },
   "outputs": [],
   "source": [
    "tofix = reviews.review_id"
   ]
  },
  {
   "cell_type": "code",
   "execution_count": 63,
   "metadata": {
    "collapsed": true
   },
   "outputs": [],
   "source": [
    "tofix.to_csv('tofix_ids.csv')"
   ]
  },
  {
   "cell_type": "code",
   "execution_count": 7,
   "metadata": {},
   "outputs": [],
   "source": [
    "df_70k_80k = pd.read_csv('data/df_70k_80k.csv')"
   ]
  },
  {
   "cell_type": "code",
   "execution_count": 8,
   "metadata": {
    "collapsed": true
   },
   "outputs": [],
   "source": [
    "df_70k_80k.agree_score = df_70k_80k.agree_score.apply(float)\n",
    "df_70k_80k.disagree_score = df_70k_80k.disagree_score.apply(float)\n",
    "df_70k_80k.funny_score = df_70k_80k.funny_score.apply(float)"
   ]
  },
  {
   "cell_type": "code",
   "execution_count": 9,
   "metadata": {},
   "outputs": [
    {
     "data": {
      "text/html": [
       "<div>\n",
       "<style>\n",
       "    .dataframe thead tr:only-child th {\n",
       "        text-align: right;\n",
       "    }\n",
       "\n",
       "    .dataframe thead th {\n",
       "        text-align: left;\n",
       "    }\n",
       "\n",
       "    .dataframe tbody tr th {\n",
       "        vertical-align: top;\n",
       "    }\n",
       "</style>\n",
       "<table border=\"1\" class=\"dataframe\">\n",
       "  <thead>\n",
       "    <tr style=\"text-align: right;\">\n",
       "      <th></th>\n",
       "      <th>Unnamed: 0</th>\n",
       "      <th>review_id</th>\n",
       "      <th>review_date</th>\n",
       "      <th>review_text</th>\n",
       "      <th>agree_score</th>\n",
       "      <th>disagree_score</th>\n",
       "      <th>funny_score</th>\n",
       "      <th>professor_id</th>\n",
       "      <th>professor_name</th>\n",
       "      <th>course_id</th>\n",
       "      <th>course_name</th>\n",
       "    </tr>\n",
       "  </thead>\n",
       "  <tbody>\n",
       "    <tr>\n",
       "      <th>0</th>\n",
       "      <td>0</td>\n",
       "      <td>70013</td>\n",
       "      <td>2014-12-15 00:00:00</td>\n",
       "      <td>\\nBest teacher I've ever had at Columbia. \\nWo...</td>\n",
       "      <td>3.0</td>\n",
       "      <td>0.0</td>\n",
       "      <td>0.0</td>\n",
       "      <td>2080.0</td>\n",
       "      <td>Neely, Evan (TA)</td>\n",
       "      <td>137</td>\n",
       "      <td>Art Hum</td>\n",
       "    </tr>\n",
       "    <tr>\n",
       "      <th>1</th>\n",
       "      <td>1</td>\n",
       "      <td>70014</td>\n",
       "      <td>2014-12-15 00:00:00</td>\n",
       "      <td>\\nAlma Mora is the WORST professor I have had ...</td>\n",
       "      <td>0.0</td>\n",
       "      <td>0.0</td>\n",
       "      <td>0.0</td>\n",
       "      <td>NaN</td>\n",
       "      <td>NaN</td>\n",
       "      <td>242</td>\n",
       "      <td>[SPAN V1102] Elementary Spanish II</td>\n",
       "    </tr>\n",
       "    <tr>\n",
       "      <th>2</th>\n",
       "      <td>2</td>\n",
       "      <td>70144</td>\n",
       "      <td>2014-12-15 00:00:00</td>\n",
       "      <td>\\nProf. Collins did a flipped classroom format...</td>\n",
       "      <td>6.0</td>\n",
       "      <td>0.0</td>\n",
       "      <td>0.0</td>\n",
       "      <td>10729.0</td>\n",
       "      <td>Collins, Michael</td>\n",
       "      <td>4903</td>\n",
       "      <td>[COMS W4705] Natural Language Processing</td>\n",
       "    </tr>\n",
       "    <tr>\n",
       "      <th>3</th>\n",
       "      <td>3</td>\n",
       "      <td>70204</td>\n",
       "      <td>2014-12-15 00:00:00</td>\n",
       "      <td>\\nI found this course to be a major disappoint...</td>\n",
       "      <td>4.0</td>\n",
       "      <td>2.0</td>\n",
       "      <td>0.0</td>\n",
       "      <td>3540.0</td>\n",
       "      <td>Gundogdu, Ayten</td>\n",
       "      <td>137</td>\n",
       "      <td>Art Hum</td>\n",
       "    </tr>\n",
       "    <tr>\n",
       "      <th>4</th>\n",
       "      <td>4</td>\n",
       "      <td>70205</td>\n",
       "      <td>2014-12-15 00:00:00</td>\n",
       "      <td>\\nProf Connor's class was very enjoyable. The ...</td>\n",
       "      <td>4.0</td>\n",
       "      <td>0.0</td>\n",
       "      <td>1.0</td>\n",
       "      <td>2350.0</td>\n",
       "      <td>Connor, Peter</td>\n",
       "      <td>5547</td>\n",
       "      <td>[CPLT BC3110] Intro to Translation Studies</td>\n",
       "    </tr>\n",
       "  </tbody>\n",
       "</table>\n",
       "</div>"
      ],
      "text/plain": [
       "   Unnamed: 0  review_id          review_date  \\\n",
       "0           0      70013  2014-12-15 00:00:00   \n",
       "1           1      70014  2014-12-15 00:00:00   \n",
       "2           2      70144  2014-12-15 00:00:00   \n",
       "3           3      70204  2014-12-15 00:00:00   \n",
       "4           4      70205  2014-12-15 00:00:00   \n",
       "\n",
       "                                         review_text  agree_score  \\\n",
       "0  \\nBest teacher I've ever had at Columbia. \\nWo...          3.0   \n",
       "1  \\nAlma Mora is the WORST professor I have had ...          0.0   \n",
       "2  \\nProf. Collins did a flipped classroom format...          6.0   \n",
       "3  \\nI found this course to be a major disappoint...          4.0   \n",
       "4  \\nProf Connor's class was very enjoyable. The ...          4.0   \n",
       "\n",
       "   disagree_score  funny_score  professor_id    professor_name  course_id  \\\n",
       "0             0.0          0.0        2080.0  Neely, Evan (TA)        137   \n",
       "1             0.0          0.0           NaN               NaN        242   \n",
       "2             0.0          0.0       10729.0  Collins, Michael       4903   \n",
       "3             2.0          0.0        3540.0   Gundogdu, Ayten        137   \n",
       "4             0.0          1.0        2350.0     Connor, Peter       5547   \n",
       "\n",
       "                                  course_name  \n",
       "0                                     Art Hum  \n",
       "1          [SPAN V1102] Elementary Spanish II  \n",
       "2    [COMS W4705] Natural Language Processing  \n",
       "3                                     Art Hum  \n",
       "4  [CPLT BC3110] Intro to Translation Studies  "
      ]
     },
     "execution_count": 9,
     "metadata": {},
     "output_type": "execute_result"
    }
   ],
   "source": [
    "df_70k_80k.head(5)"
   ]
  },
  {
   "cell_type": "markdown",
   "metadata": {},
   "source": [
    "# Classifying Reviews using the Natural Language Toolkit <a name=\"nltkpranjal\"></a>"
   ]
  },
  {
   "cell_type": "markdown",
   "metadata": {},
   "source": [
    "#### Take a subset of the data  i.e. df_70k_80k for NLTK analysis"
   ]
  },
  {
   "cell_type": "code",
   "execution_count": 87,
   "metadata": {
    "collapsed": true
   },
   "outputs": [],
   "source": [
    "sid = SentimentIntensityAnalyzer()"
   ]
  },
  {
   "cell_type": "code",
   "execution_count": 25,
   "metadata": {},
   "outputs": [],
   "source": [
    "subset = df_70k_80k \n",
    "reviews = subset['review_text'] # just the review column"
   ]
  },
  {
   "cell_type": "code",
   "execution_count": 26,
   "metadata": {},
   "outputs": [
    {
     "name": "stderr",
     "output_type": "stream",
     "text": [
      "100%|██████████| 1790/1790 [00:04<00:00, 365.70it/s]\n"
     ]
    }
   ],
   "source": [
    "all_pred_sentiments = []\n",
    "\n",
    "for review in tqdm(reviews): # for each review, \n",
    "    pred_sentiment = sid.polarity_scores(review) # calculate the sentiment scores\n",
    "    all_pred_sentiments.append(pred_sentiment) # and append them to a list"
   ]
  },
  {
   "cell_type": "code",
   "execution_count": 27,
   "metadata": {
    "collapsed": true
   },
   "outputs": [],
   "source": [
    "subset = pd.concat([subset, pd.DataFrame(all_pred_sentiments)], axis=1) # add these new columns to our dataframe"
   ]
  },
  {
   "cell_type": "markdown",
   "metadata": {},
   "source": [
    "#### Add weights for Agree/Disagree scores and append *Weighted Scores* to the DataFrame"
   ]
  },
  {
   "cell_type": "markdown",
   "metadata": {},
   "source": [
    "$$ Weight = \\frac{Agree}{Agree + Disagree}$$"
   ]
  },
  {
   "cell_type": "code",
   "execution_count": 29,
   "metadata": {
    "scrolled": true
   },
   "outputs": [
    {
     "name": "stderr",
     "output_type": "stream",
     "text": [
      "/Users/pranjalbajaj/anaconda/lib/python3.6/site-packages/ipykernel_launcher.py:1: RuntimeWarning: divide by zero encountered in reciprocal\n",
      "  \"\"\"Entry point for launching an IPython kernel.\n",
      "/Users/pranjalbajaj/anaconda/lib/python3.6/site-packages/ipykernel_launcher.py:1: RuntimeWarning: invalid value encountered in multiply\n",
      "  \"\"\"Entry point for launching an IPython kernel.\n"
     ]
    }
   ],
   "source": [
    "weight = np.multiply(subset['agree_score'], np.reciprocal(subset['agree_score'] + subset['disagree_score']))\n",
    "weight = weight.fillna(1.0)\n",
    "weight.name = 'weight'\n",
    "subset = pd.concat([subset, weight], axis=1)\n",
    "weighted_compound = np.multiply(np.transpose(subset['weight']), subset['compound'])\n",
    "weighted_compound.name = 'weighted_compound'\n",
    "subset = pd.concat([subset, weighted_compound], axis=1)"
   ]
  },
  {
   "cell_type": "code",
   "execution_count": 108,
   "metadata": {},
   "outputs": [
    {
     "data": {
      "text/plain": [
       "(1790, 17)"
      ]
     },
     "execution_count": 108,
     "metadata": {},
     "output_type": "execute_result"
    }
   ],
   "source": [
    "subset.shape"
   ]
  },
  {
   "cell_type": "markdown",
   "metadata": {},
   "source": [
    "# Using Logistic Regression For Sentiment Analysis (using NLTK results as ground truth)  <a name=\"modellingpranjal\"></a>\n",
    "\n",
    "Since, we do not have labels for our data, we use the sentiments form NLTK as ground truth and build a logistic regression model. We are assuming that NLTK provides us the ground truth, which is NOT true but we do this for exploratory purposes only and see which words/features contribute to the predicted sentiment and hence use that to improve our model"
   ]
  },
  {
   "cell_type": "markdown",
   "metadata": {},
   "source": [
    "#### 1. Make Classes from review scores"
   ]
  },
  {
   "cell_type": "code",
   "execution_count": 31,
   "metadata": {},
   "outputs": [
    {
     "name": "stderr",
     "output_type": "stream",
     "text": [
      "  0%|          | 0/1790 [00:00<?, ?it/s]/Users/pranjalbajaj/anaconda/lib/python3.6/site-packages/ipykernel_launcher.py:3: SettingWithCopyWarning: \n",
      "A value is trying to be set on a copy of a slice from a DataFrame\n",
      "\n",
      "See the caveats in the documentation: http://pandas.pydata.org/pandas-docs/stable/indexing.html#indexing-view-versus-copy\n",
      "  This is separate from the ipykernel package so we can avoid doing imports until\n",
      "/Users/pranjalbajaj/anaconda/lib/python3.6/site-packages/ipykernel_launcher.py:5: SettingWithCopyWarning: \n",
      "A value is trying to be set on a copy of a slice from a DataFrame\n",
      "\n",
      "See the caveats in the documentation: http://pandas.pydata.org/pandas-docs/stable/indexing.html#indexing-view-versus-copy\n",
      "  \"\"\"\n",
      "100%|██████████| 1790/1790 [01:11<00:00, 25.08it/s]\n"
     ]
    }
   ],
   "source": [
    "for i in tqdm(range(len(subset))):\n",
    "    if subset['compound'][i] > 0:\n",
    "        subset['compound'][i] = 1\n",
    "    else:\n",
    "        subset['compound'][i] = 0 "
   ]
  },
  {
   "cell_type": "markdown",
   "metadata": {},
   "source": [
    "#### 2. Implement CountVectorizer and TfidfVectorizer to get bag of words for Logistic Regression"
   ]
  },
  {
   "cell_type": "code",
   "execution_count": 99,
   "metadata": {
    "collapsed": true
   },
   "outputs": [],
   "source": [
    "train = (df_70k_80k['review_text'].values).astype('U')\n",
    "\n",
    "vect_count = CountVectorizer(stop_words='english').fit(train) #, ngram_range = (1, 1), min_df = 0.005\n",
    "bag_count = vect_count.transform(train)\n",
    "\n",
    "# feature names\n",
    "feature_names_count = vect_count.get_feature_names()\n",
    "\n",
    "vect_tfidf = TfidfVectorizer(stop_words='english').fit(train) #, ngram_range = (1, 1), min_df = 0.005\n",
    "bag_tfidf = vect_tfidf.transform(train)\n",
    "\n",
    "# feature names\n",
    "feature_names_tfidf = vect_tfidf.get_feature_names()\n",
    "\n",
    "y = subset['compound']"
   ]
  },
  {
   "cell_type": "code",
   "execution_count": 100,
   "metadata": {
    "collapsed": true
   },
   "outputs": [],
   "source": [
    "# Define Crossvalidation Strategy\n",
    "cv = StratifiedKFold(n_splits = 5, shuffle = True, random_state = 9598)"
   ]
  },
  {
   "cell_type": "markdown",
   "metadata": {},
   "source": [
    "#### 3 a) Run Model: Countvectorizer"
   ]
  },
  {
   "cell_type": "markdown",
   "metadata": {},
   "source": [
    "#### Initial Model"
   ]
  },
  {
   "cell_type": "code",
   "execution_count": 101,
   "metadata": {},
   "outputs": [
    {
     "data": {
      "text/plain": [
       "LogisticRegression(C=1.0, class_weight=None, dual=False, fit_intercept=True,\n",
       "          intercept_scaling=1, max_iter=100, multi_class='ovr', n_jobs=1,\n",
       "          penalty='l2', random_state=None, solver='liblinear', tol=0.0001,\n",
       "          verbose=0, warm_start=False)"
      ]
     },
     "execution_count": 101,
     "metadata": {},
     "output_type": "execute_result"
    }
   ],
   "source": [
    "lr = LogisticRegression()\n",
    "lr.fit(bag_count, y)"
   ]
  },
  {
   "cell_type": "code",
   "execution_count": 102,
   "metadata": {},
   "outputs": [
    {
     "name": "stdout",
     "output_type": "stream",
     "text": [
      "Mean cross-validation accuracy: 0.89\n"
     ]
    }
   ],
   "source": [
    "scores = cross_val_score(LogisticRegression(class_weight='balanced'), bag, y, scoring='roc_auc', cv = 5 ) \n",
    "print(\"Mean cross-validation accuracy: {:.2f}\".format(np.mean(scores))) "
   ]
  },
  {
   "cell_type": "markdown",
   "metadata": {},
   "source": [
    "#### Look at the top features i.e. words (for Initial Model)"
   ]
  },
  {
   "cell_type": "code",
   "execution_count": 103,
   "metadata": {},
   "outputs": [
    {
     "data": {
      "image/png": "[encoded data removed]",
      "text/plain": [
       "<matplotlib.figure.Figure at 0x10ddca080>"
      ]
     },
     "metadata": {},
     "output_type": "display_data"
    }
   ],
   "source": [
    "coefs = lr.coef_\n",
    "mglearn.tools.visualize_coefficients(coefs, feature_names_count, n_top_features = 20)\n",
    "plt.show()"
   ]
  },
  {
   "cell_type": "markdown",
   "metadata": {},
   "source": [
    "#### Best Model"
   ]
  },
  {
   "cell_type": "code",
   "execution_count": 106,
   "metadata": {},
   "outputs": [
    {
     "name": "stdout",
     "output_type": "stream",
     "text": [
      "0.8621320743719764\n",
      "{'logisticregression__C': 1.0}\n"
     ]
    }
   ],
   "source": [
    "pipe = make_pipeline(CountVectorizer(stop_words='english'), LogisticRegression(class_weight='balanced'))\n",
    "param_grid = {'logisticregression__C': np.logspace(0, 10, 10)}\n",
    "lr_grid = GridSearchCV(pipe, param_grid, scoring='roc_auc', cv = cv)\n",
    "\n",
    "lr_grid.fit(train, y)\n",
    "print(lr_grid.best_score_)\n",
    "print(lr_grid.best_params_)"
   ]
  },
  {
   "cell_type": "markdown",
   "metadata": {},
   "source": [
    "#### Look at the top features i.e. words (Best Model)"
   ]
  },
  {
   "cell_type": "code",
   "execution_count": 107,
   "metadata": {},
   "outputs": [
    {
     "data": {
      "image/png": "[encoded data removed]",
      "text/plain": [
       "<matplotlib.figure.Figure at 0x12ece2fd0>"
      ]
     },
     "metadata": {},
     "output_type": "display_data"
    }
   ],
   "source": [
    "coef_lr_grid = lr_grid.best_estimator_.named_steps[\"logisticregression\"].coef_\n",
    "vect_count_lr_grid = lr_grid.best_estimator_.named_steps['countvectorizer']\n",
    "feature_names_count_lr_grid = np.array(vect_count_lr_grid.get_feature_names())\n",
    "mglearn.tools.visualize_coefficients(coef_lr_grid, feature_names_count_lr_grid , n_top_features = 20)\n",
    "plt.show()                                                              "
   ]
  },
  {
   "cell_type": "markdown",
   "metadata": {},
   "source": [
    "#### 3 b) Run Model: TfidfVectorizer"
   ]
  },
  {
   "cell_type": "markdown",
   "metadata": {},
   "source": [
    "#### Best Model"
   ]
  },
  {
   "cell_type": "code",
   "execution_count": null,
   "metadata": {
    "collapsed": true
   },
   "outputs": [],
   "source": [
    "pipe = make_pipeline(TfidfVectorizer(stop_words='english'), LogisticRegression(class_weight='balanced'))\n",
    "param_grid = {'logisticregression__C': np.logspace(0, 10, 10)}\n",
    "lr_grid = GridSearchCV(pipe, param_grid, scoring='roc_auc', cv = cv)\n",
    "\n",
    "lr_grid.fit(train, y)\n",
    "print(lr_grid.best_score_)\n",
    "print(lr_grid.best_params_)"
   ]
  },
  {
   "cell_type": "markdown",
   "metadata": {},
   "source": [
    "#### Look at the top features i.e. words (Best Model)"
   ]
  },
  {
   "cell_type": "code",
   "execution_count": null,
   "metadata": {
    "collapsed": true
   },
   "outputs": [],
   "source": [
    "coef_lr_grid = lr_grid.best_estimator_.named_steps[\"logisticregression\"].coef_\n",
    "vect_count_lr_grid = lr_grid.best_estimator_.named_steps['countvectorizer']\n",
    "feature_names_count_lr_grid = np.array(vect_count_lr_grid.get_feature_names())\n",
    "mglearn.tools.visualize_coefficients(coef_lr_grid, feature_names_count_lr_grid , n_top_features = 20)\n",
    "plt.show()                                                              "
   ]
  },
  {
   "cell_type": "markdown",
   "metadata": {},
   "source": [
    "# Unsupervised Analysis: PCA, NMF and Outlier Detection <a name=\"unsupervisedpranjal\"></a>"
   ]
  },
  {
   "cell_type": "markdown",
   "metadata": {},
   "source": [
    "#### Get the top Principal Components using Truncated SVD"
   ]
  },
  {
   "cell_type": "code",
   "execution_count": 61,
   "metadata": {},
   "outputs": [
    {
     "data": {
      "text/plain": [
       "(100, 13283)"
      ]
     },
     "execution_count": 61,
     "metadata": {},
     "output_type": "execute_result"
    }
   ],
   "source": [
    "lsa = TruncatedSVD(n_components=100)\n",
    "lsa.fit_transform(bag)\n",
    "lsa.components_.shape"
   ]
  },
  {
   "cell_type": "code",
   "execution_count": 62,
   "metadata": {},
   "outputs": [
    {
     "data": {
      "image/png": "[encoded data removed]",
      "text/plain": [
       "<matplotlib.figure.Figure at 0x125b5ff98>"
      ]
     },
     "metadata": {},
     "output_type": "display_data"
    }
   ],
   "source": [
    "plt.semilogy(lsa.explained_variance_ratio_)\n",
    "plt.show()"
   ]
  },
  {
   "cell_type": "code",
   "execution_count": 63,
   "metadata": {
    "scrolled": true
   },
   "outputs": [
    {
     "data": {
      "image/png": "[encoded data removed]",
      "text/plain": [
       "<matplotlib.figure.Figure at 0x125b5f9e8>"
      ]
     },
     "metadata": {},
     "output_type": "display_data"
    }
   ],
   "source": [
    "scaler = MaxAbsScaler()\n",
    "X_scaled = scaler.fit_transform(bag) # Scale the data\n",
    "lsa_scaled = TruncatedSVD(n_components=100)\n",
    "\n",
    "X_lsa_scaled = lsa_scaled.fit_transform(X_scaled)\n",
    "\n",
    "plt.scatter(X_lsa_scaled[:, 1], X_lsa_scaled[:, 3], alpha=.1, c=y)\n",
    "plt.show()"
   ]
  },
  {
   "cell_type": "markdown",
   "metadata": {},
   "source": [
    "#### NMF Decomposition "
   ]
  },
  {
   "cell_type": "code",
   "execution_count": 85,
   "metadata": {},
   "outputs": [
    {
     "data": {
      "text/plain": [
       "NMF(alpha=0.0, beta_loss='frobenius', init=None, l1_ratio=0.0, max_iter=200,\n",
       "  n_components=100, random_state=None, shuffle=False, solver='cd',\n",
       "  tol=0.01, verbose=0)"
      ]
     },
     "execution_count": 85,
     "metadata": {},
     "output_type": "execute_result"
    }
   ],
   "source": [
    "lr_lsa = LogisticRegression(C=100).fit(X_lsa_scaled[:, :10], y)\n",
    "\n",
    "nmf_scale = NMF(n_components=100, verbose=0, tol=0.01) # verbose tells it to shut up and not update results\n",
    "nmf_scale.fit(X_scaled)"
   ]
  },
  {
   "cell_type": "code",
   "execution_count": 65,
   "metadata": {
    "collapsed": true
   },
   "outputs": [],
   "source": [
    "coefs = nmf_scale.components_\n",
    "feature_names = vect.get_feature_names()"
   ]
  },
  {
   "cell_type": "markdown",
   "metadata": {},
   "source": [
    "#### LDA "
   ]
  },
  {
   "cell_type": "code",
   "execution_count": 66,
   "metadata": {
    "collapsed": true
   },
   "outputs": [],
   "source": [
    "lda = LatentDirichletAllocation(n_components=10, learning_method=\"batch\")\n",
    "X_lda = lda.fit_transform(bag)"
   ]
  },
  {
   "cell_type": "code",
   "execution_count": 67,
   "metadata": {
    "collapsed": true
   },
   "outputs": [],
   "source": [
    "lda100 = LatentDirichletAllocation(n_components=100, learning_method=\"batch\")\n",
    "X_lda100 = lda100.fit_transform(bag)"
   ]
  },
  {
   "cell_type": "code",
   "execution_count": null,
   "metadata": {
    "collapsed": true
   },
   "outputs": [],
   "source": [
    "pd.DataFrame(lda100.components_)"
   ]
  },
  {
   "cell_type": "markdown",
   "metadata": {},
   "source": [
    "#### LDA Produces Horrible Results: Need to fine tune... "
   ]
  },
  {
   "cell_type": "code",
   "execution_count": 112,
   "metadata": {},
   "outputs": [
    {
     "name": "stdout",
     "output_type": "stream",
     "text": [
      "Topic %d:\n",
      "daniel arvind roma dodd friedman 400 heather ml game postings\n",
      "Topic %d:\n",
      "dan daniela passages urdu insane pts tyerman miguel janet aftab\n",
      "Topic %d:\n",
      "stats levy korean rubenstein kim karen lead varzi mowsh experiment\n",
      "Topic %d:\n",
      "class professor final really workload course midterm students just time\n",
      "Topic %d:\n",
      "bayer ellsberg arbitrary af como postings christia blake cohen meaningful\n",
      "Topic %d:\n",
      "lilla nathan taylor quantum vogel krauss algos christina samuel carefully\n",
      "Topic %d:\n",
      "african crary dani film opaque garb dont clarity asian happens\n",
      "Topic %d:\n",
      "reports lab semesters answered struggle planning gen listenings drill arabic\n",
      "Topic %d:\n",
      "genius dont baker approximation insanely zarghamee ieee bro rieder gamber\n",
      "Topic %d:\n",
      "qi luke laoshi plays xavi neath sachin kat intaglio cloud\n"
     ]
    }
   ],
   "source": [
    "def display_topics(model, feature_names, no_top_words):\n",
    "    for topic_idx, topic in enumerate(model.components_):\n",
    "        print(\"Topic %d:\".format(topic_idx))\n",
    "        print(\" \".join([feature_names[i]\n",
    "                        for i in topic.argsort()[:-no_top_words - 1:-1]]))\n",
    "\n",
    "display_topics(lda, feature_names_tfidf, 10)"
   ]
  },
  {
   "cell_type": "markdown",
   "metadata": {},
   "source": [
    "## Genism -- Continue Here\n",
    "https://amueller.github.io/COMS4995-s18/slides/aml-21-041118-word-embeddings/#p37"
   ]
  },
  {
   "cell_type": "code",
   "execution_count": 69,
   "metadata": {
    "collapsed": true
   },
   "outputs": [],
   "source": [
    "docs = train\n",
    "texts = [[token for token in doc.lower().split()] for doc in docs]"
   ]
  },
  {
   "cell_type": "code",
   "execution_count": 70,
   "metadata": {},
   "outputs": [
    {
     "name": "stdout",
     "output_type": "stream",
     "text": [
      "Dictionary(27373 unique tokens: ['amount', 'at', 'average', 'best', 'columbia.']...)\n"
     ]
    }
   ],
   "source": [
    "dictionary = corpora.Dictionary(texts)\n",
    "print(dictionary)"
   ]
  },
  {
   "cell_type": "code",
   "execution_count": 71,
   "metadata": {},
   "outputs": [
    {
     "ename": "NameError",
     "evalue": "name 'corpus' is not defined",
     "output_type": "error",
     "traceback": [
      "\u001b[0;31m---------------------------------------------------------------------------\u001b[0m",
      "\u001b[0;31mNameError\u001b[0m                                 Traceback (most recent call last)",
      "\u001b[0;32m<ipython-input-71-9fd2d22261fe>\u001b[0m in \u001b[0;36m<module>\u001b[0;34m()\u001b[0m\n\u001b[1;32m      1\u001b[0m \u001b[0;32mimport\u001b[0m \u001b[0mgensim\u001b[0m\u001b[0;34m\u001b[0m\u001b[0m\n\u001b[0;32m----> 2\u001b[0;31m \u001b[0mcorpus\u001b[0m\u001b[0;34m\u001b[0m\u001b[0m\n\u001b[0m\u001b[1;32m      3\u001b[0m \u001b[0mgensim\u001b[0m\u001b[0;34m.\u001b[0m\u001b[0mmatutils\u001b[0m\u001b[0;34m.\u001b[0m\u001b[0mcorpus2csc\u001b[0m\u001b[0;34m(\u001b[0m\u001b[0mcorpus\u001b[0m\u001b[0;34m)\u001b[0m\u001b[0;34m\u001b[0m\u001b[0m\n\u001b[1;32m      4\u001b[0m \u001b[0mX\u001b[0m \u001b[0;34m=\u001b[0m \u001b[0mCountVectorizer\u001b[0m\u001b[0;34m(\u001b[0m\u001b[0;34m)\u001b[0m\u001b[0;34m.\u001b[0m\u001b[0mfit_transform\u001b[0m\u001b[0;34m(\u001b[0m\u001b[0mdocs\u001b[0m\u001b[0;34m)\u001b[0m\u001b[0;34m\u001b[0m\u001b[0m\n\u001b[1;32m      5\u001b[0m \u001b[0mX\u001b[0m\u001b[0;34m\u001b[0m\u001b[0m\n",
      "\u001b[0;31mNameError\u001b[0m: name 'corpus' is not defined"
     ]
    }
   ],
   "source": [
    "corpus\n",
    "gensim.matutils.corpus2csc(corpus)\n",
    "X = CountVectorizer().fit_transform(docs)\n",
    "X"
   ]
  },
  {
   "cell_type": "code",
   "execution_count": null,
   "metadata": {
    "collapsed": true
   },
   "outputs": [],
   "source": [
    "sparse_corpus = gensim.matutils.Sparse2Corpus(X.T)\n",
    "print(sparse_corpus)\n",
    "print(list(sparse_corpus))"
   ]
  },
  {
   "cell_type": "code",
   "execution_count": null,
   "metadata": {
    "collapsed": true
   },
   "outputs": [],
   "source": []
  },
  {
   "cell_type": "markdown",
   "metadata": {},
   "source": [
    "\n",
    "---\n",
    "# Old code <a name=\"oldcode\"></a>"
   ]
  },
  {
   "cell_type": "markdown",
   "metadata": {},
   "source": [
    "### Webscraping (IDs 20000 to 20100) [Weida]"
   ]
  },
  {
   "cell_type": "code",
   "execution_count": 80,
   "metadata": {},
   "outputs": [
    {
     "name": "stderr",
     "output_type": "stream",
     "text": [
      "100%|██████████| 100/100 [01:45<00:00,  1.05s/it]\n"
     ]
    }
   ],
   "source": [
    "'''\n",
    "from bs4 import BeautifulSoup \n",
    "import re\n",
    "from urllib.request import urlopen \n",
    "import pandas as pd\n",
    "from tqdm import tqdm #shows progress\n",
    "\n",
    "df_200_201 = pd.DataFrame(columns=['review_id', 'review_date' ,'review_text', 'agree_score', 'disagree_score',\n",
    "                             'funny_score', 'professor_id', 'professor_name'])\n",
    "for i in tqdm(range(20000, 20100)):\n",
    "    url = 'http://culpa.info/reviews/{}'.format(i)\n",
    "    r = urlopen(url).read() \n",
    "    soup = BeautifulSoup(r, \"lxml\") \n",
    "    # if review doesn't exist, it redirects to home page, maybe use len() to check if we got redirected\n",
    "    if len(soup.text) > 15500:\n",
    "        continue\n",
    "\n",
    "    professor_id = int(soup.find(href=re.compile('(professor)'))['href'][12:])\n",
    "    professor_name = soup.find(href=re.compile('(professor)')).text\n",
    "    review_id = int(soup.find(href=re.compile('(reviews)'))['href'][9:])\n",
    "    review_text = soup.find(class_='review_content').text\n",
    "    review_date = pd.Timestamp(soup.find(class_='date').text.strip())\n",
    "    agree_score = int(re.findall('\\d+', soup.find(class_='agree')['value'])[0])\n",
    "    disagree_score = int(re.findall('\\d+', soup.find(class_='disagree')['value'])[0])\n",
    "    funny_score = int(re.findall('\\d+', soup.find(class_='funny')['value'])[0])\n",
    "\n",
    "    to_append = pd.DataFrame(data=[review_id, review_date, review_text, agree_score, \n",
    "                              disagree_score, funny_score, professor_id, professor_name],\n",
    "                            index=['review_id', 'review_date' ,'review_text', 'agree_score', \n",
    "                              'disagree_score', 'funny_score', 'professor_id', 'professor_name']).T\n",
    "    \n",
    "    df_200_201 = pd.concat([df_200_201, to_append], ignore_index=True)\n",
    "'''"
   ]
  },
  {
   "cell_type": "markdown",
   "metadata": {},
   "source": [
    "#### Check out the scraped data: : First 5 Rows"
   ]
  },
  {
   "cell_type": "code",
   "execution_count": 8,
   "metadata": {
    "scrolled": true
   },
   "outputs": [
    {
     "data": {
      "text/html": [
       "<div>\n",
       "<style>\n",
       "    .dataframe thead tr:only-child th {\n",
       "        text-align: right;\n",
       "    }\n",
       "\n",
       "    .dataframe thead th {\n",
       "        text-align: left;\n",
       "    }\n",
       "\n",
       "    .dataframe tbody tr th {\n",
       "        vertical-align: top;\n",
       "    }\n",
       "</style>\n",
       "<table border=\"1\" class=\"dataframe\">\n",
       "  <thead>\n",
       "    <tr style=\"text-align: right;\">\n",
       "      <th></th>\n",
       "      <th>review_id</th>\n",
       "      <th>review_date</th>\n",
       "      <th>review_text</th>\n",
       "      <th>agree_score</th>\n",
       "      <th>disagree_score</th>\n",
       "      <th>funny_score</th>\n",
       "      <th>professor_id</th>\n",
       "      <th>professor_name</th>\n",
       "    </tr>\n",
       "  </thead>\n",
       "  <tbody>\n",
       "    <tr>\n",
       "      <th>0</th>\n",
       "      <td>20000</td>\n",
       "      <td>2007-05-18 00:00:00</td>\n",
       "      <td>\\nComing off a semester of very little work in...</td>\n",
       "      <td>0</td>\n",
       "      <td>0</td>\n",
       "      <td>0</td>\n",
       "      <td>3281</td>\n",
       "      <td>Veneziano Broccia, Lillyrose</td>\n",
       "    </tr>\n",
       "    <tr>\n",
       "      <th>1</th>\n",
       "      <td>20001</td>\n",
       "      <td>2007-05-18 00:00:00</td>\n",
       "      <td>\\nI had Professor Robbins for a lecture in the...</td>\n",
       "      <td>4</td>\n",
       "      <td>2</td>\n",
       "      <td>0</td>\n",
       "      <td>744</td>\n",
       "      <td>Robbins, Bruce</td>\n",
       "    </tr>\n",
       "    <tr>\n",
       "      <th>2</th>\n",
       "      <td>20002</td>\n",
       "      <td>2007-05-18 00:00:00</td>\n",
       "      <td>\\nIt's a little hard for me to criticize Profe...</td>\n",
       "      <td>5</td>\n",
       "      <td>2</td>\n",
       "      <td>0</td>\n",
       "      <td>115</td>\n",
       "      <td>Sacks, Richard</td>\n",
       "    </tr>\n",
       "    <tr>\n",
       "      <th>3</th>\n",
       "      <td>20003</td>\n",
       "      <td>2007-05-18 00:00:00</td>\n",
       "      <td>\\nThis class was a disaster. Professor Daniel ...</td>\n",
       "      <td>4</td>\n",
       "      <td>2</td>\n",
       "      <td>0</td>\n",
       "      <td>456</td>\n",
       "      <td>Daniel, Valentine</td>\n",
       "    </tr>\n",
       "    <tr>\n",
       "      <th>4</th>\n",
       "      <td>20004</td>\n",
       "      <td>2007-05-19 00:00:00</td>\n",
       "      <td>\\nLovely class and professor. The class was mo...</td>\n",
       "      <td>3</td>\n",
       "      <td>3</td>\n",
       "      <td>0</td>\n",
       "      <td>2371</td>\n",
       "      <td>Radwan, Noha</td>\n",
       "    </tr>\n",
       "  </tbody>\n",
       "</table>\n",
       "</div>"
      ],
      "text/plain": [
       "  review_id          review_date  \\\n",
       "0     20000  2007-05-18 00:00:00   \n",
       "1     20001  2007-05-18 00:00:00   \n",
       "2     20002  2007-05-18 00:00:00   \n",
       "3     20003  2007-05-18 00:00:00   \n",
       "4     20004  2007-05-19 00:00:00   \n",
       "\n",
       "                                         review_text agree_score  \\\n",
       "0  \\nComing off a semester of very little work in...           0   \n",
       "1  \\nI had Professor Robbins for a lecture in the...           4   \n",
       "2  \\nIt's a little hard for me to criticize Profe...           5   \n",
       "3  \\nThis class was a disaster. Professor Daniel ...           4   \n",
       "4  \\nLovely class and professor. The class was mo...           3   \n",
       "\n",
       "  disagree_score funny_score professor_id                professor_name  \n",
       "0              0           0         3281  Veneziano Broccia, Lillyrose  \n",
       "1              2           0          744                Robbins, Bruce  \n",
       "2              2           0          115                Sacks, Richard  \n",
       "3              2           0          456            Daniel, Valentine   \n",
       "4              3           0         2371                  Radwan, Noha  "
      ]
     },
     "execution_count": 8,
     "metadata": {},
     "output_type": "execute_result"
    }
   ],
   "source": [
    "df_200_201.head()"
   ]
  },
  {
   "cell_type": "markdown",
   "metadata": {},
   "source": [
    "### Weights"
   ]
  },
  {
   "cell_type": "markdown",
   "metadata": {},
   "source": [
    "Formula to calculate weights while iterating (Sorry, can't get it to function -- brain dead right now haha :P)\n",
    "#### Can anyone fix this?\n",
    "- **skipped using loops, refer to above [weida]**"
   ]
  },
  {
   "cell_type": "code",
   "execution_count": 136,
   "metadata": {
    "scrolled": true
   },
   "outputs": [
    {
     "name": "stderr",
     "output_type": "stream",
     "text": [
      "\n",
      "  0%|          | 0/20 [00:00<?, ?it/s]\n"
     ]
    },
    {
     "ename": "TypeError",
     "evalue": "cannot concatenate a non-NDFrame object",
     "output_type": "error",
     "traceback": [
      "\u001b[0;31m---------------------------------------------------------------------------\u001b[0m",
      "\u001b[0;31mTypeError\u001b[0m                                 Traceback (most recent call last)",
      "\u001b[0;32m<ipython-input-136-58a8d6a529f8>\u001b[0m in \u001b[0;36m<module>\u001b[0;34m()\u001b[0m\n\u001b[1;32m      7\u001b[0m         \u001b[0mweights\u001b[0m \u001b[0;34m=\u001b[0m \u001b[0msubset\u001b[0m\u001b[0;34m.\u001b[0m\u001b[0mloc\u001b[0m\u001b[0;34m[\u001b[0m\u001b[0mi\u001b[0m\u001b[0;34m,\u001b[0m\u001b[0;34m'agree_score'\u001b[0m\u001b[0;34m]\u001b[0m \u001b[0;34m/\u001b[0m \u001b[0mdenominator\u001b[0m\u001b[0;34m\u001b[0m\u001b[0m\n\u001b[1;32m      8\u001b[0m         \u001b[0mw_score\u001b[0m \u001b[0;34m=\u001b[0m \u001b[0msubset\u001b[0m\u001b[0;34m.\u001b[0m\u001b[0mloc\u001b[0m\u001b[0;34m[\u001b[0m\u001b[0mi\u001b[0m\u001b[0;34m,\u001b[0m\u001b[0;34m'compound'\u001b[0m\u001b[0;34m]\u001b[0m \u001b[0;34m*\u001b[0m \u001b[0mweight\u001b[0m \u001b[0;31m#calculate weighted score (w_score)\u001b[0m\u001b[0;34m\u001b[0m\u001b[0m\n\u001b[0;32m----> 9\u001b[0;31m         \u001b[0mweighted_score\u001b[0m\u001b[0;34m.\u001b[0m\u001b[0mappend\u001b[0m\u001b[0;34m(\u001b[0m\u001b[0mw_score\u001b[0m\u001b[0;34m)\u001b[0m \u001b[0;31m#append it to the empty pandas column\u001b[0m\u001b[0;34m\u001b[0m\u001b[0m\n\u001b[0m\u001b[1;32m     10\u001b[0m \u001b[0;34m\u001b[0m\u001b[0m\n\u001b[1;32m     11\u001b[0m \u001b[0msubset\u001b[0m \u001b[0;34m=\u001b[0m \u001b[0mpd\u001b[0m\u001b[0;34m.\u001b[0m\u001b[0mconcat\u001b[0m\u001b[0;34m(\u001b[0m\u001b[0;34m[\u001b[0m\u001b[0msubset\u001b[0m\u001b[0;34m,\u001b[0m \u001b[0mweighted_score\u001b[0m\u001b[0;34m]\u001b[0m\u001b[0;34m,\u001b[0m \u001b[0mignore_index\u001b[0m\u001b[0;34m=\u001b[0m\u001b[0;32mTrue\u001b[0m\u001b[0;34m)\u001b[0m \u001b[0;31m#add to the our dataframe, subset\u001b[0m\u001b[0;34m\u001b[0m\u001b[0m\n",
      "\u001b[0;32m/Users/pranjalbajaj/anaconda/lib/python3.6/site-packages/pandas/core/frame.py\u001b[0m in \u001b[0;36mappend\u001b[0;34m(self, other, ignore_index, verify_integrity)\u001b[0m\n\u001b[1;32m   4643\u001b[0m             \u001b[0mto_concat\u001b[0m \u001b[0;34m=\u001b[0m \u001b[0;34m[\u001b[0m\u001b[0mself\u001b[0m\u001b[0;34m,\u001b[0m \u001b[0mother\u001b[0m\u001b[0;34m]\u001b[0m\u001b[0;34m\u001b[0m\u001b[0m\n\u001b[1;32m   4644\u001b[0m         return concat(to_concat, ignore_index=ignore_index,\n\u001b[0;32m-> 4645\u001b[0;31m                       verify_integrity=verify_integrity)\n\u001b[0m\u001b[1;32m   4646\u001b[0m \u001b[0;34m\u001b[0m\u001b[0m\n\u001b[1;32m   4647\u001b[0m     def join(self, other, on=None, how='left', lsuffix='', rsuffix='',\n",
      "\u001b[0;32m/Users/pranjalbajaj/anaconda/lib/python3.6/site-packages/pandas/core/reshape/concat.py\u001b[0m in \u001b[0;36mconcat\u001b[0;34m(objs, axis, join, join_axes, ignore_index, keys, levels, names, verify_integrity, copy)\u001b[0m\n\u001b[1;32m    204\u001b[0m                        \u001b[0mkeys\u001b[0m\u001b[0;34m=\u001b[0m\u001b[0mkeys\u001b[0m\u001b[0;34m,\u001b[0m \u001b[0mlevels\u001b[0m\u001b[0;34m=\u001b[0m\u001b[0mlevels\u001b[0m\u001b[0;34m,\u001b[0m \u001b[0mnames\u001b[0m\u001b[0;34m=\u001b[0m\u001b[0mnames\u001b[0m\u001b[0;34m,\u001b[0m\u001b[0;34m\u001b[0m\u001b[0m\n\u001b[1;32m    205\u001b[0m                        \u001b[0mverify_integrity\u001b[0m\u001b[0;34m=\u001b[0m\u001b[0mverify_integrity\u001b[0m\u001b[0;34m,\u001b[0m\u001b[0;34m\u001b[0m\u001b[0m\n\u001b[0;32m--> 206\u001b[0;31m                        copy=copy)\n\u001b[0m\u001b[1;32m    207\u001b[0m     \u001b[0;32mreturn\u001b[0m \u001b[0mop\u001b[0m\u001b[0;34m.\u001b[0m\u001b[0mget_result\u001b[0m\u001b[0;34m(\u001b[0m\u001b[0;34m)\u001b[0m\u001b[0;34m\u001b[0m\u001b[0m\n\u001b[1;32m    208\u001b[0m \u001b[0;34m\u001b[0m\u001b[0m\n",
      "\u001b[0;32m/Users/pranjalbajaj/anaconda/lib/python3.6/site-packages/pandas/core/reshape/concat.py\u001b[0m in \u001b[0;36m__init__\u001b[0;34m(self, objs, axis, join, join_axes, keys, levels, names, ignore_index, verify_integrity, copy)\u001b[0m\n\u001b[1;32m    261\u001b[0m         \u001b[0;32mfor\u001b[0m \u001b[0mobj\u001b[0m \u001b[0;32min\u001b[0m \u001b[0mobjs\u001b[0m\u001b[0;34m:\u001b[0m\u001b[0;34m\u001b[0m\u001b[0m\n\u001b[1;32m    262\u001b[0m             \u001b[0;32mif\u001b[0m \u001b[0;32mnot\u001b[0m \u001b[0misinstance\u001b[0m\u001b[0;34m(\u001b[0m\u001b[0mobj\u001b[0m\u001b[0;34m,\u001b[0m \u001b[0mNDFrame\u001b[0m\u001b[0;34m)\u001b[0m\u001b[0;34m:\u001b[0m\u001b[0;34m\u001b[0m\u001b[0m\n\u001b[0;32m--> 263\u001b[0;31m                 \u001b[0;32mraise\u001b[0m \u001b[0mTypeError\u001b[0m\u001b[0;34m(\u001b[0m\u001b[0;34m\"cannot concatenate a non-NDFrame object\"\u001b[0m\u001b[0;34m)\u001b[0m\u001b[0;34m\u001b[0m\u001b[0m\n\u001b[0m\u001b[1;32m    264\u001b[0m \u001b[0;34m\u001b[0m\u001b[0m\n\u001b[1;32m    265\u001b[0m             \u001b[0;31m# consolidate\u001b[0m\u001b[0;34m\u001b[0m\u001b[0;34m\u001b[0m\u001b[0m\n",
      "\u001b[0;31mTypeError\u001b[0m: cannot concatenate a non-NDFrame object"
     ]
    }
   ],
   "source": [
    "weighted_score = pd.DataFrame({'weighted_score' : []}) #empty pandas column\n",
    "\n",
    "for i in tqdm(range(len(subset.index))): #iterate over length of dataframe (i.e. subset.index)\n",
    "    denominator = subset.loc[i,'agree_score'] + subset.loc[i,'disagree_score']\n",
    "    \n",
    "    if denominator != 0: #to avoid math error \n",
    "        weights = subset.loc[i,'agree_score'] / denominator\n",
    "        w_score = subset.loc[i,'compound'] * weight #calculate weighted score (w_score)\n",
    "        weighted_score.append(w_score) #append it to the empty pandas column\n",
    "\n",
    "subset = pd.concat([subset, weighted_score], ignore_index=True) #add to the our dataframe, subset"
   ]
  }
 ],
 "metadata": {
  "kernelspec": {
   "display_name": "Python 3",
   "language": "python",
   "name": "python3"
  },
  "language_info": {
   "codemirror_mode": {
    "name": "ipython",
    "version": 3
   },
   "file_extension": ".py",
   "mimetype": "text/x-python",
   "name": "python",
   "nbconvert_exporter": "python",
   "pygments_lexer": "ipython3",
   "version": "3.6.1"
  }
 },
 "nbformat": 4,
 "nbformat_minor": 2
}
